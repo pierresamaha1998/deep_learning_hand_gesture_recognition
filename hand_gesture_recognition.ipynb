{
  "cells": [
    {
      "cell_type": "markdown",
      "metadata": {
        "id": "ACry_vIswInt"
      },
      "source": [
        "# Deep Learning for Hand Gesture Recognition with Tensorflow: Temporal Convolution 1D and RNN"
      ]
    },
    {
      "cell_type": "markdown",
      "metadata": {
        "id": "uIqcb9y4wInu"
      },
      "source": [
        "This notebook is a demo tensorflow implementation of the deep learning model for hand gesture recognition introduced in the article [Deep Learning for Hand Gesture Recognition on Skeletal Data](https://ieeexplore.ieee.org/document/8373818) from G. Devineau, F. Moutarde, W. Xi and J. Yang.\n",
        "\n",
        "I am going to implement RNN with LSTM layers for this problem. This will be my first experience with RNN."
      ]
    },
    {
      "cell_type": "markdown",
      "metadata": {
        "id": "AIPpe_3nwIny"
      },
      "source": [
        "### 1. Imports"
      ]
    },
    {
      "cell_type": "code",
      "execution_count": 3,
      "metadata": {
        "id": "l4H6JBm4k-4q"
      },
      "outputs": [],
      "source": [
        "import itertools\n",
        "import numpy\n",
        "import pickle\n",
        "import time\n",
        "import math\n",
        "import tensorflow\n",
        "import tensorflow.keras as keras\n",
        "\n",
        "from scipy import ndimage as ndimage\n",
        "from sklearn.utils import shuffle\n",
        "from tensorflow.keras.utils import to_categorical\n",
        "from tensorflow.keras.utils import plot_model\n",
        "from tensorflow.keras.models import Model, Sequential\n",
        "from tensorflow.keras.layers import Input, Conv1D, AveragePooling1D, Dropout, Flatten, Lambda, Dense, LSTM\n",
        "from tensorflow.keras.layers import concatenate\n",
        "from tensorflow.keras.backend import expand_dims\n",
        "from tensorflow.keras.optimizers import Adam\n",
        "from matplotlib import pyplot as plt"
      ]
    },
    {
      "cell_type": "markdown",
      "metadata": {
        "id": "4sABHssjwIoF"
      },
      "source": [
        "### 2. Utils"
      ]
    },
    {
      "cell_type": "markdown",
      "metadata": {
        "id": "VWMTV22kwIoH"
      },
      "source": [
        "#### 2.1. Gesture Dataset"
      ]
    },
    {
      "cell_type": "markdown",
      "metadata": {
        "id": "Sg1VDVGywIoI"
      },
      "source": [
        "If you don't have your own gesture dataset, you might want to download one of these hand gesture datasets:\n",
        "  - DHG 14/28 Dataset: http://www-rech.telecom-lille.fr/DHGdataset/\n",
        "  - SHREC 17 Track Dataset: http://www-rech.telecom-lille.fr/shrec2017-hand/)\n",
        "\n",
        "or here (ready-to-use dataset, pre-loaded into a single pickle file `shrec_data.pckl`):\n",
        "  - SHREC 17 Track Dataset: https://cloud.mines-paristech.fr/index.php/s/9U4bjHrvp8u2pnS"
      ]
    },
    {
      "cell_type": "code",
      "execution_count": 4,
      "metadata": {
        "id": "yDfbySnAwIoI"
      },
      "outputs": [],
      "source": [
        "def load_data(filepath='./shrec2017_skel-data.pckl'):\n",
        "    \"\"\"\n",
        "    Returns hand gesture sequences (X) and their associated labels (Y).\n",
        "    Each sequence has two different labels.\n",
        "    The first label  Y describes the gesture class out of 14 possible gestures (e.g. swiping your hand to the right).\n",
        "    The second label Y describes the gesture class out of 28 possible gestures (e.g. swiping your hand to the right with your index pointed, or not pointed).\n",
        "    \"\"\"\n",
        "    file = open(filepath, 'rb')\n",
        "    data = pickle.load(file, encoding='latin1')\n",
        "    file.close()\n",
        "    return data['x_train'], data['x_test'], data['y_train_14'], data['y_train_28'], data['y_test_14'], data['y_test_28']"
      ]
    },
    {
      "cell_type": "markdown",
      "metadata": {
        "id": "mifaWsQTk-4y"
      },
      "source": [
        "#### 2.2 Working With Google Collab"
      ]
    },
    {
      "cell_type": "code",
      "execution_count": 5,
      "metadata": {
        "colab": {
          "base_uri": "https://localhost:8080/"
        },
        "id": "djjlTjsrk-4y",
        "outputId": "34ca1afc-cacb-4e7d-84f4-73c1f4a5dc30"
      },
      "outputs": [
        {
          "output_type": "stream",
          "name": "stdout",
          "text": [
            "Mounted at /content/drive\n"
          ]
        }
      ],
      "source": [
        "# Load the Drive helper and mount\n",
        "from google.colab import drive\n",
        "drive.mount('/content/drive')\n",
        "\n",
        "path = \"/content/drive/My Drive/Hand gesture classification/HandGesturesDHG/\"\n",
        "\n",
        "def load_data(filepath='shrec2017_skel-data.pckl'):\n",
        "    \"\"\"\n",
        "    Returns hand gesture sequences (X) and their associated labels (Y).\n",
        "    Each sequence has two different labels.\n",
        "    The first label  Y describes the gesture class out of 14 possible gestures (e.g. swiping your hand to the right).\n",
        "    The second label Y describes the gesture class out of 28 possible gestures (e.g. swiping your hand to the right with your index pointed, or not pointed).\n",
        "    \"\"\"\n",
        "    file = open(path + filepath, 'rb')\n",
        "    data = pickle.load(file, encoding='latin1')\n",
        "    file.close()\n",
        "    return data['x_train'], data['x_test'], data['y_train_14'], data['y_train_28'], data['y_test_14'], data['y_test_28']"
      ]
    },
    {
      "cell_type": "markdown",
      "metadata": {
        "id": "8Dh0wWvVOeIK"
      },
      "source": [
        "#### 2.3 Preprocess"
      ]
    },
    {
      "cell_type": "code",
      "execution_count": 6,
      "metadata": {
        "id": "yYMAOcXYwIoL"
      },
      "outputs": [],
      "source": [
        "def resize_sequences_length(x_train, x_test, final_length=100):\n",
        "    \"\"\"\n",
        "    Resize the time series by interpolating them to the same length\n",
        "    \"\"\"\n",
        "    x_train = numpy.array([numpy.array([ndimage.zoom(x_i.T[j], final_length / len(x_i), mode='reflect') for j in range(numpy.size(x_i, 1))]).T for x_i in x_train])\n",
        "    x_test  = numpy.array([numpy.array([ndimage.zoom(x_i.T[j], final_length / len(x_i), mode='reflect') for j in range(numpy.size(x_i, 1)) ]).T for x_i in x_test])\n",
        "    return x_train, x_test"
      ]
    },
    {
      "cell_type": "code",
      "execution_count": 7,
      "metadata": {
        "id": "eQSIbT1LwIoQ"
      },
      "outputs": [],
      "source": [
        "# Shuffle (because data is initially somewhat organized by class)\n",
        "def shuffle_dataset(x_train, x_test, y_train_14, y_train_28, y_test_14, y_test_28):\n",
        "    \"\"\"Shuffle the train/test data consistently.\"\"\"\n",
        "    # note: add random_state=0 for reproducibility\n",
        "    x_train, y_train_14, y_train_28 = shuffle(x_train, y_train_14, y_train_28)\n",
        "    x_test,  y_test_14,  y_test_28  = shuffle(x_test,  y_test_14,  y_test_28)\n",
        "    return x_train, x_test, y_train_14, y_train_28, y_test_14, y_test_28"
      ]
    },
    {
      "cell_type": "code",
      "execution_count": 8,
      "metadata": {
        "id": "kwtgZ5E5wIoU"
      },
      "outputs": [],
      "source": [
        "def preprocess_data(x_train, x_test, y_train_14, y_train_28, y_test_14, y_test_28):\n",
        "    \"\"\"\n",
        "    Preprocess the data\n",
        "    \"\"\"\n",
        "    x_train, x_test, y_train_14, y_train_28, y_test_14, y_test_28 = shuffle_dataset(x_train, x_test, y_train_14, y_train_28, y_test_14, y_test_28)\n",
        "    x_train, x_test = resize_sequences_length(x_train, x_test, final_length=100)\n",
        "    return x_train, x_test, y_train_14, y_train_28, y_test_14, y_test_28"
      ]
    },
    {
      "cell_type": "markdown",
      "metadata": {
        "id": "SJ12PXuMk-41"
      },
      "source": [
        "### 3. Load Data"
      ]
    },
    {
      "cell_type": "code",
      "execution_count": 9,
      "metadata": {
        "id": "33dZWW6Mk-41"
      },
      "outputs": [],
      "source": [
        "x_train, x_test, y_train_14, y_train_28, y_test_14, y_test_28 = load_data()\n",
        "y_train, y_test = numpy.array(y_train_14), numpy.array(y_test_14)\n",
        "\n",
        "# Shuffle sequences and resize sequences\n",
        "x_train, x_test, y_train, y_train_28, y_test, y_test_28 = preprocess_data(x_train, x_test, y_train, y_train_28, y_test, y_test_28)\n",
        "\n",
        "# Ensure the label values are between 0 and n_classes-1\n",
        "if y_train.min() > 0:\n",
        "  y_train = y_train - 1\n",
        "if y_test.min() > 0:\n",
        "  y_test = y_test - 1\n",
        "\n",
        "n_classes = 14\n",
        "\n",
        "# Transform the labels to one-hot encoding for the cross-entropy loss\n",
        "y_train = to_categorical(y_train, num_classes=n_classes)\n",
        "y_test = to_categorical(y_test, num_classes=n_classes)"
      ]
    },
    {
      "cell_type": "markdown",
      "metadata": {
        "id": "AlFxJwWAwIod"
      },
      "source": [
        "### 4. Models"
      ]
    },
    {
      "cell_type": "markdown",
      "metadata": {
        "id": "mGXTYv9_OtGe"
      },
      "source": [
        "#### 4.1 create_model_CONV1D"
      ]
    },
    {
      "cell_type": "markdown",
      "metadata": {
        "id": "EwZBemgYk-42"
      },
      "source": [
        "For the below code, ''' create_model_CONV1D''' function, the neural network extracts motion features, using a dedicated temporal feature extractor made of temporal convolutions (1D convolution over time) for each individual 1D channel (e.g. let’s say the channel representing the y position of the wrist). Once features have been extracted for each channel, they need to be “merged”. These temporal features are finally used to determine the nature of the gesture performed. To that extent, they are all fed into a dense neural network (one hidden layer) which performs the final classification. The full model (by-channel temporal feature extraction + final MLP) is differentiable and can be trained end-to-end."
      ]
    },
    {
      "cell_type": "code",
      "execution_count": 10,
      "metadata": {
        "id": "hX_lQhUAk-43"
      },
      "outputs": [],
      "source": [
        "def create_model_CONV1D(n_classes, duration, n_channels, dropout_probability=0.2):\n",
        "    # Define model, using functional API\n",
        "    model_input = Input(shape=(duration, n_channels))\n",
        "\n",
        "    # slice into channels\n",
        "    channel_inputs = Lambda(lambda x: tensorflow.split(x, num_or_size_splits=n_channels, axis=-1))(model_input)\n",
        "\n",
        "    features = []\n",
        "    for channel in range(n_channels):\n",
        "        channel_input = channel_inputs[channel]\n",
        "        # high branch\n",
        "        high = Conv1D(filters=8, kernel_size=7, padding='same', activation='relu', input_shape=(100, 1))(channel_input)\n",
        "        high = AveragePooling1D(pool_size=2)(high)\n",
        "        high = Conv1D(filters=4, kernel_size=7, padding='same', activation='relu')(high)\n",
        "        high = AveragePooling1D(pool_size=2)(high)\n",
        "        high = Conv1D(filters=4, kernel_size=7, padding='same', activation='relu')(high)\n",
        "        high = Dropout(dropout_probability)(high)\n",
        "        high = AveragePooling1D(pool_size=2)(high)\n",
        "        # low branch\n",
        "        low = Conv1D(filters=8, kernel_size=3, padding='same', activation='relu', input_shape=(100, 1))(channel_input)\n",
        "        low = AveragePooling1D(pool_size=2)(low)\n",
        "        low = Conv1D(filters=4, kernel_size=3, padding='same', activation='relu')(low)\n",
        "        low = AveragePooling1D(pool_size=2)(low)\n",
        "        low = Conv1D(filters=4, kernel_size=3, padding='same', activation='relu')(low)\n",
        "        low = Dropout(dropout_probability)(low)\n",
        "        low = AveragePooling1D(pool_size=2)(low)\n",
        "        # pooling branch\n",
        "        ap_residual = AveragePooling1D(pool_size=2, input_shape=(100, 1))(channel_input)\n",
        "        ap_residual = AveragePooling1D(pool_size=2)(ap_residual)\n",
        "        ap_residual = AveragePooling1D(pool_size=2)(ap_residual)\n",
        "        # channel output\n",
        "        channel_output = concatenate([high, low, ap_residual])\n",
        "        features.append(channel_output)\n",
        "\n",
        "    features = concatenate(features)\n",
        "    features = Flatten()(features)\n",
        "    features = Dense(units=1936, activation='relu')(features)\n",
        "\n",
        "    model_output = Dense(units=n_classes, activation='softmax')(features)\n",
        "\n",
        "    model = Model(inputs=[model_input], outputs=[model_output])\n",
        "    return model"
      ]
    },
    {
      "cell_type": "markdown",
      "metadata": {
        "id": "SgedRBuIOz8s"
      },
      "source": [
        "#### 4.2 create_model_LSTM_Ch_by_Ch"
      ]
    },
    {
      "cell_type": "markdown",
      "metadata": {
        "id": "dPtWTYJJk-43"
      },
      "source": [
        "2. For the below code, ''' create_model_LSTM_Ch_by_Ch''' function, the neural network extracts motion features, using a LSTM for each individual 1D channel (e.g. let’s say the channel representing the y position of the wrist). So we will have 66 independant (somehow), LSTM for each joint. Once features have been extracted for each channel, they need to be “merged”. These temporal features are finally used to determine the nature of the gesture performed. To that extent, they are all fed into a dense neural network (one hidden layer) which performs the final classification. The full model (by-channel temporal feature extraction + final MLP) is differentiable and can be trained end-to-end.\n",
        "\n",
        "Let's talk about RNN in general and LSTM before going into the details of the code in the cell below:\n",
        "\n",
        "How RNN works:\n",
        "\n",
        "It uses previous information to affect later ones.\n",
        "- There are 3 layers: Input, Output and Hidden (where the information is stored)\n",
        "- The loop: passes the input forward sequentialy, while retaining information about it\n",
        "- This info is stored in the hidden state\n",
        "- There are only 3 matrixes (U, V, W) that contain weights as parameters. These DON'T change with the input, they stay the same through the entire sequence\n",
        "\n",
        "How does LSTM work:\n",
        "\n",
        "An LSTM is more complex than an simple RNN:\n",
        "it is composed by cell states and gates\n",
        "it has the purpose to LEARN what to remember and forget reduntant information\n",
        "Composition of the cell in LSTM:\n",
        "\n",
        "- the cell has 2 outputs: the cell state and the hidden state\n",
        "- Forget Gate (Xt + ht-1): desides what information to FORGET; the closer to 0 is forget, the closer to 1 is remain\n",
        "- Input Gate (Xt + ht-1): creates a candidate with what information to remain\n",
        "- Current Cell State: ft*Ct-1 + it*Ct\n",
        "- Output Gate ((Xt + ht-1) * ct): desides what the next hidden state should be (which contains info about previous inputs)\n",
        "\n",
        "Parameters\n",
        "\n",
        "- input_size – The number of expected features in the input x\n",
        "- hidden_size – The number of features in the hidden state h\n",
        "- num_layers – Number of recurrent layers. E.g., setting num_layers=2 would mean stacking two LSTMs together to form a stacked LSTM, with the second LSTM taking in outputs of the first LSTM and computing the final results. Default: 1. Why use multiple layers rather than 1? --> to create higher-level abstractions and capture more non-linearities between the data\n",
        "- Inputs: input, (h_0, c_0)\n",
        "- Outputs: output, (h_n, c_n)"
      ]
    },
    {
      "cell_type": "code",
      "execution_count": 11,
      "metadata": {
        "id": "qgHi8kF1k-44"
      },
      "outputs": [],
      "source": [
        "def create_model_LSTM_Ch_by_Ch(n_classes, duration, n_channels):\n",
        "    # Define model, using functional API\n",
        "    model_input = Input(shape=(duration, n_channels))\n",
        "\n",
        "    # slice into channels\n",
        "    channel_inputs = Lambda(lambda x: tensorflow.split(x, num_or_size_splits=n_channels, axis=-1))(model_input)\n",
        "\n",
        "    features = []\n",
        "    for channel in range(n_channels):\n",
        "        channel_input = channel_inputs[channel]\n",
        "        channel_output = LSTM(units=10, activation='tanh',input_shape=(100,1))(channel_input)\n",
        "        features.append(channel_output)\n",
        "\n",
        "    features = concatenate(features)\n",
        "    features = Flatten()(features)\n",
        "    features = Dense(units=1936, activation='relu')(features)\n",
        "\n",
        "    model_output = Dense(units=n_classes, activation='softmax')(features)\n",
        "\n",
        "    model = Model(inputs=[model_input], outputs=[model_output])\n",
        "    return model"
      ]
    },
    {
      "cell_type": "markdown",
      "metadata": {
        "id": "HtWHBHHzO-tA"
      },
      "source": [
        "#### 4.3 create_model_LSTM_All_Ch"
      ]
    },
    {
      "cell_type": "markdown",
      "metadata": {
        "id": "hMwFqV6gk-45"
      },
      "source": [
        "3. The function below, '''create_model_LSTM_All_Ch''', uses LSTM to extract motion features, but this time to all the joints not individually like the model before. So we only have one LSTM here instead of 66 seperate LSTMs."
      ]
    },
    {
      "cell_type": "code",
      "execution_count": 12,
      "metadata": {
        "id": "LwNHLkqsk-45"
      },
      "outputs": [],
      "source": [
        "def create_model_LSTM_All_Ch(nbClasses, nbUnits, lengthTimeseries, nbTimeseries):\n",
        "    # Create the model architecture\n",
        "    model = Sequential()\n",
        "\n",
        "    model.add(LSTM(units=nbUnits, activation='tanh',input_shape=(lengthTimeseries,nbTimeseries)))\n",
        "    model.add(Dense(nbClasses, activation='softmax'))\n",
        "    \n",
        "    return model\n",
        "  "
      ]
    },
    {
      "cell_type": "markdown",
      "metadata": {
        "id": "S4YZ0lTqk-46"
      },
      "source": [
        "#### 4.4 Hyperparameters"
      ]
    },
    {
      "cell_type": "code",
      "execution_count": 13,
      "metadata": {
        "id": "lpBYQpK7k-46"
      },
      "outputs": [],
      "source": [
        "# model\n",
        "dropout_probability = 0.2\n",
        "duration = 100\n",
        "n_classes = 14\n",
        "n_channels = 66\n"
      ]
    },
    {
      "cell_type": "code",
      "execution_count": 14,
      "metadata": {
        "id": "5vJGN5KMk-46"
      },
      "outputs": [],
      "source": [
        "nbUnits = 50\n",
        "lengthTimeseries = 100\n",
        "nbClasses = 14\n",
        "nbTimeseries = 66"
      ]
    },
    {
      "cell_type": "markdown",
      "metadata": {
        "id": "vmC5hQvbk-46"
      },
      "source": [
        "#### 4.5 Create Models"
      ]
    },
    {
      "cell_type": "code",
      "execution_count": 76,
      "metadata": {
        "id": "QfSs2Rizk-47"
      },
      "outputs": [],
      "source": [
        "model_CONV1D = create_model_CONV1D(n_classes=n_classes, duration=duration, n_channels=n_channels, dropout_probability=dropout_probability)"
      ]
    },
    {
      "cell_type": "code",
      "execution_count": 74,
      "metadata": {
        "id": "DYmM5YUNk-47"
      },
      "outputs": [],
      "source": [
        "model_LSTM_Ch_by_Ch = create_model_LSTM_Ch_by_Ch(n_classes=n_classes, duration=duration, n_channels=n_channels)"
      ]
    },
    {
      "cell_type": "code",
      "execution_count": 69,
      "metadata": {
        "id": "G-BzGYMCk-47"
      },
      "outputs": [],
      "source": [
        "model_LSTM_All_Ch = create_model_LSTM_All_Ch(nbClasses=nbClasses, nbUnits=nbUnits, lengthTimeseries=lengthTimeseries, nbTimeseries=nbTimeseries)"
      ]
    },
    {
      "cell_type": "markdown",
      "metadata": {
        "id": "7E6uEsNaXeeL"
      },
      "source": [
        "#### 4.6 Optimizer, Loss, Metric, EarlyStop"
      ]
    },
    {
      "cell_type": "code",
      "execution_count": 75,
      "metadata": {
        "id": "bLnHWyiAk-47"
      },
      "outputs": [],
      "source": [
        "# Training: Optimizer's Learning Rate\n",
        "learning_rate = 0.001\n",
        "\n",
        "# We use Adam to optimize a multi-class classification task\n",
        "optimizer = Adam(learning_rate=learning_rate, beta_1=0.9, beta_2=0.999, epsilon=1e-8)\n",
        "loss = 'categorical_crossentropy'\n",
        "metrics = ['accuracy']\n",
        "earlyStop = tensorflow.keras.callbacks.EarlyStopping(monitor='val_loss', patience=9)"
      ]
    },
    {
      "cell_type": "markdown",
      "metadata": {
        "id": "Mai6bSaHPKUO"
      },
      "source": [
        "### 5 Model Accuracy"
      ]
    },
    {
      "cell_type": "markdown",
      "metadata": {
        "id": "C4tKD5SoPo5x"
      },
      "source": [
        "#### 5.1 model_CONV1D"
      ]
    },
    {
      "cell_type": "code",
      "execution_count": 77,
      "metadata": {
        "colab": {
          "base_uri": "https://localhost:8080/"
        },
        "id": "LGGebI58k-48",
        "outputId": "af7994e2-6f92-406c-a357-d5b00e5df137"
      },
      "outputs": [
        {
          "output_type": "stream",
          "name": "stdout",
          "text": [
            "Epoch 1/20\n",
            "43/43 [==============================] - 59s 330ms/step - loss: 2.7072 - accuracy: 0.1501 - val_loss: 2.2826 - val_accuracy: 0.3435\n",
            "Epoch 2/20\n",
            "43/43 [==============================] - 6s 140ms/step - loss: 2.0084 - accuracy: 0.3550 - val_loss: 1.6033 - val_accuracy: 0.4575\n",
            "Epoch 3/20\n",
            "43/43 [==============================] - 6s 143ms/step - loss: 1.3792 - accuracy: 0.5430 - val_loss: 1.2027 - val_accuracy: 0.6548\n",
            "Epoch 4/20\n",
            "43/43 [==============================] - 6s 144ms/step - loss: 1.1049 - accuracy: 0.6574 - val_loss: 1.0184 - val_accuracy: 0.6922\n",
            "Epoch 5/20\n",
            "43/43 [==============================] - 6s 140ms/step - loss: 0.9066 - accuracy: 0.7281 - val_loss: 0.8215 - val_accuracy: 0.7738\n",
            "Epoch 6/20\n",
            "43/43 [==============================] - 6s 142ms/step - loss: 0.7498 - accuracy: 0.7682 - val_loss: 0.9400 - val_accuracy: 0.7296\n",
            "Epoch 7/20\n",
            "43/43 [==============================] - 6s 144ms/step - loss: 0.6792 - accuracy: 0.7952 - val_loss: 0.7483 - val_accuracy: 0.7857\n",
            "Epoch 8/20\n",
            "43/43 [==============================] - 6s 145ms/step - loss: 0.5766 - accuracy: 0.8251 - val_loss: 0.6711 - val_accuracy: 0.8010\n",
            "Epoch 9/20\n",
            "43/43 [==============================] - 6s 145ms/step - loss: 0.4756 - accuracy: 0.8513 - val_loss: 0.5104 - val_accuracy: 0.8588\n",
            "Epoch 10/20\n",
            "43/43 [==============================] - 6s 144ms/step - loss: 0.4145 - accuracy: 0.8688 - val_loss: 0.5413 - val_accuracy: 0.8469\n",
            "Epoch 11/20\n",
            "43/43 [==============================] - 6s 143ms/step - loss: 0.3615 - accuracy: 0.8936 - val_loss: 0.5274 - val_accuracy: 0.8673\n",
            "Epoch 12/20\n",
            "43/43 [==============================] - 6s 142ms/step - loss: 0.3437 - accuracy: 0.8907 - val_loss: 0.4974 - val_accuracy: 0.8571\n",
            "Epoch 13/20\n",
            "43/43 [==============================] - 7s 167ms/step - loss: 0.3064 - accuracy: 0.9067 - val_loss: 0.4441 - val_accuracy: 0.8827\n",
            "Epoch 14/20\n",
            "43/43 [==============================] - 6s 145ms/step - loss: 0.2719 - accuracy: 0.9206 - val_loss: 0.3860 - val_accuracy: 0.8980\n",
            "Epoch 15/20\n",
            "43/43 [==============================] - 6s 141ms/step - loss: 0.2488 - accuracy: 0.9271 - val_loss: 0.4349 - val_accuracy: 0.8895\n",
            "Epoch 16/20\n",
            "43/43 [==============================] - 6s 143ms/step - loss: 0.2304 - accuracy: 0.9337 - val_loss: 0.4223 - val_accuracy: 0.8793\n",
            "Epoch 17/20\n",
            "43/43 [==============================] - 6s 142ms/step - loss: 0.1961 - accuracy: 0.9461 - val_loss: 0.4120 - val_accuracy: 0.8946\n",
            "Epoch 18/20\n",
            "43/43 [==============================] - 6s 142ms/step - loss: 0.1991 - accuracy: 0.9395 - val_loss: 0.3797 - val_accuracy: 0.9082\n",
            "Epoch 19/20\n",
            "43/43 [==============================] - 6s 146ms/step - loss: 0.1508 - accuracy: 0.9628 - val_loss: 0.4163 - val_accuracy: 0.8895\n",
            "Epoch 20/20\n",
            "43/43 [==============================] - 6s 144ms/step - loss: 0.1793 - accuracy: 0.9446 - val_loss: 0.4414 - val_accuracy: 0.8844\n"
          ]
        }
      ],
      "source": [
        "model_CONV1D.compile(optimizer=optimizer, loss=loss, metrics=metrics)\n",
        "history_CONV1D = model_CONV1D.fit(x_train, y_train, validation_split=0.3, epochs=20, batch_size=32, callbacks=[earlyStop])"
      ]
    },
    {
      "cell_type": "code",
      "execution_count": 78,
      "metadata": {
        "colab": {
          "base_uri": "https://localhost:8080/",
          "height": 573
        },
        "id": "zGk8yxqAk-49",
        "outputId": "83ca4b57-808e-4085-d4c3-5af780929463"
      },
      "outputs": [
        {
          "output_type": "display_data",
          "data": {
            "text/plain": [
              "<Figure size 432x288 with 1 Axes>"
            ],
            "image/png": "[encoded data removed]"
          },
          "metadata": {
            "needs_background": "light"
          }
        },
        {
          "output_type": "display_data",
          "data": {
            "text/plain": [
              "<Figure size 432x288 with 1 Axes>"
            ],
            "image/png": "[encoded data removed]"
          },
          "metadata": {
            "needs_background": "light"
          }
        }
      ],
      "source": [
        "# plot everything\n",
        "# summarize history for accuracy\n",
        "plt.plot(history_CONV1D.history['accuracy'])\n",
        "plt.plot(history_CONV1D.history['val_accuracy'])\n",
        "plt.title('model accuracy')\n",
        "plt.ylabel('accuracy')\n",
        "plt.xlabel('epoch')\n",
        "plt.legend(['train', 'test'], loc='upper left')\n",
        "plt.show()\n",
        "# summarize history for loss\n",
        "plt.plot(history_CONV1D.history['loss'])\n",
        "plt.plot(history_CONV1D.history['val_loss'])\n",
        "plt.title('model loss')\n",
        "plt.ylabel('loss')\n",
        "plt.xlabel('epoch')\n",
        "plt.legend(['train', 'test'], loc='upper left')\n",
        "plt.show()"
      ]
    },
    {
      "cell_type": "code",
      "execution_count": 79,
      "metadata": {
        "colab": {
          "base_uri": "https://localhost:8080/"
        },
        "id": "vCgKvh9lk-49",
        "outputId": "4f5d48a6-7f4c-4b8d-8b1a-532e9e1a3856"
      },
      "outputs": [
        {
          "output_type": "stream",
          "name": "stdout",
          "text": [
            "62/62 [==============================] - 3s 47ms/step - loss: 0.2447 - accuracy: 0.9291\n",
            "27/27 [==============================] - 1s 49ms/step - loss: 0.6608 - accuracy: 0.8112\n"
          ]
        }
      ],
      "source": [
        "_, train_accuracy = model_CONV1D.evaluate(x_train, y_train)\n",
        "_, test_accuracy = model_CONV1D.evaluate(x_test, y_test)"
      ]
    },
    {
      "cell_type": "markdown",
      "metadata": {
        "id": "_P4fWetuPtPH"
      },
      "source": [
        "#### 5.2 model_LSTM_Ch_by_Ch"
      ]
    },
    {
      "cell_type": "code",
      "execution_count": 80,
      "metadata": {
        "colab": {
          "base_uri": "https://localhost:8080/"
        },
        "id": "O_gDh30yk-49",
        "outputId": "1d3a1d3b-f086-450b-fcba-886c5456e1fa"
      },
      "outputs": [
        {
          "output_type": "stream",
          "name": "stdout",
          "text": [
            "Epoch 1/20\n",
            "43/43 [==============================] - 112s 746ms/step - loss: 2.6462 - accuracy: 0.0845 - val_loss: 2.5669 - val_accuracy: 0.1020\n",
            "Epoch 2/20\n",
            "43/43 [==============================] - 13s 306ms/step - loss: 2.4239 - accuracy: 0.1771 - val_loss: 2.3328 - val_accuracy: 0.2143\n",
            "Epoch 3/20\n",
            "43/43 [==============================] - 14s 320ms/step - loss: 2.1869 - accuracy: 0.2762 - val_loss: 2.1011 - val_accuracy: 0.3197\n",
            "Epoch 4/20\n",
            "43/43 [==============================] - 13s 305ms/step - loss: 1.9569 - accuracy: 0.3550 - val_loss: 1.7142 - val_accuracy: 0.4439\n",
            "Epoch 5/20\n",
            "43/43 [==============================] - 13s 308ms/step - loss: 1.5903 - accuracy: 0.4971 - val_loss: 1.5354 - val_accuracy: 0.4898\n",
            "Epoch 6/20\n",
            "43/43 [==============================] - 14s 328ms/step - loss: 1.3034 - accuracy: 0.5787 - val_loss: 1.2642 - val_accuracy: 0.6020\n",
            "Epoch 7/20\n",
            "43/43 [==============================] - 14s 326ms/step - loss: 1.0729 - accuracy: 0.6640 - val_loss: 1.0220 - val_accuracy: 0.6769\n",
            "Epoch 8/20\n",
            "43/43 [==============================] - 13s 310ms/step - loss: 0.9093 - accuracy: 0.7048 - val_loss: 0.9104 - val_accuracy: 0.7143\n",
            "Epoch 9/20\n",
            "43/43 [==============================] - 13s 304ms/step - loss: 0.7772 - accuracy: 0.7617 - val_loss: 0.8642 - val_accuracy: 0.7364\n",
            "Epoch 10/20\n",
            "43/43 [==============================] - 13s 310ms/step - loss: 0.6688 - accuracy: 0.7996 - val_loss: 0.7194 - val_accuracy: 0.7908\n",
            "Epoch 11/20\n",
            "43/43 [==============================] - 13s 308ms/step - loss: 0.5832 - accuracy: 0.8120 - val_loss: 0.7093 - val_accuracy: 0.7823\n",
            "Epoch 12/20\n",
            "43/43 [==============================] - 13s 306ms/step - loss: 0.5420 - accuracy: 0.8353 - val_loss: 0.6594 - val_accuracy: 0.8027\n",
            "Epoch 13/20\n",
            "43/43 [==============================] - 13s 306ms/step - loss: 0.5322 - accuracy: 0.8243 - val_loss: 0.6839 - val_accuracy: 0.7806\n",
            "Epoch 14/20\n",
            "43/43 [==============================] - 13s 305ms/step - loss: 0.4426 - accuracy: 0.8659 - val_loss: 0.6452 - val_accuracy: 0.8061\n",
            "Epoch 15/20\n",
            "43/43 [==============================] - 13s 305ms/step - loss: 0.3992 - accuracy: 0.8790 - val_loss: 0.6430 - val_accuracy: 0.7772\n",
            "Epoch 16/20\n",
            "43/43 [==============================] - 13s 303ms/step - loss: 0.3724 - accuracy: 0.8943 - val_loss: 0.6522 - val_accuracy: 0.7772\n",
            "Epoch 17/20\n",
            "43/43 [==============================] - 13s 309ms/step - loss: 0.3636 - accuracy: 0.8732 - val_loss: 0.6099 - val_accuracy: 0.8163\n",
            "Epoch 18/20\n",
            "43/43 [==============================] - 13s 304ms/step - loss: 0.3220 - accuracy: 0.9082 - val_loss: 0.5104 - val_accuracy: 0.8231\n",
            "Epoch 19/20\n",
            "43/43 [==============================] - 13s 305ms/step - loss: 0.2786 - accuracy: 0.9082 - val_loss: 0.5512 - val_accuracy: 0.8129\n",
            "Epoch 20/20\n",
            "43/43 [==============================] - 13s 304ms/step - loss: 0.2863 - accuracy: 0.9147 - val_loss: 0.5611 - val_accuracy: 0.8316\n"
          ]
        }
      ],
      "source": [
        "model_LSTM_Ch_by_Ch.compile(optimizer=optimizer, loss=loss, metrics=metrics)\n",
        "history_LSTM_Ch_by_Ch = model_LSTM_Ch_by_Ch.fit(x_train, y_train, validation_split=0.3, epochs=20, batch_size=32, callbacks=[earlyStop])"
      ]
    },
    {
      "cell_type": "code",
      "execution_count": 81,
      "metadata": {
        "colab": {
          "base_uri": "https://localhost:8080/",
          "height": 573
        },
        "id": "9RCfKVWDk-4-",
        "outputId": "8879ac7a-e584-4bdf-afad-7d55b6c0dc6f"
      },
      "outputs": [
        {
          "output_type": "display_data",
          "data": {
            "text/plain": [
              "<Figure size 432x288 with 1 Axes>"
            ],
            "image/png": "[encoded data removed]"
          },
          "metadata": {
            "needs_background": "light"
          }
        },
        {
          "output_type": "display_data",
          "data": {
            "text/plain": [
              "<Figure size 432x288 with 1 Axes>"
            ],
            "image/png": "[encoded data removed]"
          },
          "metadata": {
            "needs_background": "light"
          }
        }
      ],
      "source": [
        "# plot everything\n",
        "# summarize history for accuracy\n",
        "plt.plot(history_LSTM_Ch_by_Ch.history['accuracy'])\n",
        "plt.plot(history_LSTM_Ch_by_Ch.history['val_accuracy'])\n",
        "plt.title('model accuracy')\n",
        "plt.ylabel('accuracy')\n",
        "plt.xlabel('epoch')\n",
        "plt.legend(['train', 'test'], loc='upper left')\n",
        "plt.show()\n",
        "# summarize history for loss\n",
        "plt.plot(history_LSTM_Ch_by_Ch.history['loss'])\n",
        "plt.plot(history_LSTM_Ch_by_Ch.history['val_loss'])\n",
        "plt.title('model loss')\n",
        "plt.ylabel('loss')\n",
        "plt.xlabel('epoch')\n",
        "plt.legend(['train', 'test'], loc='upper left')\n",
        "plt.show()"
      ]
    },
    {
      "cell_type": "code",
      "execution_count": 82,
      "metadata": {
        "colab": {
          "base_uri": "https://localhost:8080/"
        },
        "id": "up2gxb9Kk-4-",
        "outputId": "70008f09-acd6-4595-a554-72128d3462b2"
      },
      "outputs": [
        {
          "output_type": "stream",
          "name": "stdout",
          "text": [
            "62/62 [==============================] - 7s 118ms/step - loss: 0.3595 - accuracy: 0.8969\n",
            "27/27 [==============================] - 3s 120ms/step - loss: 0.7973 - accuracy: 0.7611\n"
          ]
        }
      ],
      "source": [
        "_, train_accuracy = model_LSTM_Ch_by_Ch.evaluate(x_train, y_train)\n",
        "_, test_accuracy = model_LSTM_Ch_by_Ch.evaluate(x_test, y_test)"
      ]
    },
    {
      "cell_type": "markdown",
      "metadata": {
        "id": "D171_xWcPwsv"
      },
      "source": [
        "#### 5.3 model_LSTM_All_Ch"
      ]
    },
    {
      "cell_type": "code",
      "execution_count": 71,
      "metadata": {
        "colab": {
          "base_uri": "https://localhost:8080/"
        },
        "id": "7Dy_4jQCk-4-",
        "outputId": "8d1c9b6b-f0d9-422f-9c6d-415e38664ded"
      },
      "outputs": [
        {
          "output_type": "stream",
          "name": "stdout",
          "text": [
            "Epoch 1/100\n",
            "43/43 [==============================] - 2s 24ms/step - loss: 2.5906 - accuracy: 0.1057 - val_loss: 2.5177 - val_accuracy: 0.1565\n",
            "Epoch 2/100\n",
            "43/43 [==============================] - 1s 12ms/step - loss: 2.5105 - accuracy: 0.1545 - val_loss: 2.5690 - val_accuracy: 0.1463\n",
            "Epoch 3/100\n",
            "43/43 [==============================] - 1s 12ms/step - loss: 2.4857 - accuracy: 0.1625 - val_loss: 2.3447 - val_accuracy: 0.2313\n",
            "Epoch 4/100\n",
            "43/43 [==============================] - 0s 12ms/step - loss: 2.1628 - accuracy: 0.2762 - val_loss: 2.1824 - val_accuracy: 0.2823\n",
            "Epoch 5/100\n",
            "43/43 [==============================] - 1s 12ms/step - loss: 1.9152 - accuracy: 0.3294 - val_loss: 1.7410 - val_accuracy: 0.3861\n",
            "Epoch 6/100\n",
            "43/43 [==============================] - 1s 12ms/step - loss: 1.9390 - accuracy: 0.3061 - val_loss: 1.7118 - val_accuracy: 0.3895\n",
            "Epoch 7/100\n",
            "43/43 [==============================] - 1s 13ms/step - loss: 1.8696 - accuracy: 0.3316 - val_loss: 1.7429 - val_accuracy: 0.3963\n",
            "Epoch 8/100\n",
            "43/43 [==============================] - 0s 11ms/step - loss: 1.6825 - accuracy: 0.4031 - val_loss: 1.6839 - val_accuracy: 0.3997\n",
            "Epoch 9/100\n",
            "43/43 [==============================] - 0s 11ms/step - loss: 1.5752 - accuracy: 0.4337 - val_loss: 1.5191 - val_accuracy: 0.4507\n",
            "Epoch 10/100\n",
            "43/43 [==============================] - 0s 12ms/step - loss: 1.4673 - accuracy: 0.4803 - val_loss: 1.4965 - val_accuracy: 0.4541\n",
            "Epoch 11/100\n",
            "43/43 [==============================] - 1s 12ms/step - loss: 1.4155 - accuracy: 0.5044 - val_loss: 1.4295 - val_accuracy: 0.5000\n",
            "Epoch 12/100\n",
            "43/43 [==============================] - 0s 11ms/step - loss: 1.4768 - accuracy: 0.4687 - val_loss: 1.4025 - val_accuracy: 0.5034\n",
            "Epoch 13/100\n",
            "43/43 [==============================] - 0s 11ms/step - loss: 1.3705 - accuracy: 0.5153 - val_loss: 1.2672 - val_accuracy: 0.5646\n",
            "Epoch 14/100\n",
            "43/43 [==============================] - 0s 12ms/step - loss: 1.2792 - accuracy: 0.5474 - val_loss: 1.1878 - val_accuracy: 0.6054\n",
            "Epoch 15/100\n",
            "43/43 [==============================] - 0s 11ms/step - loss: 1.1462 - accuracy: 0.5977 - val_loss: 1.1121 - val_accuracy: 0.6599\n",
            "Epoch 16/100\n",
            "43/43 [==============================] - 0s 11ms/step - loss: 1.1335 - accuracy: 0.5977 - val_loss: 1.1093 - val_accuracy: 0.6429\n",
            "Epoch 17/100\n",
            "43/43 [==============================] - 0s 11ms/step - loss: 1.0919 - accuracy: 0.6327 - val_loss: 1.0186 - val_accuracy: 0.6429\n",
            "Epoch 18/100\n",
            "43/43 [==============================] - 1s 12ms/step - loss: 1.0397 - accuracy: 0.6458 - val_loss: 1.0681 - val_accuracy: 0.6412\n",
            "Epoch 19/100\n",
            "43/43 [==============================] - 1s 12ms/step - loss: 0.9516 - accuracy: 0.6713 - val_loss: 0.9041 - val_accuracy: 0.6939\n",
            "Epoch 20/100\n",
            "43/43 [==============================] - 0s 11ms/step - loss: 0.9193 - accuracy: 0.6808 - val_loss: 0.9538 - val_accuracy: 0.6888\n",
            "Epoch 21/100\n",
            "43/43 [==============================] - 0s 11ms/step - loss: 0.9533 - accuracy: 0.6684 - val_loss: 0.9266 - val_accuracy: 0.7007\n",
            "Epoch 22/100\n",
            "43/43 [==============================] - 0s 11ms/step - loss: 0.7641 - accuracy: 0.7427 - val_loss: 0.9338 - val_accuracy: 0.6803\n",
            "Epoch 23/100\n",
            "43/43 [==============================] - 0s 11ms/step - loss: 0.8315 - accuracy: 0.7223 - val_loss: 0.8575 - val_accuracy: 0.7126\n",
            "Epoch 24/100\n",
            "43/43 [==============================] - 0s 11ms/step - loss: 0.6941 - accuracy: 0.7500 - val_loss: 0.8185 - val_accuracy: 0.6939\n",
            "Epoch 25/100\n",
            "43/43 [==============================] - 0s 12ms/step - loss: 0.7689 - accuracy: 0.7296 - val_loss: 0.8122 - val_accuracy: 0.7296\n",
            "Epoch 26/100\n",
            "43/43 [==============================] - 0s 11ms/step - loss: 0.7128 - accuracy: 0.7573 - val_loss: 0.6611 - val_accuracy: 0.7704\n",
            "Epoch 27/100\n",
            "43/43 [==============================] - 0s 11ms/step - loss: 0.5785 - accuracy: 0.8098 - val_loss: 0.6610 - val_accuracy: 0.7874\n",
            "Epoch 28/100\n",
            "43/43 [==============================] - 1s 12ms/step - loss: 0.5918 - accuracy: 0.7930 - val_loss: 0.7571 - val_accuracy: 0.7483\n",
            "Epoch 29/100\n",
            "43/43 [==============================] - 1s 12ms/step - loss: 0.6774 - accuracy: 0.7624 - val_loss: 0.7793 - val_accuracy: 0.7245\n",
            "Epoch 30/100\n",
            "43/43 [==============================] - 1s 12ms/step - loss: 0.6316 - accuracy: 0.7908 - val_loss: 0.6664 - val_accuracy: 0.7823\n",
            "Epoch 31/100\n",
            "43/43 [==============================] - 1s 12ms/step - loss: 0.4989 - accuracy: 0.8243 - val_loss: 0.6970 - val_accuracy: 0.7602\n",
            "Epoch 32/100\n",
            "43/43 [==============================] - 0s 11ms/step - loss: 0.5043 - accuracy: 0.8200 - val_loss: 0.5373 - val_accuracy: 0.8197\n",
            "Epoch 33/100\n",
            "43/43 [==============================] - 0s 12ms/step - loss: 0.5771 - accuracy: 0.8017 - val_loss: 0.6372 - val_accuracy: 0.7823\n",
            "Epoch 34/100\n",
            "43/43 [==============================] - 1s 12ms/step - loss: 0.4706 - accuracy: 0.8426 - val_loss: 0.6499 - val_accuracy: 0.7840\n",
            "Epoch 35/100\n",
            "43/43 [==============================] - 0s 11ms/step - loss: 0.4679 - accuracy: 0.8389 - val_loss: 0.5652 - val_accuracy: 0.8146\n",
            "Epoch 36/100\n",
            "43/43 [==============================] - 0s 12ms/step - loss: 0.5079 - accuracy: 0.8287 - val_loss: 0.5774 - val_accuracy: 0.8112\n",
            "Epoch 37/100\n",
            "43/43 [==============================] - 0s 11ms/step - loss: 0.3832 - accuracy: 0.8688 - val_loss: 0.5446 - val_accuracy: 0.8316\n",
            "Epoch 38/100\n",
            "43/43 [==============================] - 1s 12ms/step - loss: 0.4414 - accuracy: 0.8579 - val_loss: 0.5716 - val_accuracy: 0.8197\n",
            "Epoch 39/100\n",
            "43/43 [==============================] - 1s 12ms/step - loss: 0.3631 - accuracy: 0.8885 - val_loss: 0.5763 - val_accuracy: 0.8112\n",
            "Epoch 40/100\n",
            "43/43 [==============================] - 1s 13ms/step - loss: 0.4187 - accuracy: 0.8615 - val_loss: 0.5862 - val_accuracy: 0.8095\n",
            "Epoch 41/100\n",
            "43/43 [==============================] - 0s 12ms/step - loss: 0.4279 - accuracy: 0.8557 - val_loss: 0.6213 - val_accuracy: 0.8044\n"
          ]
        }
      ],
      "source": [
        "model_LSTM_All_Ch.compile(optimizer=optimizer, loss=loss, metrics=metrics)\n",
        "history_LSTM_All_Ch = model_LSTM_All_Ch.fit(x_train, y_train, validation_split=0.3, epochs=100, batch_size=32, callbacks=[earlyStop])"
      ]
    },
    {
      "cell_type": "code",
      "execution_count": 72,
      "metadata": {
        "colab": {
          "base_uri": "https://localhost:8080/",
          "height": 573
        },
        "id": "lswr3ZnHk-4_",
        "outputId": "f27c3530-407d-470a-e103-9136dd4513df"
      },
      "outputs": [
        {
          "output_type": "display_data",
          "data": {
            "text/plain": [
              "<Figure size 432x288 with 1 Axes>"
            ],
            "image/png": "[encoded data removed]"
          },
          "metadata": {
            "needs_background": "light"
          }
        },
        {
          "output_type": "display_data",
          "data": {
            "text/plain": [
              "<Figure size 432x288 with 1 Axes>"
            ],
            "image/png": "[encoded data removed]"
          },
          "metadata": {
            "needs_background": "light"
          }
        }
      ],
      "source": [
        "# plot everything\n",
        "# summarize history for accuracy\n",
        "plt.plot(history_LSTM_All_Ch.history['accuracy'])\n",
        "plt.plot(history_LSTM_All_Ch.history['val_accuracy'])\n",
        "plt.title('model accuracy')\n",
        "plt.ylabel('accuracy')\n",
        "plt.xlabel('epoch')\n",
        "plt.legend(['train', 'test'], loc='upper left')\n",
        "plt.show()\n",
        "# summarize history for loss\n",
        "plt.plot(history_LSTM_All_Ch.history['loss'])\n",
        "plt.plot(history_LSTM_All_Ch.history['val_loss'])\n",
        "plt.title('model loss')\n",
        "plt.ylabel('loss')\n",
        "plt.xlabel('epoch')\n",
        "plt.legend(['train', 'test'], loc='upper left')\n",
        "plt.show()"
      ]
    },
    {
      "cell_type": "code",
      "execution_count": 73,
      "metadata": {
        "colab": {
          "base_uri": "https://localhost:8080/"
        },
        "id": "nieqZfkjk-4_",
        "outputId": "43e9fb71-f01f-4e21-f253-de0560c2e3e2"
      },
      "outputs": [
        {
          "output_type": "stream",
          "name": "stdout",
          "text": [
            "62/62 [==============================] - 0s 6ms/step - loss: 0.5395 - accuracy: 0.8245\n",
            "27/27 [==============================] - 0s 6ms/step - loss: 0.8532 - accuracy: 0.7527\n"
          ]
        }
      ],
      "source": [
        "_, train_accuracy = model_LSTM_All_Ch.evaluate(x_train, y_train)\n",
        "_, test_accuracy = model_LSTM_All_Ch.evaluate(x_test, y_test)"
      ]
    },
    {
      "cell_type": "markdown",
      "metadata": {
        "id": "StH56_vuRagR"
      },
      "source": [
        "#### 5.4 Best model"
      ]
    },
    {
      "cell_type": "markdown",
      "metadata": {
        "id": "kT4cMdPHRfBD"
      },
      "source": [
        "The accuracy are the following :\n",
        "\n",
        "    model_CONV1D : 0.81\n",
        "\n",
        "    model_LSTM_Ch_by_Ch : 0.76\n",
        "\n",
        "    model_LSTM_All_Ch : 0.75\n",
        "\n",
        "\n",
        "The best model seems to be model_CONV1D with our current hyperparameters. However, during the next part, we will try to optimize the hyperparameter nbUnits to increase model_LSTM_All_Ch's accuracy since it is the fastest model we trained and it have capacity to give better results with tuninig."
      ]
    },
    {
      "cell_type": "markdown",
      "metadata": {
        "id": "JWe6nD3TQG9M"
      },
      "source": [
        "### 6 Grid-search for nbUnits in model_LSTM_All_Ch"
      ]
    },
    {
      "cell_type": "markdown",
      "metadata": {
        "id": "8Br1vsmA6nX-"
      },
      "source": [
        "We try to find the best hyperparameter nbUnits for the model `model_LSTM_All_Ch` by doing a grid search."
      ]
    },
    {
      "cell_type": "markdown",
      "metadata": {
        "id": "YsaevEWmSNGv"
      },
      "source": [
        "#### 6.1 Code"
      ]
    },
    {
      "cell_type": "code",
      "execution_count": 32,
      "metadata": {
        "id": "uPyFXBv386kn"
      },
      "outputs": [],
      "source": [
        "lengthTimeseries = 100\n",
        "nbClasses = 14\n",
        "nbTimeseries = 66\n",
        "# Training: Optimizer's Learning Rate\n",
        "learning_rate = 0.001\n",
        "\n",
        "# We use Adam to optimize a multi-class classification task\n",
        "optimizer = Adam(learning_rate=learning_rate, beta_1=0.9, beta_2=0.999, epsilon=1e-8)\n",
        "loss = 'categorical_crossentropy'\n",
        "metrics = ['accuracy']\n",
        "earlyStop = tensorflow.keras.callbacks.EarlyStopping(monitor='val_loss', patience=9)\n",
        "\n",
        "\n",
        "def create_model_LSTM_All_Ch_Optimize_nbUnits(nbUnits=50):\n",
        "    model = create_model_LSTM_All_Ch(nbClasses, nbUnits, lengthTimeseries, nbTimeseries)\n",
        "\n",
        "    return model"
      ]
    },
    {
      "cell_type": "code",
      "execution_count": 33,
      "metadata": {
        "colab": {
          "base_uri": "https://localhost:8080/"
        },
        "id": "nTljw3hQCGj5",
        "outputId": "f0056cb0-7eda-495e-ba93-3cf8aabf7fbd"
      },
      "outputs": [
        {
          "output_type": "stream",
          "name": "stdout",
          "text": [
            "Looking in indexes: https://pypi.org/simple, https://us-python.pkg.dev/colab-wheels/public/simple/\n",
            "Collecting scikeras\n",
            "  Downloading scikeras-0.10.0-py3-none-any.whl (27 kB)\n",
            "Requirement already satisfied: scikit-learn>=1.0.0 in /usr/local/lib/python3.8/dist-packages (from scikeras) (1.0.2)\n",
            "Requirement already satisfied: packaging>=0.21 in /usr/local/lib/python3.8/dist-packages (from scikeras) (21.3)\n",
            "Requirement already satisfied: pyparsing!=3.0.5,>=2.0.2 in /usr/local/lib/python3.8/dist-packages (from packaging>=0.21->scikeras) (3.0.9)\n",
            "Requirement already satisfied: threadpoolctl>=2.0.0 in /usr/local/lib/python3.8/dist-packages (from scikit-learn>=1.0.0->scikeras) (3.1.0)\n",
            "Requirement already satisfied: scipy>=1.1.0 in /usr/local/lib/python3.8/dist-packages (from scikit-learn>=1.0.0->scikeras) (1.7.3)\n",
            "Requirement already satisfied: numpy>=1.14.6 in /usr/local/lib/python3.8/dist-packages (from scikit-learn>=1.0.0->scikeras) (1.21.6)\n",
            "Requirement already satisfied: joblib>=0.11 in /usr/local/lib/python3.8/dist-packages (from scikit-learn>=1.0.0->scikeras) (1.2.0)\n",
            "Installing collected packages: scikeras\n",
            "Successfully installed scikeras-0.10.0\n"
          ]
        }
      ],
      "source": [
        "try:\n",
        "    import scikeras\n",
        "except ImportError:\n",
        "    !python -m pip install scikeras"
      ]
    },
    {
      "cell_type": "code",
      "execution_count": 51,
      "metadata": {
        "colab": {
          "base_uri": "https://localhost:8080/"
        },
        "id": "-mfSRnfKl-yB",
        "outputId": "4893c966-92e6-4b78-e60d-470f577bd384"
      },
      "outputs": [
        {
          "output_type": "stream",
          "name": "stdout",
          "text": [
            "Epoch 1/40\n",
            "29/29 [==============================] - 2s 28ms/step - loss: 2.6498 - accuracy: 0.0886 - val_loss: 2.6196 - val_accuracy: 0.0969\n",
            "Epoch 2/40\n",
            "29/29 [==============================] - 0s 11ms/step - loss: 2.5891 - accuracy: 0.1138 - val_loss: 2.5802 - val_accuracy: 0.1301\n",
            "Epoch 3/40\n",
            "29/29 [==============================] - 0s 9ms/step - loss: 2.5264 - accuracy: 0.1444 - val_loss: 2.5940 - val_accuracy: 0.1148\n",
            "Epoch 4/40\n",
            "29/29 [==============================] - 0s 9ms/step - loss: 2.4750 - accuracy: 0.1641 - val_loss: 2.4741 - val_accuracy: 0.1556\n",
            "Epoch 5/40\n",
            "29/29 [==============================] - 0s 9ms/step - loss: 2.4091 - accuracy: 0.1740 - val_loss: 2.3822 - val_accuracy: 0.1837\n",
            "Epoch 6/40\n",
            "29/29 [==============================] - 0s 9ms/step - loss: 2.2500 - accuracy: 0.2243 - val_loss: 2.1303 - val_accuracy: 0.2372\n",
            "Epoch 7/40\n",
            "29/29 [==============================] - 0s 9ms/step - loss: 2.1482 - accuracy: 0.2538 - val_loss: 2.1673 - val_accuracy: 0.2168\n",
            "Epoch 8/40\n",
            "29/29 [==============================] - 0s 9ms/step - loss: 2.0666 - accuracy: 0.2659 - val_loss: 1.9880 - val_accuracy: 0.2959\n",
            "Epoch 9/40\n",
            "29/29 [==============================] - 0s 9ms/step - loss: 1.9963 - accuracy: 0.2856 - val_loss: 1.9983 - val_accuracy: 0.2551\n",
            "Epoch 10/40\n",
            "29/29 [==============================] - 0s 9ms/step - loss: 1.9302 - accuracy: 0.3173 - val_loss: 1.8582 - val_accuracy: 0.3036\n",
            "Epoch 11/40\n",
            "29/29 [==============================] - 0s 9ms/step - loss: 1.8564 - accuracy: 0.3337 - val_loss: 1.8643 - val_accuracy: 0.3010\n",
            "Epoch 12/40\n",
            "29/29 [==============================] - 0s 9ms/step - loss: 1.8720 - accuracy: 0.3206 - val_loss: 1.8075 - val_accuracy: 0.3520\n",
            "Epoch 13/40\n",
            "29/29 [==============================] - 0s 9ms/step - loss: 1.7795 - accuracy: 0.3731 - val_loss: 1.7770 - val_accuracy: 0.3342\n",
            "Epoch 14/40\n",
            "29/29 [==============================] - 0s 9ms/step - loss: 1.7249 - accuracy: 0.3928 - val_loss: 1.7023 - val_accuracy: 0.3673\n",
            "Epoch 15/40\n",
            "29/29 [==============================] - 0s 9ms/step - loss: 1.7561 - accuracy: 0.3786 - val_loss: 1.6868 - val_accuracy: 0.3597\n",
            "Epoch 16/40\n",
            "29/29 [==============================] - 0s 9ms/step - loss: 1.6416 - accuracy: 0.4234 - val_loss: 1.6573 - val_accuracy: 0.4005\n",
            "Epoch 17/40\n",
            "29/29 [==============================] - 0s 9ms/step - loss: 1.6689 - accuracy: 0.3993 - val_loss: 1.8068 - val_accuracy: 0.3367\n",
            "Epoch 18/40\n",
            "29/29 [==============================] - 0s 9ms/step - loss: 1.6515 - accuracy: 0.4147 - val_loss: 1.6966 - val_accuracy: 0.3954\n",
            "Epoch 19/40\n",
            "29/29 [==============================] - 0s 9ms/step - loss: 1.6097 - accuracy: 0.4333 - val_loss: 1.6514 - val_accuracy: 0.3929\n",
            "Epoch 20/40\n",
            "29/29 [==============================] - 0s 9ms/step - loss: 1.5972 - accuracy: 0.4234 - val_loss: 1.6797 - val_accuracy: 0.3980\n",
            "Epoch 21/40\n",
            "29/29 [==============================] - 0s 9ms/step - loss: 1.5096 - accuracy: 0.4716 - val_loss: 1.5684 - val_accuracy: 0.4235\n",
            "Epoch 22/40\n",
            "29/29 [==============================] - 0s 9ms/step - loss: 1.5235 - accuracy: 0.4606 - val_loss: 1.5194 - val_accuracy: 0.4413\n",
            "Epoch 23/40\n",
            "29/29 [==============================] - 0s 9ms/step - loss: 1.4749 - accuracy: 0.4606 - val_loss: 1.6166 - val_accuracy: 0.3852\n",
            "Epoch 24/40\n",
            "29/29 [==============================] - 0s 9ms/step - loss: 1.5002 - accuracy: 0.4584 - val_loss: 1.4819 - val_accuracy: 0.4617\n",
            "Epoch 25/40\n",
            "29/29 [==============================] - 0s 9ms/step - loss: 1.4673 - accuracy: 0.4967 - val_loss: 1.4514 - val_accuracy: 0.4796\n",
            "Epoch 26/40\n",
            "29/29 [==============================] - 0s 9ms/step - loss: 1.3847 - accuracy: 0.5142 - val_loss: 1.5642 - val_accuracy: 0.4566\n",
            "Epoch 27/40\n",
            "29/29 [==============================] - 0s 9ms/step - loss: 1.4265 - accuracy: 0.5011 - val_loss: 1.6374 - val_accuracy: 0.4056\n",
            "Epoch 28/40\n",
            "29/29 [==============================] - 0s 9ms/step - loss: 1.4774 - accuracy: 0.4836 - val_loss: 1.4520 - val_accuracy: 0.4821\n",
            "Epoch 29/40\n",
            "29/29 [==============================] - 0s 9ms/step - loss: 1.3164 - accuracy: 0.5481 - val_loss: 1.3501 - val_accuracy: 0.5179\n",
            "Epoch 30/40\n",
            "29/29 [==============================] - 0s 9ms/step - loss: 1.3546 - accuracy: 0.5449 - val_loss: 1.3847 - val_accuracy: 0.5128\n",
            "Epoch 31/40\n",
            "29/29 [==============================] - 0s 9ms/step - loss: 1.3407 - accuracy: 0.5405 - val_loss: 1.3738 - val_accuracy: 0.5281\n",
            "Epoch 32/40\n",
            "29/29 [==============================] - 0s 9ms/step - loss: 1.3930 - accuracy: 0.5131 - val_loss: 1.4264 - val_accuracy: 0.4898\n",
            "Epoch 33/40\n",
            "29/29 [==============================] - 0s 9ms/step - loss: 1.4317 - accuracy: 0.5252 - val_loss: 1.4701 - val_accuracy: 0.4821\n",
            "Epoch 34/40\n",
            "29/29 [==============================] - 0s 9ms/step - loss: 1.2658 - accuracy: 0.5952 - val_loss: 1.3267 - val_accuracy: 0.5612\n",
            "Epoch 35/40\n",
            "29/29 [==============================] - 0s 8ms/step - loss: 1.1642 - accuracy: 0.6171 - val_loss: 1.2432 - val_accuracy: 0.5714\n",
            "Epoch 36/40\n",
            "29/29 [==============================] - 0s 9ms/step - loss: 1.1905 - accuracy: 0.6094 - val_loss: 1.2730 - val_accuracy: 0.5536\n",
            "Epoch 37/40\n",
            "29/29 [==============================] - 0s 9ms/step - loss: 1.1502 - accuracy: 0.6357 - val_loss: 1.3402 - val_accuracy: 0.5179\n",
            "Epoch 38/40\n",
            "29/29 [==============================] - 0s 9ms/step - loss: 1.1430 - accuracy: 0.6225 - val_loss: 1.3198 - val_accuracy: 0.5536\n",
            "Epoch 39/40\n",
            "29/29 [==============================] - 0s 9ms/step - loss: 1.1035 - accuracy: 0.6324 - val_loss: 1.2187 - val_accuracy: 0.5689\n",
            "Epoch 40/40\n",
            "29/29 [==============================] - 0s 9ms/step - loss: 1.1071 - accuracy: 0.6477 - val_loss: 1.2948 - val_accuracy: 0.5434\n",
            "21/21 [==============================] - 0s 4ms/step\n",
            "Epoch 1/40\n",
            "29/29 [==============================] - 3s 33ms/step - loss: 2.6407 - accuracy: 0.0952 - val_loss: 2.6570 - val_accuracy: 0.0916\n",
            "Epoch 2/40\n",
            "29/29 [==============================] - 0s 12ms/step - loss: 2.5952 - accuracy: 0.1411 - val_loss: 2.6109 - val_accuracy: 0.1145\n",
            "Epoch 3/40\n",
            "29/29 [==============================] - 0s 13ms/step - loss: 2.4936 - accuracy: 0.1575 - val_loss: 2.4898 - val_accuracy: 0.1832\n",
            "Epoch 4/40\n",
            "29/29 [==============================] - 0s 15ms/step - loss: 2.3749 - accuracy: 0.2232 - val_loss: 2.3845 - val_accuracy: 0.2392\n",
            "Epoch 5/40\n",
            "29/29 [==============================] - 0s 15ms/step - loss: 2.3095 - accuracy: 0.2385 - val_loss: 2.3392 - val_accuracy: 0.2723\n",
            "Epoch 6/40\n",
            "29/29 [==============================] - 1s 17ms/step - loss: 2.1360 - accuracy: 0.2867 - val_loss: 2.0923 - val_accuracy: 0.3003\n",
            "Epoch 7/40\n",
            "29/29 [==============================] - 1s 20ms/step - loss: 1.9663 - accuracy: 0.3621 - val_loss: 2.1187 - val_accuracy: 0.2595\n",
            "Epoch 8/40\n",
            "29/29 [==============================] - 0s 13ms/step - loss: 2.0185 - accuracy: 0.3206 - val_loss: 1.9910 - val_accuracy: 0.3079\n",
            "Epoch 9/40\n",
            "29/29 [==============================] - 0s 15ms/step - loss: 1.8242 - accuracy: 0.3611 - val_loss: 1.8434 - val_accuracy: 0.3486\n",
            "Epoch 10/40\n",
            "29/29 [==============================] - 0s 13ms/step - loss: 1.8113 - accuracy: 0.3775 - val_loss: 1.8366 - val_accuracy: 0.3613\n",
            "Epoch 11/40\n",
            "29/29 [==============================] - 0s 10ms/step - loss: 1.8220 - accuracy: 0.3665 - val_loss: 1.9469 - val_accuracy: 0.3410\n",
            "Epoch 12/40\n",
            "29/29 [==============================] - 0s 13ms/step - loss: 1.7702 - accuracy: 0.3786 - val_loss: 1.7023 - val_accuracy: 0.3944\n",
            "Epoch 13/40\n",
            "29/29 [==============================] - 0s 10ms/step - loss: 1.6493 - accuracy: 0.4431 - val_loss: 1.7373 - val_accuracy: 0.3995\n",
            "Epoch 14/40\n",
            "29/29 [==============================] - 0s 13ms/step - loss: 1.5408 - accuracy: 0.4956 - val_loss: 1.5742 - val_accuracy: 0.4275\n",
            "Epoch 15/40\n",
            "29/29 [==============================] - 0s 14ms/step - loss: 1.5030 - accuracy: 0.4934 - val_loss: 1.6056 - val_accuracy: 0.4249\n",
            "Epoch 16/40\n",
            "29/29 [==============================] - 0s 12ms/step - loss: 1.4936 - accuracy: 0.4803 - val_loss: 1.5592 - val_accuracy: 0.4504\n",
            "Epoch 17/40\n",
            "29/29 [==============================] - 0s 10ms/step - loss: 1.3914 - accuracy: 0.5295 - val_loss: 1.5669 - val_accuracy: 0.4173\n",
            "Epoch 18/40\n",
            "29/29 [==============================] - 0s 10ms/step - loss: 1.4088 - accuracy: 0.5328 - val_loss: 1.5063 - val_accuracy: 0.4453\n",
            "Epoch 19/40\n",
            "29/29 [==============================] - 0s 9ms/step - loss: 1.3457 - accuracy: 0.5339 - val_loss: 1.4640 - val_accuracy: 0.4835\n",
            "Epoch 20/40\n",
            "29/29 [==============================] - 0s 9ms/step - loss: 1.3254 - accuracy: 0.5460 - val_loss: 1.6000 - val_accuracy: 0.4326\n",
            "Epoch 21/40\n",
            "29/29 [==============================] - 0s 10ms/step - loss: 1.4019 - accuracy: 0.5088 - val_loss: 1.4809 - val_accuracy: 0.4936\n",
            "Epoch 22/40\n",
            "29/29 [==============================] - 0s 9ms/step - loss: 1.3500 - accuracy: 0.5525 - val_loss: 1.5241 - val_accuracy: 0.4936\n",
            "Epoch 23/40\n",
            "29/29 [==============================] - 0s 10ms/step - loss: 1.3259 - accuracy: 0.5438 - val_loss: 1.4783 - val_accuracy: 0.4631\n",
            "Epoch 24/40\n",
            "29/29 [==============================] - 0s 10ms/step - loss: 1.2696 - accuracy: 0.5700 - val_loss: 1.3760 - val_accuracy: 0.5191\n",
            "Epoch 25/40\n",
            "29/29 [==============================] - 0s 9ms/step - loss: 1.2307 - accuracy: 0.5842 - val_loss: 1.3342 - val_accuracy: 0.5191\n",
            "Epoch 26/40\n",
            "29/29 [==============================] - 0s 9ms/step - loss: 1.2176 - accuracy: 0.5777 - val_loss: 1.4700 - val_accuracy: 0.4809\n",
            "Epoch 27/40\n",
            "29/29 [==============================] - 0s 10ms/step - loss: 1.2333 - accuracy: 0.5744 - val_loss: 1.2954 - val_accuracy: 0.5674\n",
            "Epoch 28/40\n",
            "29/29 [==============================] - 0s 11ms/step - loss: 1.1714 - accuracy: 0.5919 - val_loss: 1.3998 - val_accuracy: 0.5216\n",
            "Epoch 29/40\n",
            "29/29 [==============================] - 0s 10ms/step - loss: 1.2493 - accuracy: 0.5624 - val_loss: 1.3510 - val_accuracy: 0.5369\n",
            "Epoch 30/40\n",
            "29/29 [==============================] - 0s 12ms/step - loss: 1.2162 - accuracy: 0.5777 - val_loss: 1.5016 - val_accuracy: 0.4758\n",
            "Epoch 31/40\n",
            "29/29 [==============================] - 0s 10ms/step - loss: 1.2030 - accuracy: 0.5821 - val_loss: 1.3537 - val_accuracy: 0.5064\n",
            "Epoch 32/40\n",
            "29/29 [==============================] - 0s 13ms/step - loss: 1.2576 - accuracy: 0.5755 - val_loss: 1.5301 - val_accuracy: 0.4478\n",
            "Epoch 33/40\n",
            "29/29 [==============================] - 0s 10ms/step - loss: 1.2648 - accuracy: 0.5602 - val_loss: 1.3714 - val_accuracy: 0.5165\n",
            "Epoch 34/40\n",
            "29/29 [==============================] - 0s 12ms/step - loss: 1.1194 - accuracy: 0.6269 - val_loss: 1.2521 - val_accuracy: 0.5725\n",
            "Epoch 35/40\n",
            "29/29 [==============================] - 0s 12ms/step - loss: 1.0387 - accuracy: 0.6488 - val_loss: 1.2350 - val_accuracy: 0.5598\n",
            "Epoch 36/40\n",
            "29/29 [==============================] - 0s 10ms/step - loss: 1.0121 - accuracy: 0.6641 - val_loss: 1.2100 - val_accuracy: 0.5903\n",
            "Epoch 37/40\n",
            "29/29 [==============================] - 0s 10ms/step - loss: 1.1186 - accuracy: 0.6302 - val_loss: 1.1837 - val_accuracy: 0.6005\n",
            "Epoch 38/40\n",
            "29/29 [==============================] - 0s 12ms/step - loss: 1.0443 - accuracy: 0.6389 - val_loss: 1.1814 - val_accuracy: 0.5852\n",
            "Epoch 39/40\n",
            "29/29 [==============================] - 0s 11ms/step - loss: 0.9662 - accuracy: 0.6718 - val_loss: 1.1477 - val_accuracy: 0.5980\n",
            "Epoch 40/40\n",
            "29/29 [==============================] - 0s 13ms/step - loss: 0.9314 - accuracy: 0.6783 - val_loss: 1.1557 - val_accuracy: 0.6158\n",
            "21/21 [==============================] - 0s 5ms/step\n",
            "Epoch 1/40\n",
            "29/29 [==============================] - 3s 32ms/step - loss: 2.6513 - accuracy: 0.0766 - val_loss: 2.6294 - val_accuracy: 0.0840\n",
            "Epoch 2/40\n",
            "29/29 [==============================] - 0s 13ms/step - loss: 2.5865 - accuracy: 0.1039 - val_loss: 2.5775 - val_accuracy: 0.1272\n",
            "Epoch 3/40\n",
            "29/29 [==============================] - 0s 11ms/step - loss: 2.4947 - accuracy: 0.1532 - val_loss: 2.5025 - val_accuracy: 0.1527\n",
            "Epoch 4/40\n",
            "29/29 [==============================] - 0s 14ms/step - loss: 2.5163 - accuracy: 0.1346 - val_loss: 2.4880 - val_accuracy: 0.1399\n",
            "Epoch 5/40\n",
            "29/29 [==============================] - 0s 11ms/step - loss: 2.3991 - accuracy: 0.1904 - val_loss: 2.3344 - val_accuracy: 0.2316\n",
            "Epoch 6/40\n",
            "29/29 [==============================] - 0s 10ms/step - loss: 2.2656 - accuracy: 0.2429 - val_loss: 2.2651 - val_accuracy: 0.2672\n",
            "Epoch 7/40\n",
            "29/29 [==============================] - 0s 13ms/step - loss: 2.1605 - accuracy: 0.2910 - val_loss: 2.1593 - val_accuracy: 0.2366\n",
            "Epoch 8/40\n",
            "29/29 [==============================] - 0s 16ms/step - loss: 2.1111 - accuracy: 0.2637 - val_loss: 2.2262 - val_accuracy: 0.2443\n",
            "Epoch 9/40\n",
            "29/29 [==============================] - 0s 12ms/step - loss: 2.2899 - accuracy: 0.2243 - val_loss: 2.2519 - val_accuracy: 0.2112\n",
            "Epoch 10/40\n",
            "29/29 [==============================] - 0s 9ms/step - loss: 2.0641 - accuracy: 0.2987 - val_loss: 2.0725 - val_accuracy: 0.3104\n",
            "Epoch 11/40\n",
            "29/29 [==============================] - 0s 10ms/step - loss: 2.2287 - accuracy: 0.2505 - val_loss: 2.4459 - val_accuracy: 0.1985\n",
            "Epoch 12/40\n",
            "29/29 [==============================] - 0s 9ms/step - loss: 2.1997 - accuracy: 0.2133 - val_loss: 2.1809 - val_accuracy: 0.2239\n",
            "Epoch 13/40\n",
            "29/29 [==============================] - 0s 11ms/step - loss: 2.0321 - accuracy: 0.2856 - val_loss: 2.0435 - val_accuracy: 0.2494\n",
            "Epoch 14/40\n",
            "29/29 [==============================] - 0s 14ms/step - loss: 2.0504 - accuracy: 0.2768 - val_loss: 2.0484 - val_accuracy: 0.2392\n",
            "Epoch 15/40\n",
            "29/29 [==============================] - 0s 15ms/step - loss: 1.9571 - accuracy: 0.2779 - val_loss: 2.1892 - val_accuracy: 0.2341\n",
            "Epoch 16/40\n",
            "29/29 [==============================] - 0s 10ms/step - loss: 1.9188 - accuracy: 0.3031 - val_loss: 1.9013 - val_accuracy: 0.2875\n",
            "Epoch 17/40\n",
            "29/29 [==============================] - 0s 10ms/step - loss: 1.8505 - accuracy: 0.3293 - val_loss: 1.8549 - val_accuracy: 0.2952\n",
            "Epoch 18/40\n",
            "29/29 [==============================] - 0s 10ms/step - loss: 1.7624 - accuracy: 0.3632 - val_loss: 1.8798 - val_accuracy: 0.2901\n",
            "Epoch 19/40\n",
            "29/29 [==============================] - 0s 9ms/step - loss: 1.7505 - accuracy: 0.3786 - val_loss: 1.9135 - val_accuracy: 0.3155\n",
            "Epoch 20/40\n",
            "29/29 [==============================] - 0s 10ms/step - loss: 1.7395 - accuracy: 0.3687 - val_loss: 1.7669 - val_accuracy: 0.3486\n",
            "Epoch 21/40\n",
            "29/29 [==============================] - 0s 10ms/step - loss: 1.6409 - accuracy: 0.4103 - val_loss: 1.9191 - val_accuracy: 0.3079\n",
            "Epoch 22/40\n",
            "29/29 [==============================] - 0s 9ms/step - loss: 1.6918 - accuracy: 0.3818 - val_loss: 1.7884 - val_accuracy: 0.3639\n",
            "Epoch 23/40\n",
            "29/29 [==============================] - 0s 9ms/step - loss: 1.6269 - accuracy: 0.4256 - val_loss: 1.7017 - val_accuracy: 0.3613\n",
            "Epoch 24/40\n",
            "29/29 [==============================] - 0s 10ms/step - loss: 1.5362 - accuracy: 0.4683 - val_loss: 1.6438 - val_accuracy: 0.4071\n",
            "Epoch 25/40\n",
            "29/29 [==============================] - 0s 10ms/step - loss: 1.5203 - accuracy: 0.4705 - val_loss: 1.5772 - val_accuracy: 0.4504\n",
            "Epoch 26/40\n",
            "29/29 [==============================] - 0s 13ms/step - loss: 1.5281 - accuracy: 0.4617 - val_loss: 1.6115 - val_accuracy: 0.4377\n",
            "Epoch 27/40\n",
            "29/29 [==============================] - 0s 11ms/step - loss: 1.4419 - accuracy: 0.5131 - val_loss: 1.5933 - val_accuracy: 0.4224\n",
            "Epoch 28/40\n",
            "29/29 [==============================] - 0s 13ms/step - loss: 1.4402 - accuracy: 0.4869 - val_loss: 1.6282 - val_accuracy: 0.4020\n",
            "Epoch 29/40\n",
            "29/29 [==============================] - 0s 11ms/step - loss: 1.4001 - accuracy: 0.4989 - val_loss: 1.4929 - val_accuracy: 0.4860\n",
            "Epoch 30/40\n",
            "29/29 [==============================] - 0s 14ms/step - loss: 1.4050 - accuracy: 0.5175 - val_loss: 1.6615 - val_accuracy: 0.4122\n",
            "Epoch 31/40\n",
            "29/29 [==============================] - 0s 14ms/step - loss: 1.4353 - accuracy: 0.4923 - val_loss: 1.6156 - val_accuracy: 0.4326\n",
            "Epoch 32/40\n",
            "29/29 [==============================] - 0s 11ms/step - loss: 1.4400 - accuracy: 0.4989 - val_loss: 1.4776 - val_accuracy: 0.4936\n",
            "Epoch 33/40\n",
            "29/29 [==============================] - 0s 10ms/step - loss: 1.3103 - accuracy: 0.5646 - val_loss: 1.5204 - val_accuracy: 0.4707\n",
            "Epoch 34/40\n",
            "29/29 [==============================] - 0s 11ms/step - loss: 1.4896 - accuracy: 0.4814 - val_loss: 2.0171 - val_accuracy: 0.3308\n",
            "Epoch 35/40\n",
            "29/29 [==============================] - 0s 13ms/step - loss: 1.5159 - accuracy: 0.4792 - val_loss: 1.4538 - val_accuracy: 0.4911\n",
            "Epoch 36/40\n",
            "29/29 [==============================] - 0s 10ms/step - loss: 1.3265 - accuracy: 0.5416 - val_loss: 1.3562 - val_accuracy: 0.5115\n",
            "Epoch 37/40\n",
            "29/29 [==============================] - 0s 14ms/step - loss: 1.2279 - accuracy: 0.5602 - val_loss: 1.3985 - val_accuracy: 0.5038\n",
            "Epoch 38/40\n",
            "29/29 [==============================] - 0s 10ms/step - loss: 1.2236 - accuracy: 0.5897 - val_loss: 1.4073 - val_accuracy: 0.5165\n",
            "Epoch 39/40\n",
            "29/29 [==============================] - 0s 12ms/step - loss: 1.1353 - accuracy: 0.6182 - val_loss: 1.4106 - val_accuracy: 0.5242\n",
            "Epoch 40/40\n",
            "29/29 [==============================] - 0s 10ms/step - loss: 1.1895 - accuracy: 0.5832 - val_loss: 1.3403 - val_accuracy: 0.5191\n",
            "21/21 [==============================] - 1s 6ms/step\n",
            "Epoch 1/40\n",
            "29/29 [==============================] - 2s 29ms/step - loss: 2.6526 - accuracy: 0.0788 - val_loss: 2.5931 - val_accuracy: 0.1199\n",
            "Epoch 2/40\n",
            "29/29 [==============================] - 0s 12ms/step - loss: 2.5142 - accuracy: 0.1236 - val_loss: 2.4684 - val_accuracy: 0.1709\n",
            "Epoch 3/40\n",
            "29/29 [==============================] - 0s 12ms/step - loss: 2.5683 - accuracy: 0.1236 - val_loss: 2.5316 - val_accuracy: 0.1429\n",
            "Epoch 4/40\n",
            "29/29 [==============================] - 0s 11ms/step - loss: 2.4956 - accuracy: 0.1718 - val_loss: 2.4433 - val_accuracy: 0.1480\n",
            "Epoch 5/40\n",
            "29/29 [==============================] - 0s 12ms/step - loss: 2.3275 - accuracy: 0.2112 - val_loss: 2.3116 - val_accuracy: 0.1837\n",
            "Epoch 6/40\n",
            "29/29 [==============================] - 0s 12ms/step - loss: 2.2019 - accuracy: 0.2374 - val_loss: 2.2893 - val_accuracy: 0.2194\n",
            "Epoch 7/40\n",
            "29/29 [==============================] - 0s 12ms/step - loss: 2.0688 - accuracy: 0.2954 - val_loss: 1.9715 - val_accuracy: 0.3138\n",
            "Epoch 8/40\n",
            "29/29 [==============================] - 0s 12ms/step - loss: 1.8651 - accuracy: 0.3414 - val_loss: 1.9105 - val_accuracy: 0.3316\n",
            "Epoch 9/40\n",
            "29/29 [==============================] - 0s 13ms/step - loss: 1.9112 - accuracy: 0.3107 - val_loss: 1.8120 - val_accuracy: 0.3291\n",
            "Epoch 10/40\n",
            "29/29 [==============================] - 0s 15ms/step - loss: 1.7398 - accuracy: 0.3851 - val_loss: 1.8341 - val_accuracy: 0.3878\n",
            "Epoch 11/40\n",
            "29/29 [==============================] - 0s 15ms/step - loss: 1.7212 - accuracy: 0.4059 - val_loss: 1.7868 - val_accuracy: 0.3852\n",
            "Epoch 12/40\n",
            "29/29 [==============================] - 0s 15ms/step - loss: 1.5716 - accuracy: 0.4716 - val_loss: 1.6186 - val_accuracy: 0.4286\n",
            "Epoch 13/40\n",
            "29/29 [==============================] - 0s 17ms/step - loss: 1.4767 - accuracy: 0.4945 - val_loss: 1.7822 - val_accuracy: 0.4464\n",
            "Epoch 14/40\n",
            "29/29 [==============================] - 0s 13ms/step - loss: 1.4457 - accuracy: 0.4956 - val_loss: 1.3836 - val_accuracy: 0.5459\n",
            "Epoch 15/40\n",
            "29/29 [==============================] - 0s 14ms/step - loss: 1.4081 - accuracy: 0.5066 - val_loss: 1.5750 - val_accuracy: 0.4643\n",
            "Epoch 16/40\n",
            "29/29 [==============================] - 0s 17ms/step - loss: 1.4097 - accuracy: 0.5186 - val_loss: 1.4208 - val_accuracy: 0.5485\n",
            "Epoch 17/40\n",
            "29/29 [==============================] - 0s 16ms/step - loss: 1.2318 - accuracy: 0.5919 - val_loss: 1.2858 - val_accuracy: 0.5791\n",
            "Epoch 18/40\n",
            "29/29 [==============================] - 1s 20ms/step - loss: 1.1044 - accuracy: 0.6543 - val_loss: 1.3345 - val_accuracy: 0.5485\n",
            "Epoch 19/40\n",
            "29/29 [==============================] - 0s 14ms/step - loss: 1.1437 - accuracy: 0.6193 - val_loss: 1.2368 - val_accuracy: 0.6148\n",
            "Epoch 20/40\n",
            "29/29 [==============================] - 0s 12ms/step - loss: 1.0234 - accuracy: 0.6499 - val_loss: 1.1634 - val_accuracy: 0.6122\n",
            "Epoch 21/40\n",
            "29/29 [==============================] - 0s 13ms/step - loss: 1.1609 - accuracy: 0.5908 - val_loss: 1.2140 - val_accuracy: 0.5842\n",
            "Epoch 22/40\n",
            "29/29 [==============================] - 0s 12ms/step - loss: 1.0389 - accuracy: 0.6368 - val_loss: 1.2016 - val_accuracy: 0.6071\n",
            "Epoch 23/40\n",
            "29/29 [==============================] - 0s 12ms/step - loss: 1.0100 - accuracy: 0.6510 - val_loss: 1.0595 - val_accuracy: 0.6480\n",
            "Epoch 24/40\n",
            "29/29 [==============================] - 0s 11ms/step - loss: 0.8471 - accuracy: 0.7123 - val_loss: 0.9977 - val_accuracy: 0.6735\n",
            "Epoch 25/40\n",
            "29/29 [==============================] - 0s 12ms/step - loss: 0.8998 - accuracy: 0.6958 - val_loss: 1.1208 - val_accuracy: 0.6250\n",
            "Epoch 26/40\n",
            "29/29 [==============================] - 0s 13ms/step - loss: 0.8108 - accuracy: 0.7254 - val_loss: 0.9325 - val_accuracy: 0.7066\n",
            "Epoch 27/40\n",
            "29/29 [==============================] - 0s 13ms/step - loss: 0.7255 - accuracy: 0.7440 - val_loss: 0.9270 - val_accuracy: 0.6990\n",
            "Epoch 28/40\n",
            "29/29 [==============================] - 0s 13ms/step - loss: 0.6268 - accuracy: 0.7823 - val_loss: 0.9246 - val_accuracy: 0.7041\n",
            "Epoch 29/40\n",
            "29/29 [==============================] - 0s 12ms/step - loss: 0.8002 - accuracy: 0.7265 - val_loss: 0.8497 - val_accuracy: 0.7015\n",
            "Epoch 30/40\n",
            "29/29 [==============================] - 0s 12ms/step - loss: 0.7011 - accuracy: 0.7702 - val_loss: 0.9390 - val_accuracy: 0.6709\n",
            "Epoch 31/40\n",
            "29/29 [==============================] - 0s 12ms/step - loss: 0.6294 - accuracy: 0.7910 - val_loss: 0.7947 - val_accuracy: 0.7296\n",
            "Epoch 32/40\n",
            "29/29 [==============================] - 0s 13ms/step - loss: 0.6601 - accuracy: 0.7560 - val_loss: 0.7638 - val_accuracy: 0.7347\n",
            "Epoch 33/40\n",
            "29/29 [==============================] - 0s 12ms/step - loss: 0.6467 - accuracy: 0.7845 - val_loss: 0.7996 - val_accuracy: 0.7500\n",
            "Epoch 34/40\n",
            "29/29 [==============================] - 0s 12ms/step - loss: 0.6039 - accuracy: 0.7823 - val_loss: 0.7525 - val_accuracy: 0.7398\n",
            "Epoch 35/40\n",
            "29/29 [==============================] - 0s 13ms/step - loss: 0.5586 - accuracy: 0.8118 - val_loss: 0.8336 - val_accuracy: 0.7219\n",
            "Epoch 36/40\n",
            "29/29 [==============================] - 0s 12ms/step - loss: 0.6257 - accuracy: 0.7899 - val_loss: 0.9690 - val_accuracy: 0.7066\n",
            "Epoch 37/40\n",
            "29/29 [==============================] - 0s 12ms/step - loss: 0.6715 - accuracy: 0.7790 - val_loss: 0.9065 - val_accuracy: 0.6939\n",
            "Epoch 38/40\n",
            "29/29 [==============================] - 0s 12ms/step - loss: 0.6537 - accuracy: 0.7823 - val_loss: 0.7853 - val_accuracy: 0.7653\n",
            "Epoch 39/40\n",
            "29/29 [==============================] - 0s 12ms/step - loss: 0.6082 - accuracy: 0.7757 - val_loss: 0.6721 - val_accuracy: 0.7653\n",
            "Epoch 40/40\n",
            "29/29 [==============================] - 0s 12ms/step - loss: 0.4796 - accuracy: 0.8348 - val_loss: 0.7116 - val_accuracy: 0.7551\n",
            "21/21 [==============================] - 0s 5ms/step\n",
            "Epoch 1/40\n",
            "29/29 [==============================] - 2s 28ms/step - loss: 2.6274 - accuracy: 0.1018 - val_loss: 2.5441 - val_accuracy: 0.1399\n",
            "Epoch 2/40\n",
            "29/29 [==============================] - 0s 13ms/step - loss: 2.4877 - accuracy: 0.1761 - val_loss: 2.5219 - val_accuracy: 0.1578\n",
            "Epoch 3/40\n",
            "29/29 [==============================] - 0s 11ms/step - loss: 2.5682 - accuracy: 0.1335 - val_loss: 2.6001 - val_accuracy: 0.1603\n",
            "Epoch 4/40\n",
            "29/29 [==============================] - 0s 11ms/step - loss: 2.4892 - accuracy: 0.1565 - val_loss: 2.4732 - val_accuracy: 0.1425\n",
            "Epoch 5/40\n",
            "29/29 [==============================] - 0s 12ms/step - loss: 2.2677 - accuracy: 0.2221 - val_loss: 2.1999 - val_accuracy: 0.2443\n",
            "Epoch 6/40\n",
            "29/29 [==============================] - 1s 19ms/step - loss: 2.0199 - accuracy: 0.2801 - val_loss: 1.9258 - val_accuracy: 0.2824\n",
            "Epoch 7/40\n",
            "29/29 [==============================] - 1s 18ms/step - loss: 1.9933 - accuracy: 0.2954 - val_loss: 1.8705 - val_accuracy: 0.3206\n",
            "Epoch 8/40\n",
            "29/29 [==============================] - 0s 12ms/step - loss: 1.8648 - accuracy: 0.3425 - val_loss: 2.2526 - val_accuracy: 0.1934\n",
            "Epoch 9/40\n",
            "29/29 [==============================] - 0s 12ms/step - loss: 1.8653 - accuracy: 0.3304 - val_loss: 1.7589 - val_accuracy: 0.3410\n",
            "Epoch 10/40\n",
            "29/29 [==============================] - 0s 12ms/step - loss: 1.7164 - accuracy: 0.3884 - val_loss: 1.7641 - val_accuracy: 0.3766\n",
            "Epoch 11/40\n",
            "29/29 [==============================] - 0s 12ms/step - loss: 1.8090 - accuracy: 0.3753 - val_loss: 1.9140 - val_accuracy: 0.3232\n",
            "Epoch 12/40\n",
            "29/29 [==============================] - 0s 13ms/step - loss: 1.7692 - accuracy: 0.3753 - val_loss: 1.7670 - val_accuracy: 0.3766\n",
            "Epoch 13/40\n",
            "29/29 [==============================] - 0s 12ms/step - loss: 1.6843 - accuracy: 0.4103 - val_loss: 1.6249 - val_accuracy: 0.4148\n",
            "Epoch 14/40\n",
            "29/29 [==============================] - 0s 11ms/step - loss: 1.5791 - accuracy: 0.4376 - val_loss: 1.8601 - val_accuracy: 0.3486\n",
            "Epoch 15/40\n",
            "29/29 [==============================] - 0s 12ms/step - loss: 1.6857 - accuracy: 0.3895 - val_loss: 1.8590 - val_accuracy: 0.3715\n",
            "Epoch 16/40\n",
            "29/29 [==============================] - 0s 11ms/step - loss: 1.6359 - accuracy: 0.4223 - val_loss: 1.6043 - val_accuracy: 0.4249\n",
            "Epoch 17/40\n",
            "29/29 [==============================] - 0s 12ms/step - loss: 1.4663 - accuracy: 0.4770 - val_loss: 1.6256 - val_accuracy: 0.3766\n",
            "Epoch 18/40\n",
            "29/29 [==============================] - 0s 11ms/step - loss: 1.4201 - accuracy: 0.4781 - val_loss: 1.5733 - val_accuracy: 0.4377\n",
            "Epoch 19/40\n",
            "29/29 [==============================] - 0s 11ms/step - loss: 1.3751 - accuracy: 0.4978 - val_loss: 1.5170 - val_accuracy: 0.4427\n",
            "Epoch 20/40\n",
            "29/29 [==============================] - 0s 13ms/step - loss: 1.4215 - accuracy: 0.5044 - val_loss: 1.5295 - val_accuracy: 0.4402\n",
            "Epoch 21/40\n",
            "29/29 [==============================] - 0s 12ms/step - loss: 1.3842 - accuracy: 0.5153 - val_loss: 1.4291 - val_accuracy: 0.4707\n",
            "Epoch 22/40\n",
            "29/29 [==============================] - 0s 12ms/step - loss: 1.2623 - accuracy: 0.5449 - val_loss: 1.3963 - val_accuracy: 0.4504\n",
            "Epoch 23/40\n",
            "29/29 [==============================] - 0s 12ms/step - loss: 1.2342 - accuracy: 0.5602 - val_loss: 1.2971 - val_accuracy: 0.5420\n",
            "Epoch 24/40\n",
            "29/29 [==============================] - 0s 12ms/step - loss: 1.2096 - accuracy: 0.5689 - val_loss: 1.3911 - val_accuracy: 0.5115\n",
            "Epoch 25/40\n",
            "29/29 [==============================] - 0s 12ms/step - loss: 1.1711 - accuracy: 0.5996 - val_loss: 1.3261 - val_accuracy: 0.5267\n",
            "Epoch 26/40\n",
            "29/29 [==============================] - 0s 11ms/step - loss: 1.1140 - accuracy: 0.6127 - val_loss: 1.1768 - val_accuracy: 0.5929\n",
            "Epoch 27/40\n",
            "29/29 [==============================] - 0s 13ms/step - loss: 1.0403 - accuracy: 0.6335 - val_loss: 1.3040 - val_accuracy: 0.5496\n",
            "Epoch 28/40\n",
            "29/29 [==============================] - 0s 12ms/step - loss: 0.9791 - accuracy: 0.6696 - val_loss: 1.2301 - val_accuracy: 0.6005\n",
            "Epoch 29/40\n",
            "29/29 [==============================] - 0s 12ms/step - loss: 1.0183 - accuracy: 0.6247 - val_loss: 1.2243 - val_accuracy: 0.5674\n",
            "Epoch 30/40\n",
            "29/29 [==============================] - 0s 12ms/step - loss: 1.0091 - accuracy: 0.6335 - val_loss: 1.3908 - val_accuracy: 0.4987\n",
            "Epoch 31/40\n",
            "29/29 [==============================] - 0s 11ms/step - loss: 0.9772 - accuracy: 0.6433 - val_loss: 1.2561 - val_accuracy: 0.5954\n",
            "Epoch 32/40\n",
            "29/29 [==============================] - 0s 12ms/step - loss: 0.9466 - accuracy: 0.6696 - val_loss: 1.2263 - val_accuracy: 0.5751\n",
            "Epoch 33/40\n",
            "29/29 [==============================] - 0s 12ms/step - loss: 0.9342 - accuracy: 0.6751 - val_loss: 1.1404 - val_accuracy: 0.6107\n",
            "Epoch 34/40\n",
            "29/29 [==============================] - 0s 11ms/step - loss: 0.9280 - accuracy: 0.6663 - val_loss: 1.0683 - val_accuracy: 0.6463\n",
            "Epoch 35/40\n",
            "29/29 [==============================] - 0s 12ms/step - loss: 0.8346 - accuracy: 0.7243 - val_loss: 1.1144 - val_accuracy: 0.6285\n",
            "Epoch 36/40\n",
            "29/29 [==============================] - 0s 12ms/step - loss: 0.8117 - accuracy: 0.7177 - val_loss: 1.1677 - val_accuracy: 0.6031\n",
            "Epoch 37/40\n",
            "29/29 [==============================] - 0s 13ms/step - loss: 0.7473 - accuracy: 0.7418 - val_loss: 0.9996 - val_accuracy: 0.6539\n",
            "Epoch 38/40\n",
            "29/29 [==============================] - 0s 12ms/step - loss: 0.6745 - accuracy: 0.7681 - val_loss: 0.9632 - val_accuracy: 0.6896\n",
            "Epoch 39/40\n",
            "29/29 [==============================] - 0s 13ms/step - loss: 0.6842 - accuracy: 0.7560 - val_loss: 1.3498 - val_accuracy: 0.5623\n",
            "Epoch 40/40\n",
            "29/29 [==============================] - 0s 12ms/step - loss: 0.7406 - accuracy: 0.7451 - val_loss: 0.9842 - val_accuracy: 0.6819\n",
            "21/21 [==============================] - 0s 4ms/step\n",
            "Epoch 1/40\n",
            "29/29 [==============================] - 3s 30ms/step - loss: 2.6195 - accuracy: 0.0974 - val_loss: 2.5092 - val_accuracy: 0.1298\n",
            "Epoch 2/40\n",
            "29/29 [==============================] - 0s 13ms/step - loss: 2.4756 - accuracy: 0.1565 - val_loss: 2.4548 - val_accuracy: 0.1679\n",
            "Epoch 3/40\n",
            "29/29 [==============================] - 0s 13ms/step - loss: 2.3456 - accuracy: 0.2046 - val_loss: 2.2528 - val_accuracy: 0.2621\n",
            "Epoch 4/40\n",
            "29/29 [==============================] - 0s 13ms/step - loss: 2.2550 - accuracy: 0.2462 - val_loss: 2.3940 - val_accuracy: 0.2087\n",
            "Epoch 5/40\n",
            "29/29 [==============================] - 0s 13ms/step - loss: 2.1801 - accuracy: 0.2768 - val_loss: 2.0474 - val_accuracy: 0.3053\n",
            "Epoch 6/40\n",
            "29/29 [==============================] - 0s 16ms/step - loss: 2.0250 - accuracy: 0.2965 - val_loss: 1.8423 - val_accuracy: 0.3359\n",
            "Epoch 7/40\n",
            "29/29 [==============================] - 0s 13ms/step - loss: 1.9063 - accuracy: 0.3468 - val_loss: 1.7977 - val_accuracy: 0.3791\n",
            "Epoch 8/40\n",
            "29/29 [==============================] - 0s 13ms/step - loss: 1.7626 - accuracy: 0.4234 - val_loss: 1.6962 - val_accuracy: 0.3944\n",
            "Epoch 9/40\n",
            "29/29 [==============================] - 0s 12ms/step - loss: 1.6308 - accuracy: 0.4486 - val_loss: 1.6678 - val_accuracy: 0.4173\n",
            "Epoch 10/40\n",
            "29/29 [==============================] - 0s 12ms/step - loss: 1.6492 - accuracy: 0.4333 - val_loss: 1.7260 - val_accuracy: 0.3919\n",
            "Epoch 11/40\n",
            "29/29 [==============================] - 0s 13ms/step - loss: 1.6180 - accuracy: 0.4344 - val_loss: 1.7914 - val_accuracy: 0.3740\n",
            "Epoch 12/40\n",
            "29/29 [==============================] - 0s 11ms/step - loss: 1.6230 - accuracy: 0.4409 - val_loss: 1.6475 - val_accuracy: 0.4097\n",
            "Epoch 13/40\n",
            "29/29 [==============================] - 0s 12ms/step - loss: 1.3981 - accuracy: 0.5460 - val_loss: 1.4866 - val_accuracy: 0.4809\n",
            "Epoch 14/40\n",
            "29/29 [==============================] - 0s 13ms/step - loss: 1.3684 - accuracy: 0.5252 - val_loss: 1.4792 - val_accuracy: 0.4682\n",
            "Epoch 15/40\n",
            "29/29 [==============================] - 0s 12ms/step - loss: 1.3501 - accuracy: 0.5230 - val_loss: 1.3039 - val_accuracy: 0.5445\n",
            "Epoch 16/40\n",
            "29/29 [==============================] - 0s 12ms/step - loss: 1.2238 - accuracy: 0.5733 - val_loss: 1.3750 - val_accuracy: 0.5420\n",
            "Epoch 17/40\n",
            "29/29 [==============================] - 0s 13ms/step - loss: 1.1785 - accuracy: 0.6039 - val_loss: 1.2906 - val_accuracy: 0.5496\n",
            "Epoch 18/40\n",
            "29/29 [==============================] - 0s 12ms/step - loss: 1.1874 - accuracy: 0.5842 - val_loss: 1.2335 - val_accuracy: 0.6107\n",
            "Epoch 19/40\n",
            "29/29 [==============================] - 0s 12ms/step - loss: 1.0328 - accuracy: 0.6674 - val_loss: 1.1202 - val_accuracy: 0.6438\n",
            "Epoch 20/40\n",
            "29/29 [==============================] - 0s 13ms/step - loss: 1.0185 - accuracy: 0.6575 - val_loss: 1.1665 - val_accuracy: 0.6081\n",
            "Epoch 21/40\n",
            "29/29 [==============================] - 0s 13ms/step - loss: 1.0199 - accuracy: 0.6422 - val_loss: 1.0899 - val_accuracy: 0.6616\n",
            "Epoch 22/40\n",
            "29/29 [==============================] - 0s 12ms/step - loss: 1.1453 - accuracy: 0.6050 - val_loss: 1.0948 - val_accuracy: 0.6183\n",
            "Epoch 23/40\n",
            "29/29 [==============================] - 0s 12ms/step - loss: 0.8824 - accuracy: 0.7046 - val_loss: 1.0265 - val_accuracy: 0.6692\n",
            "Epoch 24/40\n",
            "29/29 [==============================] - 0s 12ms/step - loss: 0.8163 - accuracy: 0.7166 - val_loss: 1.0071 - val_accuracy: 0.6692\n",
            "Epoch 25/40\n",
            "29/29 [==============================] - 0s 13ms/step - loss: 0.9988 - accuracy: 0.6608 - val_loss: 1.1061 - val_accuracy: 0.6514\n",
            "Epoch 26/40\n",
            "29/29 [==============================] - 0s 12ms/step - loss: 0.8870 - accuracy: 0.7035 - val_loss: 0.9606 - val_accuracy: 0.6921\n",
            "Epoch 27/40\n",
            "29/29 [==============================] - 0s 13ms/step - loss: 0.7785 - accuracy: 0.7429 - val_loss: 0.8610 - val_accuracy: 0.7023\n",
            "Epoch 28/40\n",
            "29/29 [==============================] - 0s 12ms/step - loss: 0.7650 - accuracy: 0.7341 - val_loss: 0.8472 - val_accuracy: 0.7176\n",
            "Epoch 29/40\n",
            "29/29 [==============================] - 0s 12ms/step - loss: 0.7455 - accuracy: 0.7352 - val_loss: 0.8391 - val_accuracy: 0.7252\n",
            "Epoch 30/40\n",
            "29/29 [==============================] - 0s 11ms/step - loss: 0.7005 - accuracy: 0.7702 - val_loss: 0.9270 - val_accuracy: 0.6947\n",
            "Epoch 31/40\n",
            "29/29 [==============================] - 0s 13ms/step - loss: 0.7086 - accuracy: 0.7637 - val_loss: 0.9227 - val_accuracy: 0.6896\n",
            "Epoch 32/40\n",
            "29/29 [==============================] - 0s 12ms/step - loss: 0.6057 - accuracy: 0.7910 - val_loss: 0.8134 - val_accuracy: 0.7252\n",
            "Epoch 33/40\n",
            "29/29 [==============================] - 0s 13ms/step - loss: 0.6227 - accuracy: 0.7877 - val_loss: 0.7460 - val_accuracy: 0.7634\n",
            "Epoch 34/40\n",
            "29/29 [==============================] - 0s 14ms/step - loss: 0.6108 - accuracy: 0.7987 - val_loss: 0.7565 - val_accuracy: 0.7684\n",
            "Epoch 35/40\n",
            "29/29 [==============================] - 0s 13ms/step - loss: 0.5724 - accuracy: 0.8118 - val_loss: 0.8995 - val_accuracy: 0.7201\n",
            "Epoch 36/40\n",
            "29/29 [==============================] - 0s 12ms/step - loss: 0.5132 - accuracy: 0.8348 - val_loss: 0.8156 - val_accuracy: 0.7405\n",
            "Epoch 37/40\n",
            "29/29 [==============================] - 0s 12ms/step - loss: 0.5219 - accuracy: 0.8315 - val_loss: 0.7230 - val_accuracy: 0.7379\n",
            "Epoch 38/40\n",
            "29/29 [==============================] - 0s 12ms/step - loss: 0.6668 - accuracy: 0.7735 - val_loss: 0.8143 - val_accuracy: 0.7354\n",
            "Epoch 39/40\n",
            "29/29 [==============================] - 0s 16ms/step - loss: 0.5141 - accuracy: 0.8315 - val_loss: 0.7495 - val_accuracy: 0.7481\n",
            "Epoch 40/40\n",
            "29/29 [==============================] - 0s 17ms/step - loss: 0.4657 - accuracy: 0.8501 - val_loss: 0.6888 - val_accuracy: 0.7786\n",
            "21/21 [==============================] - 1s 6ms/step\n",
            "Epoch 1/40\n",
            "29/29 [==============================] - 3s 32ms/step - loss: 2.6645 - accuracy: 0.0842 - val_loss: 2.5776 - val_accuracy: 0.1403\n",
            "Epoch 2/40\n",
            "29/29 [==============================] - 0s 14ms/step - loss: 2.5242 - accuracy: 0.1346 - val_loss: 2.5179 - val_accuracy: 0.1760\n",
            "Epoch 3/40\n",
            "29/29 [==============================] - 0s 12ms/step - loss: 2.4774 - accuracy: 0.1696 - val_loss: 2.5066 - val_accuracy: 0.1684\n",
            "Epoch 4/40\n",
            "29/29 [==============================] - 0s 15ms/step - loss: 2.5868 - accuracy: 0.1160 - val_loss: 2.5290 - val_accuracy: 0.1684\n",
            "Epoch 5/40\n",
            "29/29 [==============================] - 0s 13ms/step - loss: 2.4852 - accuracy: 0.1597 - val_loss: 2.3764 - val_accuracy: 0.2526\n",
            "Epoch 6/40\n",
            "29/29 [==============================] - 0s 12ms/step - loss: 2.3203 - accuracy: 0.2298 - val_loss: 2.4318 - val_accuracy: 0.1684\n",
            "Epoch 7/40\n",
            "29/29 [==============================] - 0s 12ms/step - loss: 2.2694 - accuracy: 0.2112 - val_loss: 2.4001 - val_accuracy: 0.1786\n",
            "Epoch 8/40\n",
            "29/29 [==============================] - 0s 13ms/step - loss: 2.4857 - accuracy: 0.1477 - val_loss: 2.5242 - val_accuracy: 0.1709\n",
            "Epoch 9/40\n",
            "29/29 [==============================] - 0s 13ms/step - loss: 2.2393 - accuracy: 0.2484 - val_loss: 2.1361 - val_accuracy: 0.2143\n",
            "Epoch 10/40\n",
            "29/29 [==============================] - 0s 13ms/step - loss: 2.0235 - accuracy: 0.2921 - val_loss: 1.8643 - val_accuracy: 0.3240\n",
            "Epoch 11/40\n",
            "29/29 [==============================] - 0s 12ms/step - loss: 1.8669 - accuracy: 0.3118 - val_loss: 1.7699 - val_accuracy: 0.3597\n",
            "Epoch 12/40\n",
            "29/29 [==============================] - 0s 12ms/step - loss: 1.8258 - accuracy: 0.3676 - val_loss: 1.8785 - val_accuracy: 0.3495\n",
            "Epoch 13/40\n",
            "29/29 [==============================] - 0s 13ms/step - loss: 1.7484 - accuracy: 0.3709 - val_loss: 1.5793 - val_accuracy: 0.4490\n",
            "Epoch 14/40\n",
            "29/29 [==============================] - 0s 13ms/step - loss: 1.5831 - accuracy: 0.4442 - val_loss: 1.7270 - val_accuracy: 0.4031\n",
            "Epoch 15/40\n",
            "29/29 [==============================] - 0s 13ms/step - loss: 1.5471 - accuracy: 0.4551 - val_loss: 1.5153 - val_accuracy: 0.5000\n",
            "Epoch 16/40\n",
            "29/29 [==============================] - 0s 13ms/step - loss: 1.5746 - accuracy: 0.4606 - val_loss: 1.6414 - val_accuracy: 0.3954\n",
            "Epoch 17/40\n",
            "29/29 [==============================] - 0s 12ms/step - loss: 1.6262 - accuracy: 0.4333 - val_loss: 1.9380 - val_accuracy: 0.3469\n",
            "Epoch 18/40\n",
            "29/29 [==============================] - 0s 12ms/step - loss: 1.8650 - accuracy: 0.3775 - val_loss: 1.7369 - val_accuracy: 0.3852\n",
            "Epoch 19/40\n",
            "29/29 [==============================] - 0s 12ms/step - loss: 1.4303 - accuracy: 0.5153 - val_loss: 1.3756 - val_accuracy: 0.5434\n",
            "Epoch 20/40\n",
            "29/29 [==============================] - 0s 12ms/step - loss: 1.2205 - accuracy: 0.6007 - val_loss: 1.2678 - val_accuracy: 0.5663\n",
            "Epoch 21/40\n",
            "29/29 [==============================] - 0s 12ms/step - loss: 1.1464 - accuracy: 0.6105 - val_loss: 1.2214 - val_accuracy: 0.5638\n",
            "Epoch 22/40\n",
            "29/29 [==============================] - 0s 13ms/step - loss: 1.0763 - accuracy: 0.6433 - val_loss: 1.1390 - val_accuracy: 0.6148\n",
            "Epoch 23/40\n",
            "29/29 [==============================] - 0s 13ms/step - loss: 1.1854 - accuracy: 0.5821 - val_loss: 1.2403 - val_accuracy: 0.5842\n",
            "Epoch 24/40\n",
            "29/29 [==============================] - 0s 13ms/step - loss: 1.0960 - accuracy: 0.6444 - val_loss: 1.1851 - val_accuracy: 0.6020\n",
            "Epoch 25/40\n",
            "29/29 [==============================] - 0s 13ms/step - loss: 0.9660 - accuracy: 0.6805 - val_loss: 1.1017 - val_accuracy: 0.6327\n",
            "Epoch 26/40\n",
            "29/29 [==============================] - 0s 16ms/step - loss: 0.9515 - accuracy: 0.6816 - val_loss: 1.0410 - val_accuracy: 0.6684\n",
            "Epoch 27/40\n",
            "29/29 [==============================] - 0s 15ms/step - loss: 0.8959 - accuracy: 0.6937 - val_loss: 1.0615 - val_accuracy: 0.6658\n",
            "Epoch 28/40\n",
            "29/29 [==============================] - 0s 13ms/step - loss: 0.7974 - accuracy: 0.7221 - val_loss: 0.9474 - val_accuracy: 0.6964\n",
            "Epoch 29/40\n",
            "29/29 [==============================] - 0s 12ms/step - loss: 0.7169 - accuracy: 0.7702 - val_loss: 0.9148 - val_accuracy: 0.7092\n",
            "Epoch 30/40\n",
            "29/29 [==============================] - 0s 12ms/step - loss: 0.7872 - accuracy: 0.7298 - val_loss: 1.0004 - val_accuracy: 0.6658\n",
            "Epoch 31/40\n",
            "29/29 [==============================] - 0s 13ms/step - loss: 0.7401 - accuracy: 0.7604 - val_loss: 0.9539 - val_accuracy: 0.6862\n",
            "Epoch 32/40\n",
            "29/29 [==============================] - 0s 15ms/step - loss: 0.7303 - accuracy: 0.7451 - val_loss: 0.9648 - val_accuracy: 0.6862\n",
            "Epoch 33/40\n",
            "29/29 [==============================] - 0s 12ms/step - loss: 0.7119 - accuracy: 0.7637 - val_loss: 0.8287 - val_accuracy: 0.7219\n",
            "Epoch 34/40\n",
            "29/29 [==============================] - 0s 13ms/step - loss: 0.6612 - accuracy: 0.7637 - val_loss: 0.9983 - val_accuracy: 0.6760\n",
            "Epoch 35/40\n",
            "29/29 [==============================] - 0s 13ms/step - loss: 0.7031 - accuracy: 0.7527 - val_loss: 0.8698 - val_accuracy: 0.7296\n",
            "Epoch 36/40\n",
            "29/29 [==============================] - 0s 12ms/step - loss: 0.6721 - accuracy: 0.7691 - val_loss: 0.8078 - val_accuracy: 0.7423\n",
            "Epoch 37/40\n",
            "29/29 [==============================] - 0s 13ms/step - loss: 0.6462 - accuracy: 0.7932 - val_loss: 0.8062 - val_accuracy: 0.7372\n",
            "Epoch 38/40\n",
            "29/29 [==============================] - 0s 13ms/step - loss: 0.5095 - accuracy: 0.8271 - val_loss: 0.6529 - val_accuracy: 0.8036\n",
            "Epoch 39/40\n",
            "29/29 [==============================] - 0s 12ms/step - loss: 0.4971 - accuracy: 0.8348 - val_loss: 0.8011 - val_accuracy: 0.7526\n",
            "Epoch 40/40\n",
            "29/29 [==============================] - 0s 12ms/step - loss: 0.5428 - accuracy: 0.8217 - val_loss: 0.8247 - val_accuracy: 0.7015\n",
            "21/21 [==============================] - 0s 4ms/step\n",
            "Epoch 1/40\n",
            "29/29 [==============================] - 2s 32ms/step - loss: 2.6520 - accuracy: 0.0930 - val_loss: 2.6667 - val_accuracy: 0.0967\n",
            "Epoch 2/40\n",
            "29/29 [==============================] - 0s 14ms/step - loss: 2.5058 - accuracy: 0.1389 - val_loss: 2.5538 - val_accuracy: 0.1069\n",
            "Epoch 3/40\n",
            "29/29 [==============================] - 0s 14ms/step - loss: 2.4288 - accuracy: 0.1860 - val_loss: 2.4366 - val_accuracy: 0.2087\n",
            "Epoch 4/40\n",
            "29/29 [==============================] - 0s 13ms/step - loss: 2.4998 - accuracy: 0.1696 - val_loss: 2.5878 - val_accuracy: 0.1272\n",
            "Epoch 5/40\n",
            "29/29 [==============================] - 0s 12ms/step - loss: 2.4763 - accuracy: 0.1521 - val_loss: 2.4547 - val_accuracy: 0.1832\n",
            "Epoch 6/40\n",
            "29/29 [==============================] - 0s 13ms/step - loss: 2.3668 - accuracy: 0.1937 - val_loss: 2.3201 - val_accuracy: 0.2087\n",
            "Epoch 7/40\n",
            "29/29 [==============================] - 0s 13ms/step - loss: 2.1347 - accuracy: 0.2867 - val_loss: 2.0971 - val_accuracy: 0.3003\n",
            "Epoch 8/40\n",
            "29/29 [==============================] - 1s 25ms/step - loss: 1.9839 - accuracy: 0.3195 - val_loss: 1.9216 - val_accuracy: 0.3308\n",
            "Epoch 9/40\n",
            "29/29 [==============================] - 1s 23ms/step - loss: 1.7190 - accuracy: 0.4081 - val_loss: 1.9173 - val_accuracy: 0.3435\n",
            "Epoch 10/40\n",
            "29/29 [==============================] - 0s 17ms/step - loss: 1.8866 - accuracy: 0.3468 - val_loss: 1.7589 - val_accuracy: 0.3664\n",
            "Epoch 11/40\n",
            "29/29 [==============================] - 1s 21ms/step - loss: 1.6796 - accuracy: 0.4333 - val_loss: 1.7325 - val_accuracy: 0.3919\n",
            "Epoch 12/40\n",
            "29/29 [==============================] - 1s 26ms/step - loss: 1.6374 - accuracy: 0.4442 - val_loss: 1.7638 - val_accuracy: 0.3690\n",
            "Epoch 13/40\n",
            "29/29 [==============================] - 1s 27ms/step - loss: 1.5720 - accuracy: 0.4508 - val_loss: 1.7695 - val_accuracy: 0.3817\n",
            "Epoch 14/40\n",
            "29/29 [==============================] - 1s 20ms/step - loss: 1.5610 - accuracy: 0.4584 - val_loss: 1.5023 - val_accuracy: 0.4911\n",
            "Epoch 15/40\n",
            "29/29 [==============================] - 0s 13ms/step - loss: 1.4128 - accuracy: 0.5142 - val_loss: 1.6008 - val_accuracy: 0.4351\n",
            "Epoch 16/40\n",
            "29/29 [==============================] - 0s 13ms/step - loss: 1.4219 - accuracy: 0.5558 - val_loss: 1.4293 - val_accuracy: 0.5293\n",
            "Epoch 17/40\n",
            "29/29 [==============================] - 0s 13ms/step - loss: 1.2490 - accuracy: 0.5842 - val_loss: 1.2702 - val_accuracy: 0.5878\n",
            "Epoch 18/40\n",
            "29/29 [==============================] - 0s 13ms/step - loss: 1.2536 - accuracy: 0.5810 - val_loss: 1.1987 - val_accuracy: 0.6285\n",
            "Epoch 19/40\n",
            "29/29 [==============================] - 0s 13ms/step - loss: 1.0934 - accuracy: 0.6346 - val_loss: 1.1866 - val_accuracy: 0.6463\n",
            "Epoch 20/40\n",
            "29/29 [==============================] - 0s 13ms/step - loss: 1.1120 - accuracy: 0.6258 - val_loss: 1.3776 - val_accuracy: 0.5496\n",
            "Epoch 21/40\n",
            "29/29 [==============================] - 0s 12ms/step - loss: 1.0582 - accuracy: 0.6565 - val_loss: 1.2405 - val_accuracy: 0.5929\n",
            "Epoch 22/40\n",
            "29/29 [==============================] - 0s 13ms/step - loss: 0.9738 - accuracy: 0.6586 - val_loss: 1.0405 - val_accuracy: 0.6692\n",
            "Epoch 23/40\n",
            "29/29 [==============================] - 0s 12ms/step - loss: 0.9532 - accuracy: 0.6696 - val_loss: 1.1079 - val_accuracy: 0.6514\n",
            "Epoch 24/40\n",
            "29/29 [==============================] - 0s 13ms/step - loss: 0.9221 - accuracy: 0.6915 - val_loss: 1.1018 - val_accuracy: 0.6641\n",
            "Epoch 25/40\n",
            "29/29 [==============================] - 0s 12ms/step - loss: 0.8309 - accuracy: 0.7352 - val_loss: 1.0106 - val_accuracy: 0.6947\n",
            "Epoch 26/40\n",
            "29/29 [==============================] - 0s 13ms/step - loss: 0.8435 - accuracy: 0.7177 - val_loss: 1.0370 - val_accuracy: 0.6718\n",
            "Epoch 27/40\n",
            "29/29 [==============================] - 0s 13ms/step - loss: 0.8126 - accuracy: 0.7287 - val_loss: 1.0394 - val_accuracy: 0.6768\n",
            "Epoch 28/40\n",
            "29/29 [==============================] - 0s 13ms/step - loss: 0.8052 - accuracy: 0.7451 - val_loss: 0.9352 - val_accuracy: 0.7099\n",
            "Epoch 29/40\n",
            "29/29 [==============================] - 0s 12ms/step - loss: 0.7975 - accuracy: 0.7462 - val_loss: 0.9723 - val_accuracy: 0.6947\n",
            "Epoch 30/40\n",
            "29/29 [==============================] - 0s 12ms/step - loss: 0.7133 - accuracy: 0.7724 - val_loss: 0.8605 - val_accuracy: 0.7430\n",
            "Epoch 31/40\n",
            "29/29 [==============================] - 0s 12ms/step - loss: 0.6576 - accuracy: 0.7888 - val_loss: 0.9233 - val_accuracy: 0.7303\n",
            "Epoch 32/40\n",
            "29/29 [==============================] - 0s 12ms/step - loss: 0.6007 - accuracy: 0.8031 - val_loss: 0.8472 - val_accuracy: 0.7455\n",
            "Epoch 33/40\n",
            "29/29 [==============================] - 0s 17ms/step - loss: 0.6518 - accuracy: 0.7921 - val_loss: 0.9167 - val_accuracy: 0.7150\n",
            "Epoch 34/40\n",
            "29/29 [==============================] - 1s 18ms/step - loss: 0.5897 - accuracy: 0.8042 - val_loss: 0.8126 - val_accuracy: 0.7532\n",
            "Epoch 35/40\n",
            "29/29 [==============================] - 1s 24ms/step - loss: 0.6353 - accuracy: 0.8042 - val_loss: 0.8799 - val_accuracy: 0.7150\n",
            "Epoch 36/40\n",
            "29/29 [==============================] - 1s 26ms/step - loss: 0.5270 - accuracy: 0.8282 - val_loss: 0.8801 - val_accuracy: 0.7455\n",
            "Epoch 37/40\n",
            "29/29 [==============================] - 1s 22ms/step - loss: 0.4665 - accuracy: 0.8468 - val_loss: 0.6825 - val_accuracy: 0.7761\n",
            "Epoch 38/40\n",
            "29/29 [==============================] - 1s 24ms/step - loss: 0.5206 - accuracy: 0.8260 - val_loss: 0.9592 - val_accuracy: 0.7226\n",
            "Epoch 39/40\n",
            "29/29 [==============================] - 1s 19ms/step - loss: 0.5378 - accuracy: 0.8217 - val_loss: 0.8127 - val_accuracy: 0.7405\n",
            "Epoch 40/40\n",
            "29/29 [==============================] - 0s 17ms/step - loss: 0.5190 - accuracy: 0.8337 - val_loss: 0.7143 - val_accuracy: 0.7863\n",
            "21/21 [==============================] - 1s 7ms/step\n",
            "Epoch 1/40\n",
            "29/29 [==============================] - 3s 39ms/step - loss: 2.6292 - accuracy: 0.0821 - val_loss: 2.6243 - val_accuracy: 0.1120\n",
            "Epoch 2/40\n",
            "29/29 [==============================] - 1s 19ms/step - loss: 2.5397 - accuracy: 0.1543 - val_loss: 2.5889 - val_accuracy: 0.1272\n",
            "Epoch 3/40\n",
            "29/29 [==============================] - 1s 20ms/step - loss: 2.5004 - accuracy: 0.1608 - val_loss: 2.4728 - val_accuracy: 0.1908\n",
            "Epoch 4/40\n",
            "29/29 [==============================] - 1s 19ms/step - loss: 2.6120 - accuracy: 0.1499 - val_loss: 2.8376 - val_accuracy: 0.0763\n",
            "Epoch 5/40\n",
            "29/29 [==============================] - 0s 17ms/step - loss: 2.6880 - accuracy: 0.0832 - val_loss: 2.6422 - val_accuracy: 0.1043\n",
            "Epoch 6/40\n",
            "29/29 [==============================] - 0s 16ms/step - loss: 2.6044 - accuracy: 0.0941 - val_loss: 2.7252 - val_accuracy: 0.1018\n",
            "Epoch 7/40\n",
            "29/29 [==============================] - 0s 16ms/step - loss: 2.5792 - accuracy: 0.1061 - val_loss: 2.5603 - val_accuracy: 0.1247\n",
            "Epoch 8/40\n",
            "29/29 [==============================] - 1s 21ms/step - loss: 2.5170 - accuracy: 0.1510 - val_loss: 2.5240 - val_accuracy: 0.1679\n",
            "Epoch 9/40\n",
            "29/29 [==============================] - 0s 15ms/step - loss: 2.5134 - accuracy: 0.1455 - val_loss: 2.3850 - val_accuracy: 0.1756\n",
            "Epoch 10/40\n",
            "29/29 [==============================] - 1s 19ms/step - loss: 2.3489 - accuracy: 0.2123 - val_loss: 2.1689 - val_accuracy: 0.2646\n",
            "Epoch 11/40\n",
            "29/29 [==============================] - 1s 19ms/step - loss: 2.0863 - accuracy: 0.2888 - val_loss: 2.3864 - val_accuracy: 0.1628\n",
            "Epoch 12/40\n",
            "29/29 [==============================] - 0s 15ms/step - loss: 2.1732 - accuracy: 0.2604 - val_loss: 2.0181 - val_accuracy: 0.2774\n",
            "Epoch 13/40\n",
            "29/29 [==============================] - 1s 17ms/step - loss: 2.0790 - accuracy: 0.2910 - val_loss: 2.0851 - val_accuracy: 0.3028\n",
            "Epoch 14/40\n",
            "29/29 [==============================] - 1s 17ms/step - loss: 1.8713 - accuracy: 0.3643 - val_loss: 1.7628 - val_accuracy: 0.4097\n",
            "Epoch 15/40\n",
            "29/29 [==============================] - 1s 18ms/step - loss: 1.8076 - accuracy: 0.3796 - val_loss: 1.8246 - val_accuracy: 0.3206\n",
            "Epoch 16/40\n",
            "29/29 [==============================] - 0s 14ms/step - loss: 1.6972 - accuracy: 0.3993 - val_loss: 1.5314 - val_accuracy: 0.4580\n",
            "Epoch 17/40\n",
            "29/29 [==============================] - 1s 17ms/step - loss: 1.5880 - accuracy: 0.4497 - val_loss: 1.6074 - val_accuracy: 0.4555\n",
            "Epoch 18/40\n",
            "29/29 [==============================] - 1s 19ms/step - loss: 1.5627 - accuracy: 0.4902 - val_loss: 1.5309 - val_accuracy: 0.4427\n",
            "Epoch 19/40\n",
            "29/29 [==============================] - 1s 18ms/step - loss: 1.5320 - accuracy: 0.4716 - val_loss: 1.5563 - val_accuracy: 0.4656\n",
            "Epoch 20/40\n",
            "29/29 [==============================] - 0s 14ms/step - loss: 1.4326 - accuracy: 0.5098 - val_loss: 1.2981 - val_accuracy: 0.5725\n",
            "Epoch 21/40\n",
            "29/29 [==============================] - 0s 12ms/step - loss: 1.2946 - accuracy: 0.5656 - val_loss: 1.3366 - val_accuracy: 0.5522\n",
            "Epoch 22/40\n",
            "29/29 [==============================] - 0s 13ms/step - loss: 1.1993 - accuracy: 0.6039 - val_loss: 1.1551 - val_accuracy: 0.6158\n",
            "Epoch 23/40\n",
            "29/29 [==============================] - 0s 13ms/step - loss: 1.1345 - accuracy: 0.5974 - val_loss: 1.1230 - val_accuracy: 0.5980\n",
            "Epoch 24/40\n",
            "29/29 [==============================] - 0s 13ms/step - loss: 1.0668 - accuracy: 0.6302 - val_loss: 1.1234 - val_accuracy: 0.6361\n",
            "Epoch 25/40\n",
            "29/29 [==============================] - 0s 12ms/step - loss: 1.1470 - accuracy: 0.6149 - val_loss: 1.1461 - val_accuracy: 0.6132\n",
            "Epoch 26/40\n",
            "29/29 [==============================] - 0s 12ms/step - loss: 1.0673 - accuracy: 0.6411 - val_loss: 1.0419 - val_accuracy: 0.6819\n",
            "Epoch 27/40\n",
            "29/29 [==============================] - 0s 13ms/step - loss: 0.9933 - accuracy: 0.6619 - val_loss: 1.0500 - val_accuracy: 0.6590\n",
            "Epoch 28/40\n",
            "29/29 [==============================] - 0s 13ms/step - loss: 1.0151 - accuracy: 0.6619 - val_loss: 0.9036 - val_accuracy: 0.6947\n",
            "Epoch 29/40\n",
            "29/29 [==============================] - 0s 13ms/step - loss: 0.9220 - accuracy: 0.6860 - val_loss: 1.0184 - val_accuracy: 0.6616\n",
            "Epoch 30/40\n",
            "29/29 [==============================] - 0s 13ms/step - loss: 0.8926 - accuracy: 0.7035 - val_loss: 0.9053 - val_accuracy: 0.6921\n",
            "Epoch 31/40\n",
            "29/29 [==============================] - 0s 12ms/step - loss: 1.0198 - accuracy: 0.6521 - val_loss: 1.2661 - val_accuracy: 0.5725\n",
            "Epoch 32/40\n",
            "29/29 [==============================] - 0s 12ms/step - loss: 1.0927 - accuracy: 0.6302 - val_loss: 1.0469 - val_accuracy: 0.6438\n",
            "Epoch 33/40\n",
            "29/29 [==============================] - 0s 13ms/step - loss: 0.9161 - accuracy: 0.7079 - val_loss: 0.8343 - val_accuracy: 0.7252\n",
            "Epoch 34/40\n",
            "29/29 [==============================] - 0s 15ms/step - loss: 0.7215 - accuracy: 0.7560 - val_loss: 0.7753 - val_accuracy: 0.7430\n",
            "Epoch 35/40\n",
            "29/29 [==============================] - 1s 19ms/step - loss: 0.7089 - accuracy: 0.7648 - val_loss: 0.7650 - val_accuracy: 0.7328\n",
            "Epoch 36/40\n",
            "29/29 [==============================] - 1s 19ms/step - loss: 0.7063 - accuracy: 0.7713 - val_loss: 0.7991 - val_accuracy: 0.7201\n",
            "Epoch 37/40\n",
            "29/29 [==============================] - 1s 21ms/step - loss: 0.6568 - accuracy: 0.7768 - val_loss: 0.6982 - val_accuracy: 0.7405\n",
            "Epoch 38/40\n",
            "29/29 [==============================] - 0s 14ms/step - loss: 0.6461 - accuracy: 0.7877 - val_loss: 0.7775 - val_accuracy: 0.7328\n",
            "Epoch 39/40\n",
            "29/29 [==============================] - 0s 14ms/step - loss: 0.6874 - accuracy: 0.7768 - val_loss: 0.6715 - val_accuracy: 0.7710\n",
            "Epoch 40/40\n",
            "29/29 [==============================] - 0s 12ms/step - loss: 0.5842 - accuracy: 0.8009 - val_loss: 0.7134 - val_accuracy: 0.7863\n",
            "21/21 [==============================] - 0s 4ms/step\n",
            "Epoch 1/40\n",
            "29/29 [==============================] - 3s 39ms/step - loss: 2.6446 - accuracy: 0.0963 - val_loss: 2.5937 - val_accuracy: 0.1505\n",
            "Epoch 2/40\n",
            "29/29 [==============================] - 1s 19ms/step - loss: 2.5631 - accuracy: 0.1379 - val_loss: 2.5500 - val_accuracy: 0.1658\n",
            "Epoch 3/40\n",
            "29/29 [==============================] - 1s 19ms/step - loss: 2.4884 - accuracy: 0.1597 - val_loss: 2.5089 - val_accuracy: 0.1224\n",
            "Epoch 4/40\n",
            "29/29 [==============================] - 1s 19ms/step - loss: 2.5758 - accuracy: 0.1258 - val_loss: 3.4296 - val_accuracy: 0.0995\n",
            "Epoch 5/40\n",
            "29/29 [==============================] - 1s 19ms/step - loss: 2.6597 - accuracy: 0.1116 - val_loss: 2.6334 - val_accuracy: 0.0893\n",
            "Epoch 6/40\n",
            "29/29 [==============================] - 1s 18ms/step - loss: 2.5894 - accuracy: 0.1094 - val_loss: 2.5734 - val_accuracy: 0.1250\n",
            "Epoch 7/40\n",
            "29/29 [==============================] - 1s 18ms/step - loss: 2.4915 - accuracy: 0.1597 - val_loss: 2.5223 - val_accuracy: 0.1173\n",
            "Epoch 8/40\n",
            "29/29 [==============================] - 1s 19ms/step - loss: 2.4640 - accuracy: 0.1554 - val_loss: 2.4316 - val_accuracy: 0.1556\n",
            "Epoch 9/40\n",
            "29/29 [==============================] - 1s 19ms/step - loss: 2.4986 - accuracy: 0.1641 - val_loss: 2.5053 - val_accuracy: 0.1735\n",
            "Epoch 10/40\n",
            "29/29 [==============================] - 1s 22ms/step - loss: 2.5040 - accuracy: 0.1565 - val_loss: 2.5700 - val_accuracy: 0.1199\n",
            "Epoch 11/40\n",
            "29/29 [==============================] - 1s 22ms/step - loss: 2.3846 - accuracy: 0.1740 - val_loss: 2.4045 - val_accuracy: 0.2092\n",
            "Epoch 12/40\n",
            "29/29 [==============================] - 1s 23ms/step - loss: 2.3031 - accuracy: 0.2265 - val_loss: 2.2679 - val_accuracy: 0.2321\n",
            "Epoch 13/40\n",
            "29/29 [==============================] - 1s 19ms/step - loss: 2.2123 - accuracy: 0.2319 - val_loss: 2.7231 - val_accuracy: 0.1454\n",
            "Epoch 14/40\n",
            "29/29 [==============================] - 1s 19ms/step - loss: 2.3672 - accuracy: 0.1904 - val_loss: 2.2134 - val_accuracy: 0.2755\n",
            "Epoch 15/40\n",
            "29/29 [==============================] - 1s 19ms/step - loss: 2.1133 - accuracy: 0.2812 - val_loss: 2.2951 - val_accuracy: 0.2653\n",
            "Epoch 16/40\n",
            "29/29 [==============================] - 1s 18ms/step - loss: 1.9723 - accuracy: 0.3206 - val_loss: 2.0494 - val_accuracy: 0.2857\n",
            "Epoch 17/40\n",
            "29/29 [==============================] - 1s 19ms/step - loss: 1.8763 - accuracy: 0.3786 - val_loss: 1.8773 - val_accuracy: 0.3954\n",
            "Epoch 18/40\n",
            "29/29 [==============================] - 1s 19ms/step - loss: 1.8841 - accuracy: 0.3567 - val_loss: 2.1935 - val_accuracy: 0.2398\n",
            "Epoch 19/40\n",
            "29/29 [==============================] - 1s 19ms/step - loss: 1.8850 - accuracy: 0.3665 - val_loss: 1.7914 - val_accuracy: 0.3852\n",
            "Epoch 20/40\n",
            "29/29 [==============================] - 1s 19ms/step - loss: 1.5695 - accuracy: 0.4683 - val_loss: 1.7827 - val_accuracy: 0.3929\n",
            "Epoch 21/40\n",
            "29/29 [==============================] - 1s 21ms/step - loss: 1.5394 - accuracy: 0.4497 - val_loss: 1.8000 - val_accuracy: 0.4107\n",
            "Epoch 22/40\n",
            "29/29 [==============================] - 1s 19ms/step - loss: 1.4776 - accuracy: 0.5011 - val_loss: 1.5772 - val_accuracy: 0.4923\n",
            "Epoch 23/40\n",
            "29/29 [==============================] - 1s 19ms/step - loss: 1.4486 - accuracy: 0.5328 - val_loss: 1.4946 - val_accuracy: 0.4592\n",
            "Epoch 24/40\n",
            "29/29 [==============================] - 1s 19ms/step - loss: 1.5127 - accuracy: 0.4705 - val_loss: 1.5175 - val_accuracy: 0.4821\n",
            "Epoch 25/40\n",
            "29/29 [==============================] - 1s 19ms/step - loss: 1.3421 - accuracy: 0.5394 - val_loss: 1.5043 - val_accuracy: 0.5204\n",
            "Epoch 26/40\n",
            "29/29 [==============================] - 1s 20ms/step - loss: 1.2981 - accuracy: 0.5580 - val_loss: 1.3757 - val_accuracy: 0.5536\n",
            "Epoch 27/40\n",
            "29/29 [==============================] - 1s 24ms/step - loss: 1.1437 - accuracy: 0.5996 - val_loss: 1.3331 - val_accuracy: 0.5689\n",
            "Epoch 28/40\n",
            "29/29 [==============================] - 1s 20ms/step - loss: 1.0614 - accuracy: 0.6455 - val_loss: 1.1379 - val_accuracy: 0.6224\n",
            "Epoch 29/40\n",
            "29/29 [==============================] - 1s 21ms/step - loss: 1.0221 - accuracy: 0.6488 - val_loss: 1.1408 - val_accuracy: 0.6071\n",
            "Epoch 30/40\n",
            "29/29 [==============================] - 1s 21ms/step - loss: 1.1970 - accuracy: 0.6007 - val_loss: 1.3093 - val_accuracy: 0.5918\n",
            "Epoch 31/40\n",
            "29/29 [==============================] - 1s 20ms/step - loss: 1.1209 - accuracy: 0.6204 - val_loss: 1.2433 - val_accuracy: 0.5995\n",
            "Epoch 32/40\n",
            "29/29 [==============================] - 1s 20ms/step - loss: 0.9062 - accuracy: 0.6882 - val_loss: 1.0779 - val_accuracy: 0.6556\n",
            "Epoch 33/40\n",
            "29/29 [==============================] - 1s 21ms/step - loss: 0.8578 - accuracy: 0.7002 - val_loss: 1.0633 - val_accuracy: 0.6378\n",
            "Epoch 34/40\n",
            "29/29 [==============================] - 1s 22ms/step - loss: 0.8233 - accuracy: 0.7210 - val_loss: 1.0349 - val_accuracy: 0.6709\n",
            "Epoch 35/40\n",
            "29/29 [==============================] - 1s 21ms/step - loss: 1.0423 - accuracy: 0.6379 - val_loss: 1.0692 - val_accuracy: 0.6429\n",
            "Epoch 36/40\n",
            "29/29 [==============================] - 1s 23ms/step - loss: 0.8200 - accuracy: 0.7243 - val_loss: 1.0052 - val_accuracy: 0.6556\n",
            "Epoch 37/40\n",
            "29/29 [==============================] - 1s 20ms/step - loss: 0.7792 - accuracy: 0.7418 - val_loss: 0.8726 - val_accuracy: 0.7143\n",
            "Epoch 38/40\n",
            "29/29 [==============================] - 1s 23ms/step - loss: 1.1292 - accuracy: 0.6335 - val_loss: 1.4445 - val_accuracy: 0.5128\n",
            "Epoch 39/40\n",
            "29/29 [==============================] - 1s 32ms/step - loss: 1.1158 - accuracy: 0.6171 - val_loss: 1.0602 - val_accuracy: 0.6250\n",
            "Epoch 40/40\n",
            "29/29 [==============================] - 1s 22ms/step - loss: 0.8667 - accuracy: 0.6904 - val_loss: 0.9181 - val_accuracy: 0.6990\n",
            "21/21 [==============================] - 1s 9ms/step\n",
            "Epoch 1/40\n",
            "29/29 [==============================] - 3s 46ms/step - loss: 2.6125 - accuracy: 0.0875 - val_loss: 2.5379 - val_accuracy: 0.1705\n",
            "Epoch 2/40\n",
            "29/29 [==============================] - 1s 22ms/step - loss: 2.5247 - accuracy: 0.1543 - val_loss: 2.6338 - val_accuracy: 0.0687\n",
            "Epoch 3/40\n",
            "29/29 [==============================] - 1s 20ms/step - loss: 2.5711 - accuracy: 0.1521 - val_loss: 2.7241 - val_accuracy: 0.0992\n",
            "Epoch 4/40\n",
            "29/29 [==============================] - 1s 21ms/step - loss: 2.5501 - accuracy: 0.1466 - val_loss: 2.4843 - val_accuracy: 0.1858\n",
            "Epoch 5/40\n",
            "29/29 [==============================] - 1s 21ms/step - loss: 2.4748 - accuracy: 0.1794 - val_loss: 2.5958 - val_accuracy: 0.1043\n",
            "Epoch 6/40\n",
            "29/29 [==============================] - 1s 24ms/step - loss: 2.6001 - accuracy: 0.1247 - val_loss: 2.6326 - val_accuracy: 0.1170\n",
            "Epoch 7/40\n",
            "29/29 [==============================] - 1s 24ms/step - loss: 2.5507 - accuracy: 0.1772 - val_loss: 2.5554 - val_accuracy: 0.1043\n",
            "Epoch 8/40\n",
            "29/29 [==============================] - 1s 22ms/step - loss: 2.4406 - accuracy: 0.1991 - val_loss: 2.4282 - val_accuracy: 0.2010\n",
            "Epoch 9/40\n",
            "29/29 [==============================] - 1s 23ms/step - loss: 2.3697 - accuracy: 0.2232 - val_loss: 2.3818 - val_accuracy: 0.2137\n",
            "Epoch 10/40\n",
            "29/29 [==============================] - 1s 24ms/step - loss: 2.2121 - accuracy: 0.2659 - val_loss: 2.3127 - val_accuracy: 0.2290\n",
            "Epoch 11/40\n",
            "29/29 [==============================] - 1s 22ms/step - loss: 2.4237 - accuracy: 0.1816 - val_loss: 2.5172 - val_accuracy: 0.1781\n",
            "Epoch 12/40\n",
            "29/29 [==============================] - 1s 21ms/step - loss: 2.2837 - accuracy: 0.2232 - val_loss: 2.6551 - val_accuracy: 0.1781\n",
            "Epoch 13/40\n",
            "29/29 [==============================] - 1s 21ms/step - loss: 2.4051 - accuracy: 0.1991 - val_loss: 2.4010 - val_accuracy: 0.2112\n",
            "Epoch 14/40\n",
            "29/29 [==============================] - 1s 21ms/step - loss: 2.2777 - accuracy: 0.2429 - val_loss: 2.3310 - val_accuracy: 0.2112\n",
            "Epoch 15/40\n",
            "29/29 [==============================] - 1s 21ms/step - loss: 2.1163 - accuracy: 0.2856 - val_loss: 2.1501 - val_accuracy: 0.2799\n",
            "Epoch 16/40\n",
            "29/29 [==============================] - 1s 22ms/step - loss: 1.9229 - accuracy: 0.3632 - val_loss: 1.8750 - val_accuracy: 0.3969\n",
            "Epoch 17/40\n",
            "29/29 [==============================] - 1s 22ms/step - loss: 1.7174 - accuracy: 0.4004 - val_loss: 2.0261 - val_accuracy: 0.3308\n",
            "Epoch 18/40\n",
            "29/29 [==============================] - 1s 21ms/step - loss: 1.6851 - accuracy: 0.4081 - val_loss: 1.8370 - val_accuracy: 0.3639\n",
            "Epoch 19/40\n",
            "29/29 [==============================] - 1s 23ms/step - loss: 1.5771 - accuracy: 0.4530 - val_loss: 1.5589 - val_accuracy: 0.4885\n",
            "Epoch 20/40\n",
            "29/29 [==============================] - 1s 22ms/step - loss: 1.6376 - accuracy: 0.4442 - val_loss: 1.6547 - val_accuracy: 0.4453\n",
            "Epoch 21/40\n",
            "29/29 [==============================] - 1s 19ms/step - loss: 1.5336 - accuracy: 0.4770 - val_loss: 1.5887 - val_accuracy: 0.4555\n",
            "Epoch 22/40\n",
            "29/29 [==============================] - 1s 23ms/step - loss: 1.3853 - accuracy: 0.5295 - val_loss: 1.4611 - val_accuracy: 0.5089\n",
            "Epoch 23/40\n",
            "29/29 [==============================] - 1s 24ms/step - loss: 1.2380 - accuracy: 0.5897 - val_loss: 1.3754 - val_accuracy: 0.5598\n",
            "Epoch 24/40\n",
            "29/29 [==============================] - 1s 19ms/step - loss: 1.2499 - accuracy: 0.5558 - val_loss: 1.2437 - val_accuracy: 0.6107\n",
            "Epoch 25/40\n",
            "29/29 [==============================] - 1s 21ms/step - loss: 1.1707 - accuracy: 0.6094 - val_loss: 1.1965 - val_accuracy: 0.6361\n",
            "Epoch 26/40\n",
            "29/29 [==============================] - 1s 19ms/step - loss: 1.0437 - accuracy: 0.6379 - val_loss: 1.2391 - val_accuracy: 0.5852\n",
            "Epoch 27/40\n",
            "29/29 [==============================] - 1s 19ms/step - loss: 1.0293 - accuracy: 0.6554 - val_loss: 1.2879 - val_accuracy: 0.6031\n",
            "Epoch 28/40\n",
            "29/29 [==============================] - 1s 21ms/step - loss: 1.2154 - accuracy: 0.5853 - val_loss: 1.2516 - val_accuracy: 0.6438\n",
            "Epoch 29/40\n",
            "29/29 [==============================] - 1s 19ms/step - loss: 0.9805 - accuracy: 0.6783 - val_loss: 1.0637 - val_accuracy: 0.6870\n",
            "Epoch 30/40\n",
            "29/29 [==============================] - 1s 19ms/step - loss: 1.0233 - accuracy: 0.6499 - val_loss: 1.1487 - val_accuracy: 0.6743\n",
            "Epoch 31/40\n",
            "29/29 [==============================] - 1s 21ms/step - loss: 1.0005 - accuracy: 0.6718 - val_loss: 1.0365 - val_accuracy: 0.6896\n",
            "Epoch 32/40\n",
            "29/29 [==============================] - 1s 19ms/step - loss: 0.8426 - accuracy: 0.7221 - val_loss: 0.9200 - val_accuracy: 0.6972\n",
            "Epoch 33/40\n",
            "29/29 [==============================] - 1s 19ms/step - loss: 0.7823 - accuracy: 0.7495 - val_loss: 0.9350 - val_accuracy: 0.6921\n",
            "Epoch 34/40\n",
            "29/29 [==============================] - 1s 19ms/step - loss: 0.8442 - accuracy: 0.7188 - val_loss: 0.9064 - val_accuracy: 0.7099\n",
            "Epoch 35/40\n",
            "29/29 [==============================] - 1s 19ms/step - loss: 0.7617 - accuracy: 0.7396 - val_loss: 0.9527 - val_accuracy: 0.7125\n",
            "Epoch 36/40\n",
            "29/29 [==============================] - 1s 19ms/step - loss: 0.7368 - accuracy: 0.7702 - val_loss: 0.9730 - val_accuracy: 0.7074\n",
            "Epoch 37/40\n",
            "29/29 [==============================] - 1s 19ms/step - loss: 0.7966 - accuracy: 0.7571 - val_loss: 0.8795 - val_accuracy: 0.6947\n",
            "Epoch 38/40\n",
            "29/29 [==============================] - 1s 20ms/step - loss: 0.6543 - accuracy: 0.7954 - val_loss: 0.9882 - val_accuracy: 0.6870\n",
            "Epoch 39/40\n",
            "29/29 [==============================] - 1s 19ms/step - loss: 0.6894 - accuracy: 0.7681 - val_loss: 0.8846 - val_accuracy: 0.7048\n",
            "Epoch 40/40\n",
            "29/29 [==============================] - 1s 19ms/step - loss: 0.6156 - accuracy: 0.7954 - val_loss: 0.9041 - val_accuracy: 0.7150\n",
            "21/21 [==============================] - 0s 9ms/step\n",
            "Epoch 1/40\n",
            "29/29 [==============================] - 3s 47ms/step - loss: 2.6312 - accuracy: 0.0886 - val_loss: 2.5130 - val_accuracy: 0.1501\n",
            "Epoch 2/40\n",
            "29/29 [==============================] - 1s 23ms/step - loss: 2.5331 - accuracy: 0.1357 - val_loss: 2.5701 - val_accuracy: 0.1145\n",
            "Epoch 3/40\n",
            "29/29 [==============================] - 1s 20ms/step - loss: 2.4775 - accuracy: 0.1805 - val_loss: 2.5077 - val_accuracy: 0.1476\n",
            "Epoch 4/40\n",
            "29/29 [==============================] - 1s 31ms/step - loss: 2.4672 - accuracy: 0.1740 - val_loss: 2.5194 - val_accuracy: 0.1323\n",
            "Epoch 5/40\n",
            "29/29 [==============================] - 1s 27ms/step - loss: 2.3694 - accuracy: 0.1937 - val_loss: 2.3284 - val_accuracy: 0.2214\n",
            "Epoch 6/40\n",
            "29/29 [==============================] - 1s 21ms/step - loss: 2.3582 - accuracy: 0.2013 - val_loss: 2.2678 - val_accuracy: 0.2010\n",
            "Epoch 7/40\n",
            "29/29 [==============================] - 1s 22ms/step - loss: 2.2240 - accuracy: 0.2265 - val_loss: 2.2608 - val_accuracy: 0.2341\n",
            "Epoch 8/40\n",
            "29/29 [==============================] - 1s 21ms/step - loss: 2.1706 - accuracy: 0.2352 - val_loss: 2.0928 - val_accuracy: 0.2723\n",
            "Epoch 9/40\n",
            "29/29 [==============================] - 1s 26ms/step - loss: 2.0094 - accuracy: 0.2801 - val_loss: 1.9985 - val_accuracy: 0.2824\n",
            "Epoch 10/40\n",
            "29/29 [==============================] - 1s 22ms/step - loss: 2.1374 - accuracy: 0.2757 - val_loss: 2.2232 - val_accuracy: 0.2468\n",
            "Epoch 11/40\n",
            "29/29 [==============================] - 1s 22ms/step - loss: 2.0674 - accuracy: 0.2932 - val_loss: 2.0164 - val_accuracy: 0.2774\n",
            "Epoch 12/40\n",
            "29/29 [==============================] - 1s 21ms/step - loss: 1.8990 - accuracy: 0.3414 - val_loss: 1.8920 - val_accuracy: 0.3181\n",
            "Epoch 13/40\n",
            "29/29 [==============================] - 1s 23ms/step - loss: 1.8493 - accuracy: 0.3370 - val_loss: 1.8088 - val_accuracy: 0.3537\n",
            "Epoch 14/40\n",
            "29/29 [==============================] - 1s 20ms/step - loss: 1.7339 - accuracy: 0.3611 - val_loss: 1.6950 - val_accuracy: 0.4148\n",
            "Epoch 15/40\n",
            "29/29 [==============================] - 1s 22ms/step - loss: 1.6368 - accuracy: 0.4179 - val_loss: 1.6606 - val_accuracy: 0.3868\n",
            "Epoch 16/40\n",
            "29/29 [==============================] - 1s 19ms/step - loss: 1.7384 - accuracy: 0.4103 - val_loss: 1.7470 - val_accuracy: 0.4148\n",
            "Epoch 17/40\n",
            "29/29 [==============================] - 1s 19ms/step - loss: 1.6655 - accuracy: 0.4267 - val_loss: 1.4914 - val_accuracy: 0.4911\n",
            "Epoch 18/40\n",
            "29/29 [==============================] - 1s 19ms/step - loss: 1.4854 - accuracy: 0.4847 - val_loss: 1.4434 - val_accuracy: 0.4962\n",
            "Epoch 19/40\n",
            "29/29 [==============================] - 1s 19ms/step - loss: 1.4735 - accuracy: 0.5022 - val_loss: 1.4542 - val_accuracy: 0.5445\n",
            "Epoch 20/40\n",
            "29/29 [==============================] - 1s 19ms/step - loss: 1.3706 - accuracy: 0.5339 - val_loss: 1.7425 - val_accuracy: 0.3868\n",
            "Epoch 21/40\n",
            "29/29 [==============================] - 1s 18ms/step - loss: 1.3263 - accuracy: 0.5481 - val_loss: 1.3004 - val_accuracy: 0.5394\n",
            "Epoch 22/40\n",
            "29/29 [==============================] - 1s 19ms/step - loss: 1.3562 - accuracy: 0.5219 - val_loss: 1.3467 - val_accuracy: 0.5623\n",
            "Epoch 23/40\n",
            "29/29 [==============================] - 1s 19ms/step - loss: 1.2589 - accuracy: 0.5635 - val_loss: 1.3193 - val_accuracy: 0.5471\n",
            "Epoch 24/40\n",
            "29/29 [==============================] - 1s 18ms/step - loss: 1.2057 - accuracy: 0.5864 - val_loss: 1.4676 - val_accuracy: 0.5522\n",
            "Epoch 25/40\n",
            "29/29 [==============================] - 1s 19ms/step - loss: 1.1962 - accuracy: 0.5886 - val_loss: 1.1306 - val_accuracy: 0.6209\n",
            "Epoch 26/40\n",
            "29/29 [==============================] - 1s 19ms/step - loss: 1.0283 - accuracy: 0.6543 - val_loss: 1.1062 - val_accuracy: 0.5980\n",
            "Epoch 27/40\n",
            "29/29 [==============================] - 1s 19ms/step - loss: 0.9639 - accuracy: 0.6685 - val_loss: 1.0098 - val_accuracy: 0.6412\n",
            "Epoch 28/40\n",
            "29/29 [==============================] - 1s 20ms/step - loss: 0.9638 - accuracy: 0.6554 - val_loss: 1.1484 - val_accuracy: 0.6031\n",
            "Epoch 29/40\n",
            "29/29 [==============================] - 1s 19ms/step - loss: 0.9516 - accuracy: 0.6652 - val_loss: 0.9953 - val_accuracy: 0.6819\n",
            "Epoch 30/40\n",
            "29/29 [==============================] - 1s 22ms/step - loss: 0.8769 - accuracy: 0.7057 - val_loss: 1.0189 - val_accuracy: 0.6768\n",
            "Epoch 31/40\n",
            "29/29 [==============================] - 1s 20ms/step - loss: 0.8265 - accuracy: 0.7232 - val_loss: 0.9576 - val_accuracy: 0.6718\n",
            "Epoch 32/40\n",
            "29/29 [==============================] - 1s 21ms/step - loss: 0.8213 - accuracy: 0.7188 - val_loss: 1.1054 - val_accuracy: 0.6234\n",
            "Epoch 33/40\n",
            "29/29 [==============================] - 1s 22ms/step - loss: 0.7955 - accuracy: 0.7330 - val_loss: 0.7908 - val_accuracy: 0.7328\n",
            "Epoch 34/40\n",
            "29/29 [==============================] - 1s 24ms/step - loss: 0.7827 - accuracy: 0.7243 - val_loss: 0.9057 - val_accuracy: 0.6947\n",
            "Epoch 35/40\n",
            "29/29 [==============================] - 1s 21ms/step - loss: 0.7000 - accuracy: 0.7626 - val_loss: 0.7661 - val_accuracy: 0.7201\n",
            "Epoch 36/40\n",
            "29/29 [==============================] - 1s 23ms/step - loss: 0.7390 - accuracy: 0.7418 - val_loss: 0.8937 - val_accuracy: 0.6997\n",
            "Epoch 37/40\n",
            "29/29 [==============================] - 1s 22ms/step - loss: 0.7011 - accuracy: 0.7560 - val_loss: 0.8830 - val_accuracy: 0.7048\n",
            "Epoch 38/40\n",
            "29/29 [==============================] - 1s 22ms/step - loss: 0.6286 - accuracy: 0.7768 - val_loss: 0.7630 - val_accuracy: 0.7379\n",
            "Epoch 39/40\n",
            "29/29 [==============================] - 1s 22ms/step - loss: 0.6617 - accuracy: 0.7932 - val_loss: 0.8124 - val_accuracy: 0.7430\n",
            "Epoch 40/40\n",
            "29/29 [==============================] - 1s 22ms/step - loss: 0.6537 - accuracy: 0.7757 - val_loss: 0.9115 - val_accuracy: 0.6947\n",
            "21/21 [==============================] - 1s 10ms/step\n",
            "Epoch 1/40\n",
            "29/29 [==============================] - 4s 87ms/step - loss: 2.6485 - accuracy: 0.0864 - val_loss: 2.6061 - val_accuracy: 0.1250\n",
            "Epoch 2/40\n",
            "29/29 [==============================] - 1s 37ms/step - loss: 2.5632 - accuracy: 0.1379 - val_loss: 2.5465 - val_accuracy: 0.1148\n",
            "Epoch 3/40\n",
            "29/29 [==============================] - 1s 37ms/step - loss: 2.5481 - accuracy: 0.1324 - val_loss: 2.5234 - val_accuracy: 0.1480\n",
            "Epoch 4/40\n",
            "29/29 [==============================] - 1s 37ms/step - loss: 2.5461 - accuracy: 0.1182 - val_loss: 2.5145 - val_accuracy: 0.1786\n",
            "Epoch 5/40\n",
            "29/29 [==============================] - 1s 39ms/step - loss: 2.5072 - accuracy: 0.1488 - val_loss: 2.5206 - val_accuracy: 0.1633\n",
            "Epoch 6/40\n",
            "29/29 [==============================] - 1s 37ms/step - loss: 2.4093 - accuracy: 0.1718 - val_loss: 2.4485 - val_accuracy: 0.1633\n",
            "Epoch 7/40\n",
            "29/29 [==============================] - 1s 39ms/step - loss: 2.4532 - accuracy: 0.1543 - val_loss: 2.6495 - val_accuracy: 0.1454\n",
            "Epoch 8/40\n",
            "29/29 [==============================] - 1s 38ms/step - loss: 2.4374 - accuracy: 0.1707 - val_loss: 2.2982 - val_accuracy: 0.2474\n",
            "Epoch 9/40\n",
            "29/29 [==============================] - 1s 36ms/step - loss: 2.3623 - accuracy: 0.2057 - val_loss: 2.4949 - val_accuracy: 0.1403\n",
            "Epoch 10/40\n",
            "29/29 [==============================] - 1s 36ms/step - loss: 2.1741 - accuracy: 0.2571 - val_loss: 2.3181 - val_accuracy: 0.1939\n",
            "Epoch 11/40\n",
            "29/29 [==============================] - 1s 36ms/step - loss: 2.4705 - accuracy: 0.1772 - val_loss: 2.2919 - val_accuracy: 0.2296\n",
            "Epoch 12/40\n",
            "29/29 [==============================] - 1s 38ms/step - loss: 2.1108 - accuracy: 0.2681 - val_loss: 2.0726 - val_accuracy: 0.2704\n",
            "Epoch 13/40\n",
            "29/29 [==============================] - 1s 38ms/step - loss: 1.9845 - accuracy: 0.3074 - val_loss: 1.8686 - val_accuracy: 0.3750\n",
            "Epoch 14/40\n",
            "29/29 [==============================] - 1s 37ms/step - loss: 1.9022 - accuracy: 0.3359 - val_loss: 2.0135 - val_accuracy: 0.3087\n",
            "Epoch 15/40\n",
            "29/29 [==============================] - 1s 39ms/step - loss: 2.0740 - accuracy: 0.3162 - val_loss: 1.9805 - val_accuracy: 0.3265\n",
            "Epoch 16/40\n",
            "29/29 [==============================] - 1s 40ms/step - loss: 1.8860 - accuracy: 0.3742 - val_loss: 1.7853 - val_accuracy: 0.3699\n",
            "Epoch 17/40\n",
            "29/29 [==============================] - 1s 39ms/step - loss: 1.6823 - accuracy: 0.4059 - val_loss: 1.7203 - val_accuracy: 0.3827\n",
            "Epoch 18/40\n",
            "29/29 [==============================] - 1s 39ms/step - loss: 1.6436 - accuracy: 0.4628 - val_loss: 1.6886 - val_accuracy: 0.4158\n",
            "Epoch 19/40\n",
            "29/29 [==============================] - 1s 38ms/step - loss: 1.7503 - accuracy: 0.3884 - val_loss: 1.8151 - val_accuracy: 0.3546\n",
            "Epoch 20/40\n",
            "29/29 [==============================] - 1s 38ms/step - loss: 1.7430 - accuracy: 0.4015 - val_loss: 1.7580 - val_accuracy: 0.4158\n",
            "Epoch 21/40\n",
            "29/29 [==============================] - 1s 38ms/step - loss: 1.4872 - accuracy: 0.4847 - val_loss: 1.5965 - val_accuracy: 0.4235\n",
            "Epoch 22/40\n",
            "29/29 [==============================] - 1s 43ms/step - loss: 1.5908 - accuracy: 0.4508 - val_loss: 1.7468 - val_accuracy: 0.4541\n",
            "Epoch 23/40\n",
            "29/29 [==============================] - 1s 38ms/step - loss: 1.5713 - accuracy: 0.4617 - val_loss: 1.5861 - val_accuracy: 0.4515\n",
            "Epoch 24/40\n",
            "29/29 [==============================] - 1s 38ms/step - loss: 1.4762 - accuracy: 0.4759 - val_loss: 1.3838 - val_accuracy: 0.5663\n",
            "Epoch 25/40\n",
            "29/29 [==============================] - 1s 39ms/step - loss: 1.2415 - accuracy: 0.5832 - val_loss: 1.3400 - val_accuracy: 0.5612\n",
            "Epoch 26/40\n",
            "29/29 [==============================] - 1s 39ms/step - loss: 1.2197 - accuracy: 0.5952 - val_loss: 1.5045 - val_accuracy: 0.5000\n",
            "Epoch 27/40\n",
            "29/29 [==============================] - 1s 44ms/step - loss: 1.1614 - accuracy: 0.6182 - val_loss: 1.1715 - val_accuracy: 0.5663\n",
            "Epoch 28/40\n",
            "29/29 [==============================] - 1s 39ms/step - loss: 0.9818 - accuracy: 0.6652 - val_loss: 1.2246 - val_accuracy: 0.5714\n",
            "Epoch 29/40\n",
            "29/29 [==============================] - 1s 38ms/step - loss: 1.1585 - accuracy: 0.5810 - val_loss: 1.1723 - val_accuracy: 0.5510\n",
            "Epoch 30/40\n",
            "29/29 [==============================] - 1s 40ms/step - loss: 1.0146 - accuracy: 0.6597 - val_loss: 1.1165 - val_accuracy: 0.6173\n",
            "Epoch 31/40\n",
            "29/29 [==============================] - 1s 40ms/step - loss: 0.9848 - accuracy: 0.6488 - val_loss: 1.1498 - val_accuracy: 0.5969\n",
            "Epoch 32/40\n",
            "29/29 [==============================] - 1s 38ms/step - loss: 0.8492 - accuracy: 0.6947 - val_loss: 1.1615 - val_accuracy: 0.5969\n",
            "Epoch 33/40\n",
            "29/29 [==============================] - 1s 36ms/step - loss: 0.8688 - accuracy: 0.6915 - val_loss: 0.9205 - val_accuracy: 0.6913\n",
            "Epoch 34/40\n",
            "29/29 [==============================] - 1s 36ms/step - loss: 0.7879 - accuracy: 0.7309 - val_loss: 1.0545 - val_accuracy: 0.6582\n",
            "Epoch 35/40\n",
            "29/29 [==============================] - 1s 36ms/step - loss: 0.8270 - accuracy: 0.7210 - val_loss: 1.0203 - val_accuracy: 0.6301\n",
            "Epoch 36/40\n",
            "29/29 [==============================] - 1s 37ms/step - loss: 0.9260 - accuracy: 0.6772 - val_loss: 0.9708 - val_accuracy: 0.6556\n",
            "Epoch 37/40\n",
            "29/29 [==============================] - 1s 37ms/step - loss: 0.7744 - accuracy: 0.7276 - val_loss: 0.9144 - val_accuracy: 0.6760\n",
            "Epoch 38/40\n",
            "29/29 [==============================] - 1s 37ms/step - loss: 0.7556 - accuracy: 0.7265 - val_loss: 0.9265 - val_accuracy: 0.6939\n",
            "Epoch 39/40\n",
            "29/29 [==============================] - 1s 37ms/step - loss: 0.7774 - accuracy: 0.7527 - val_loss: 0.8515 - val_accuracy: 0.7474\n",
            "Epoch 40/40\n",
            "29/29 [==============================] - 1s 36ms/step - loss: 0.6826 - accuracy: 0.7713 - val_loss: 0.9001 - val_accuracy: 0.6837\n",
            "21/21 [==============================] - 1s 11ms/step\n",
            "Epoch 1/40\n",
            "29/29 [==============================] - 3s 55ms/step - loss: 2.6210 - accuracy: 0.0996 - val_loss: 2.5941 - val_accuracy: 0.1043\n",
            "Epoch 2/40\n",
            "29/29 [==============================] - 1s 36ms/step - loss: 2.5652 - accuracy: 0.1477 - val_loss: 2.6047 - val_accuracy: 0.0992\n",
            "Epoch 3/40\n",
            "29/29 [==============================] - 1s 37ms/step - loss: 2.6025 - accuracy: 0.1455 - val_loss: 2.5736 - val_accuracy: 0.1603\n",
            "Epoch 4/40\n",
            "29/29 [==============================] - 1s 36ms/step - loss: 2.5459 - accuracy: 0.1389 - val_loss: 2.5735 - val_accuracy: 0.1272\n",
            "Epoch 5/40\n",
            "29/29 [==============================] - 1s 37ms/step - loss: 2.4832 - accuracy: 0.1543 - val_loss: 2.6670 - val_accuracy: 0.1170\n",
            "Epoch 6/40\n",
            "29/29 [==============================] - 1s 42ms/step - loss: 2.4224 - accuracy: 0.1838 - val_loss: 2.4947 - val_accuracy: 0.1730\n",
            "Epoch 7/40\n",
            "29/29 [==============================] - 1s 37ms/step - loss: 2.4682 - accuracy: 0.1652 - val_loss: 2.5835 - val_accuracy: 0.1018\n",
            "Epoch 8/40\n",
            "29/29 [==============================] - 1s 37ms/step - loss: 2.4370 - accuracy: 0.1860 - val_loss: 2.6583 - val_accuracy: 0.0967\n",
            "Epoch 9/40\n",
            "29/29 [==============================] - 1s 36ms/step - loss: 2.4040 - accuracy: 0.2024 - val_loss: 2.3990 - val_accuracy: 0.1527\n",
            "Epoch 10/40\n",
            "29/29 [==============================] - 1s 42ms/step - loss: 2.2781 - accuracy: 0.2374 - val_loss: 2.3038 - val_accuracy: 0.2392\n",
            "Epoch 11/40\n",
            "29/29 [==============================] - 1s 43ms/step - loss: 2.1689 - accuracy: 0.2637 - val_loss: 2.2748 - val_accuracy: 0.2443\n",
            "Epoch 12/40\n",
            "29/29 [==============================] - 1s 43ms/step - loss: 2.0971 - accuracy: 0.2834 - val_loss: 2.0970 - val_accuracy: 0.2697\n",
            "Epoch 13/40\n",
            "29/29 [==============================] - 1s 37ms/step - loss: 2.0574 - accuracy: 0.2888 - val_loss: 2.0740 - val_accuracy: 0.2799\n",
            "Epoch 14/40\n",
            "29/29 [==============================] - 1s 37ms/step - loss: 1.8471 - accuracy: 0.3567 - val_loss: 1.8017 - val_accuracy: 0.3639\n",
            "Epoch 15/40\n",
            "29/29 [==============================] - 1s 37ms/step - loss: 1.7052 - accuracy: 0.4092 - val_loss: 1.9905 - val_accuracy: 0.2799\n",
            "Epoch 16/40\n",
            "29/29 [==============================] - 1s 36ms/step - loss: 1.6877 - accuracy: 0.4125 - val_loss: 1.7361 - val_accuracy: 0.4122\n",
            "Epoch 17/40\n",
            "29/29 [==============================] - 1s 38ms/step - loss: 1.6114 - accuracy: 0.4628 - val_loss: 1.5651 - val_accuracy: 0.4224\n",
            "Epoch 18/40\n",
            "29/29 [==============================] - 1s 42ms/step - loss: 1.5612 - accuracy: 0.4639 - val_loss: 1.7387 - val_accuracy: 0.3740\n",
            "Epoch 19/40\n",
            "29/29 [==============================] - 1s 36ms/step - loss: 1.5784 - accuracy: 0.4562 - val_loss: 1.5289 - val_accuracy: 0.4987\n",
            "Epoch 20/40\n",
            "29/29 [==============================] - 1s 42ms/step - loss: 1.3761 - accuracy: 0.5339 - val_loss: 1.4418 - val_accuracy: 0.5445\n",
            "Epoch 21/40\n",
            "29/29 [==============================] - 1s 40ms/step - loss: 1.3255 - accuracy: 0.5689 - val_loss: 1.3625 - val_accuracy: 0.5522\n",
            "Epoch 22/40\n",
            "29/29 [==============================] - 1s 44ms/step - loss: 1.2413 - accuracy: 0.6018 - val_loss: 1.2516 - val_accuracy: 0.5929\n",
            "Epoch 23/40\n",
            "29/29 [==============================] - 1s 38ms/step - loss: 1.2347 - accuracy: 0.5755 - val_loss: 1.3834 - val_accuracy: 0.5598\n",
            "Epoch 24/40\n",
            "29/29 [==============================] - 1s 36ms/step - loss: 1.1701 - accuracy: 0.5985 - val_loss: 1.5601 - val_accuracy: 0.4987\n",
            "Epoch 25/40\n",
            "29/29 [==============================] - 1s 36ms/step - loss: 1.2145 - accuracy: 0.5810 - val_loss: 1.1712 - val_accuracy: 0.6489\n",
            "Epoch 26/40\n",
            "29/29 [==============================] - 1s 37ms/step - loss: 1.0664 - accuracy: 0.6422 - val_loss: 1.1352 - val_accuracy: 0.6412\n",
            "Epoch 27/40\n",
            "29/29 [==============================] - 1s 37ms/step - loss: 1.0152 - accuracy: 0.6565 - val_loss: 1.1720 - val_accuracy: 0.6285\n",
            "Epoch 28/40\n",
            "29/29 [==============================] - 1s 42ms/step - loss: 0.9479 - accuracy: 0.6805 - val_loss: 1.3112 - val_accuracy: 0.5802\n",
            "Epoch 29/40\n",
            "29/29 [==============================] - 1s 47ms/step - loss: 1.0228 - accuracy: 0.6433 - val_loss: 1.1620 - val_accuracy: 0.5929\n",
            "Epoch 30/40\n",
            "29/29 [==============================] - 1s 46ms/step - loss: 0.9872 - accuracy: 0.6608 - val_loss: 1.0451 - val_accuracy: 0.6692\n",
            "Epoch 31/40\n",
            "29/29 [==============================] - 1s 41ms/step - loss: 0.9161 - accuracy: 0.6849 - val_loss: 1.0754 - val_accuracy: 0.6412\n",
            "Epoch 32/40\n",
            "29/29 [==============================] - 1s 38ms/step - loss: 0.8626 - accuracy: 0.7002 - val_loss: 1.0852 - val_accuracy: 0.6768\n",
            "Epoch 33/40\n",
            "29/29 [==============================] - 1s 38ms/step - loss: 0.8469 - accuracy: 0.7265 - val_loss: 0.9492 - val_accuracy: 0.6921\n",
            "Epoch 34/40\n",
            "29/29 [==============================] - 1s 38ms/step - loss: 0.7421 - accuracy: 0.7571 - val_loss: 0.9092 - val_accuracy: 0.7201\n",
            "Epoch 35/40\n",
            "29/29 [==============================] - 1s 37ms/step - loss: 0.7061 - accuracy: 0.7724 - val_loss: 0.9489 - val_accuracy: 0.7354\n",
            "Epoch 36/40\n",
            "29/29 [==============================] - 1s 40ms/step - loss: 0.6941 - accuracy: 0.7691 - val_loss: 0.8107 - val_accuracy: 0.7405\n",
            "Epoch 37/40\n",
            "29/29 [==============================] - 1s 38ms/step - loss: 0.6711 - accuracy: 0.7812 - val_loss: 0.9026 - val_accuracy: 0.7150\n",
            "Epoch 38/40\n",
            "29/29 [==============================] - 1s 37ms/step - loss: 0.6495 - accuracy: 0.7691 - val_loss: 0.8708 - val_accuracy: 0.7176\n",
            "Epoch 39/40\n",
            "29/29 [==============================] - 1s 36ms/step - loss: 0.6421 - accuracy: 0.7921 - val_loss: 0.8353 - val_accuracy: 0.7557\n",
            "Epoch 40/40\n",
            "29/29 [==============================] - 1s 36ms/step - loss: 0.6463 - accuracy: 0.7965 - val_loss: 0.8490 - val_accuracy: 0.7354\n",
            "21/21 [==============================] - 1s 12ms/step\n",
            "Epoch 1/40\n",
            "29/29 [==============================] - 3s 54ms/step - loss: 2.6196 - accuracy: 0.1007 - val_loss: 2.5342 - val_accuracy: 0.1170\n",
            "Epoch 2/40\n",
            "29/29 [==============================] - 1s 40ms/step - loss: 2.5759 - accuracy: 0.1280 - val_loss: 2.6269 - val_accuracy: 0.0814\n",
            "Epoch 3/40\n",
            "29/29 [==============================] - 1s 40ms/step - loss: 2.5548 - accuracy: 0.1083 - val_loss: 2.5187 - val_accuracy: 0.1603\n",
            "Epoch 4/40\n",
            "29/29 [==============================] - 1s 47ms/step - loss: 2.6026 - accuracy: 0.1269 - val_loss: 2.6055 - val_accuracy: 0.1705\n",
            "Epoch 5/40\n",
            "29/29 [==============================] - 1s 36ms/step - loss: 2.5769 - accuracy: 0.1389 - val_loss: 2.5872 - val_accuracy: 0.1628\n",
            "Epoch 6/40\n",
            "29/29 [==============================] - 1s 37ms/step - loss: 2.5656 - accuracy: 0.1838 - val_loss: 2.5705 - val_accuracy: 0.1349\n",
            "Epoch 7/40\n",
            "29/29 [==============================] - 1s 40ms/step - loss: 2.5080 - accuracy: 0.1510 - val_loss: 2.5083 - val_accuracy: 0.1705\n",
            "Epoch 8/40\n",
            "29/29 [==============================] - 1s 39ms/step - loss: 2.4386 - accuracy: 0.1893 - val_loss: 2.4545 - val_accuracy: 0.1756\n",
            "Epoch 9/40\n",
            "29/29 [==============================] - 1s 40ms/step - loss: 2.4376 - accuracy: 0.1805 - val_loss: 2.3884 - val_accuracy: 0.2290\n",
            "Epoch 10/40\n",
            "29/29 [==============================] - 1s 40ms/step - loss: 2.4109 - accuracy: 0.1860 - val_loss: 2.5629 - val_accuracy: 0.1170\n",
            "Epoch 11/40\n",
            "29/29 [==============================] - 1s 38ms/step - loss: 2.4768 - accuracy: 0.1586 - val_loss: 2.6188 - val_accuracy: 0.1578\n",
            "Epoch 12/40\n",
            "29/29 [==============================] - 1s 46ms/step - loss: 2.4875 - accuracy: 0.1433 - val_loss: 2.4353 - val_accuracy: 0.1552\n",
            "Epoch 13/40\n",
            "29/29 [==============================] - 1s 39ms/step - loss: 2.3697 - accuracy: 0.2013 - val_loss: 2.2938 - val_accuracy: 0.2366\n",
            "Epoch 14/40\n",
            "29/29 [==============================] - 1s 39ms/step - loss: 2.2662 - accuracy: 0.2385 - val_loss: 2.1049 - val_accuracy: 0.2901\n",
            "Epoch 15/40\n",
            "29/29 [==============================] - 1s 38ms/step - loss: 2.0952 - accuracy: 0.2899 - val_loss: 2.0133 - val_accuracy: 0.3053\n",
            "Epoch 16/40\n",
            "29/29 [==============================] - 1s 37ms/step - loss: 2.1071 - accuracy: 0.2615 - val_loss: 1.9488 - val_accuracy: 0.3028\n",
            "Epoch 17/40\n",
            "29/29 [==============================] - 1s 37ms/step - loss: 1.8657 - accuracy: 0.3381 - val_loss: 1.7985 - val_accuracy: 0.3588\n",
            "Epoch 18/40\n",
            "29/29 [==============================] - 1s 38ms/step - loss: 1.7887 - accuracy: 0.3775 - val_loss: 1.7910 - val_accuracy: 0.3537\n",
            "Epoch 19/40\n",
            "29/29 [==============================] - 1s 40ms/step - loss: 1.6694 - accuracy: 0.3917 - val_loss: 1.7105 - val_accuracy: 0.3919\n",
            "Epoch 20/40\n",
            "29/29 [==============================] - 1s 39ms/step - loss: 1.7026 - accuracy: 0.3895 - val_loss: 1.7916 - val_accuracy: 0.4071\n",
            "Epoch 21/40\n",
            "29/29 [==============================] - 1s 38ms/step - loss: 1.5957 - accuracy: 0.4278 - val_loss: 1.7744 - val_accuracy: 0.3588\n",
            "Epoch 22/40\n",
            "29/29 [==============================] - 1s 47ms/step - loss: 1.4776 - accuracy: 0.4891 - val_loss: 1.5842 - val_accuracy: 0.4427\n",
            "Epoch 23/40\n",
            "29/29 [==============================] - 1s 44ms/step - loss: 1.4485 - accuracy: 0.5077 - val_loss: 1.4425 - val_accuracy: 0.5191\n",
            "Epoch 24/40\n",
            "29/29 [==============================] - 1s 37ms/step - loss: 1.3626 - accuracy: 0.5044 - val_loss: 1.4981 - val_accuracy: 0.4580\n",
            "Epoch 25/40\n",
            "29/29 [==============================] - 1s 36ms/step - loss: 1.3416 - accuracy: 0.5088 - val_loss: 1.3309 - val_accuracy: 0.5471\n",
            "Epoch 26/40\n",
            "29/29 [==============================] - 1s 37ms/step - loss: 1.2866 - accuracy: 0.5383 - val_loss: 1.4295 - val_accuracy: 0.5013\n",
            "Epoch 27/40\n",
            "29/29 [==============================] - 1s 37ms/step - loss: 1.2027 - accuracy: 0.5941 - val_loss: 1.3229 - val_accuracy: 0.5496\n",
            "Epoch 28/40\n",
            "29/29 [==============================] - 1s 37ms/step - loss: 1.1652 - accuracy: 0.5963 - val_loss: 1.3309 - val_accuracy: 0.5445\n",
            "Epoch 29/40\n",
            "29/29 [==============================] - 1s 37ms/step - loss: 1.2677 - accuracy: 0.5580 - val_loss: 1.2906 - val_accuracy: 0.5522\n",
            "Epoch 30/40\n",
            "29/29 [==============================] - 1s 37ms/step - loss: 1.2014 - accuracy: 0.5755 - val_loss: 1.3290 - val_accuracy: 0.5369\n",
            "Epoch 31/40\n",
            "29/29 [==============================] - 1s 37ms/step - loss: 1.1370 - accuracy: 0.6236 - val_loss: 1.0975 - val_accuracy: 0.6310\n",
            "Epoch 32/40\n",
            "29/29 [==============================] - 1s 36ms/step - loss: 1.0103 - accuracy: 0.6575 - val_loss: 1.2287 - val_accuracy: 0.6031\n",
            "Epoch 33/40\n",
            "29/29 [==============================] - 1s 37ms/step - loss: 0.9481 - accuracy: 0.6685 - val_loss: 1.0149 - val_accuracy: 0.6463\n",
            "Epoch 34/40\n",
            "29/29 [==============================] - 1s 38ms/step - loss: 0.9873 - accuracy: 0.6466 - val_loss: 1.1397 - val_accuracy: 0.6234\n",
            "Epoch 35/40\n",
            "29/29 [==============================] - 1s 38ms/step - loss: 0.9519 - accuracy: 0.6663 - val_loss: 0.9987 - val_accuracy: 0.6743\n",
            "Epoch 36/40\n",
            "29/29 [==============================] - 1s 37ms/step - loss: 0.8476 - accuracy: 0.7090 - val_loss: 0.9039 - val_accuracy: 0.6997\n",
            "Epoch 37/40\n",
            "29/29 [==============================] - 1s 38ms/step - loss: 0.7816 - accuracy: 0.7418 - val_loss: 1.0715 - val_accuracy: 0.6743\n",
            "Epoch 38/40\n",
            "29/29 [==============================] - 1s 37ms/step - loss: 1.0307 - accuracy: 0.6543 - val_loss: 1.1580 - val_accuracy: 0.6361\n",
            "Epoch 39/40\n",
            "29/29 [==============================] - 1s 37ms/step - loss: 0.8986 - accuracy: 0.7046 - val_loss: 1.0292 - val_accuracy: 0.6489\n",
            "Epoch 40/40\n",
            "29/29 [==============================] - 1s 37ms/step - loss: 0.8132 - accuracy: 0.7221 - val_loss: 0.9543 - val_accuracy: 0.6768\n",
            "21/21 [==============================] - 1s 15ms/step\n",
            "Epoch 1/40\n",
            "43/43 [==============================] - 2s 26ms/step - loss: 2.6042 - accuracy: 0.1006 - val_loss: 2.6427 - val_accuracy: 0.1003\n",
            "Epoch 2/40\n",
            "43/43 [==============================] - 1s 12ms/step - loss: 2.5493 - accuracy: 0.1596 - val_loss: 2.4302 - val_accuracy: 0.1497\n",
            "Epoch 3/40\n",
            "43/43 [==============================] - 1s 12ms/step - loss: 2.2017 - accuracy: 0.2201 - val_loss: 1.9580 - val_accuracy: 0.2670\n",
            "Epoch 4/40\n",
            "43/43 [==============================] - 1s 13ms/step - loss: 1.9672 - accuracy: 0.2719 - val_loss: 1.7380 - val_accuracy: 0.3929\n",
            "Epoch 5/40\n",
            "43/43 [==============================] - 1s 24ms/step - loss: 1.7732 - accuracy: 0.3673 - val_loss: 1.7575 - val_accuracy: 0.3520\n",
            "Epoch 6/40\n",
            "43/43 [==============================] - 1s 16ms/step - loss: 1.8073 - accuracy: 0.3426 - val_loss: 1.8542 - val_accuracy: 0.3265\n",
            "Epoch 7/40\n",
            "43/43 [==============================] - 1s 12ms/step - loss: 1.7284 - accuracy: 0.3739 - val_loss: 1.6026 - val_accuracy: 0.4184\n",
            "Epoch 8/40\n",
            "43/43 [==============================] - 1s 14ms/step - loss: 1.7182 - accuracy: 0.3652 - val_loss: 1.7047 - val_accuracy: 0.3622\n",
            "Epoch 9/40\n",
            "43/43 [==============================] - 1s 14ms/step - loss: 1.5934 - accuracy: 0.4402 - val_loss: 1.5973 - val_accuracy: 0.4235\n",
            "Epoch 10/40\n",
            "43/43 [==============================] - 1s 12ms/step - loss: 1.5245 - accuracy: 0.4483 - val_loss: 1.3832 - val_accuracy: 0.4932\n",
            "Epoch 11/40\n",
            "43/43 [==============================] - 1s 12ms/step - loss: 1.5114 - accuracy: 0.4585 - val_loss: 1.3612 - val_accuracy: 0.5068\n",
            "Epoch 12/40\n",
            "43/43 [==============================] - 1s 12ms/step - loss: 1.4259 - accuracy: 0.4832 - val_loss: 1.2690 - val_accuracy: 0.5527\n",
            "Epoch 13/40\n",
            "43/43 [==============================] - 1s 13ms/step - loss: 1.2951 - accuracy: 0.5481 - val_loss: 1.2064 - val_accuracy: 0.5867\n",
            "Epoch 14/40\n",
            "43/43 [==============================] - 1s 13ms/step - loss: 1.3037 - accuracy: 0.5452 - val_loss: 1.2962 - val_accuracy: 0.5561\n",
            "Epoch 15/40\n",
            "43/43 [==============================] - 1s 13ms/step - loss: 1.2047 - accuracy: 0.5714 - val_loss: 1.0700 - val_accuracy: 0.6514\n",
            "Epoch 16/40\n",
            "43/43 [==============================] - 1s 13ms/step - loss: 1.1983 - accuracy: 0.5853 - val_loss: 1.0421 - val_accuracy: 0.6684\n",
            "Epoch 17/40\n",
            "43/43 [==============================] - 1s 14ms/step - loss: 1.2321 - accuracy: 0.5692 - val_loss: 1.1601 - val_accuracy: 0.6241\n",
            "Epoch 18/40\n",
            "43/43 [==============================] - 1s 13ms/step - loss: 1.0642 - accuracy: 0.6130 - val_loss: 1.1521 - val_accuracy: 0.5918\n",
            "Epoch 19/40\n",
            "43/43 [==============================] - 1s 13ms/step - loss: 0.9935 - accuracy: 0.6552 - val_loss: 0.9485 - val_accuracy: 0.6990\n",
            "Epoch 20/40\n",
            "43/43 [==============================] - 1s 14ms/step - loss: 0.9223 - accuracy: 0.6735 - val_loss: 0.9425 - val_accuracy: 0.6905\n",
            "Epoch 21/40\n",
            "43/43 [==============================] - 1s 13ms/step - loss: 0.8964 - accuracy: 0.6953 - val_loss: 1.0146 - val_accuracy: 0.6446\n",
            "Epoch 22/40\n",
            "43/43 [==============================] - 1s 14ms/step - loss: 0.8418 - accuracy: 0.7077 - val_loss: 1.0628 - val_accuracy: 0.6412\n",
            "Epoch 23/40\n",
            "43/43 [==============================] - 1s 14ms/step - loss: 0.8580 - accuracy: 0.6990 - val_loss: 0.8377 - val_accuracy: 0.7432\n",
            "Epoch 24/40\n",
            "43/43 [==============================] - 1s 15ms/step - loss: 0.7845 - accuracy: 0.7187 - val_loss: 0.9862 - val_accuracy: 0.6871\n",
            "Epoch 25/40\n",
            "43/43 [==============================] - 1s 13ms/step - loss: 0.8579 - accuracy: 0.7004 - val_loss: 0.7947 - val_accuracy: 0.7415\n",
            "Epoch 26/40\n",
            "43/43 [==============================] - 1s 13ms/step - loss: 0.7627 - accuracy: 0.7507 - val_loss: 0.8058 - val_accuracy: 0.7330\n",
            "Epoch 27/40\n",
            "43/43 [==============================] - 1s 15ms/step - loss: 0.6368 - accuracy: 0.7886 - val_loss: 0.8005 - val_accuracy: 0.7619\n",
            "Epoch 28/40\n",
            "43/43 [==============================] - 1s 13ms/step - loss: 0.6832 - accuracy: 0.7668 - val_loss: 0.7989 - val_accuracy: 0.7279\n",
            "Epoch 29/40\n",
            "43/43 [==============================] - 1s 15ms/step - loss: 0.6905 - accuracy: 0.7646 - val_loss: 0.8025 - val_accuracy: 0.7551\n",
            "Epoch 30/40\n",
            "43/43 [==============================] - 1s 13ms/step - loss: 0.6183 - accuracy: 0.7923 - val_loss: 0.7247 - val_accuracy: 0.7449\n",
            "Epoch 31/40\n",
            "43/43 [==============================] - 1s 13ms/step - loss: 0.5646 - accuracy: 0.7974 - val_loss: 0.5610 - val_accuracy: 0.8180\n",
            "Epoch 32/40\n",
            "43/43 [==============================] - 1s 15ms/step - loss: 0.5940 - accuracy: 0.7930 - val_loss: 0.6585 - val_accuracy: 0.7823\n",
            "Epoch 33/40\n",
            "43/43 [==============================] - 1s 15ms/step - loss: 0.4915 - accuracy: 0.8389 - val_loss: 0.5558 - val_accuracy: 0.8316\n",
            "Epoch 34/40\n",
            "43/43 [==============================] - 1s 13ms/step - loss: 0.5010 - accuracy: 0.8265 - val_loss: 0.7941 - val_accuracy: 0.7602\n",
            "Epoch 35/40\n",
            "43/43 [==============================] - 1s 13ms/step - loss: 0.5083 - accuracy: 0.8324 - val_loss: 0.5411 - val_accuracy: 0.8299\n",
            "Epoch 36/40\n",
            "43/43 [==============================] - 1s 13ms/step - loss: 0.4605 - accuracy: 0.8418 - val_loss: 0.7764 - val_accuracy: 0.7585\n",
            "Epoch 37/40\n",
            "43/43 [==============================] - 1s 13ms/step - loss: 0.5130 - accuracy: 0.8353 - val_loss: 0.5204 - val_accuracy: 0.8401\n",
            "Epoch 38/40\n",
            "43/43 [==============================] - 1s 14ms/step - loss: 0.3871 - accuracy: 0.8666 - val_loss: 0.6302 - val_accuracy: 0.8010\n",
            "Epoch 39/40\n",
            "43/43 [==============================] - 1s 13ms/step - loss: 0.3823 - accuracy: 0.8659 - val_loss: 0.5200 - val_accuracy: 0.8316\n",
            "Epoch 40/40\n",
            "43/43 [==============================] - 1s 13ms/step - loss: 0.4006 - accuracy: 0.8710 - val_loss: 0.6264 - val_accuracy: 0.7976\n"
          ]
        },
        {
          "output_type": "execute_result",
          "data": {
            "text/plain": [
              "GridSearchCV(cv=3,\n",
              "             estimator=KerasClassifier(loss='categorical_crossentropy', metrics=['accuracy'], model=<function create_model_LSTM_All_Ch_Optimize_nbUnits at 0x7f6ece66e790>, optimizer=<keras.optimizers.optimizer_v2.adam.Adam object at 0x7f6ec1dd0b80>),\n",
              "             param_grid={'model__nbUnits': [50, 200, 300, 500, 850]})"
            ]
          },
          "metadata": {},
          "execution_count": 51
        }
      ],
      "source": [
        "import numpy as np\n",
        "from sklearn.model_selection import GridSearchCV\n",
        "from scikeras.wrappers import KerasClassifier\n",
        "\n",
        "## Cherchez le meilleur paramètre nbUnit pour create_model_LSTM_All_Ch\n",
        "nbUnits=[50, 200, 300, 500, 850]\n",
        "param_grid = dict(model__nbUnits=nbUnits)\n",
        "\n",
        "model = KerasClassifier(model=create_model_LSTM_All_Ch_Optimize_nbUnits,\n",
        "                        optimizer=optimizer,\n",
        "                        loss=loss,\n",
        "                        metrics=metrics)\n",
        "\n",
        "cv = GridSearchCV(estimator=model,\n",
        "                  param_grid=param_grid,\n",
        "                  cv=3)\n",
        "cv.fit(x_train, y_train,\n",
        "       validation_split=0.3,\n",
        "       epochs=40,\n",
        "       batch_size=32)"
      ]
    },
    {
      "cell_type": "markdown",
      "metadata": {
        "id": "KD8SZ6XdShiT"
      },
      "source": [
        "#### 6.2 Best nbUnits"
      ]
    },
    {
      "cell_type": "code",
      "execution_count": 52,
      "metadata": {
        "id": "aJFsOG649_M-",
        "colab": {
          "base_uri": "https://localhost:8080/",
          "height": 296
        },
        "outputId": "355925fd-aeb7-42b4-bfd7-16cf2864e608"
      },
      "outputs": [
        {
          "output_type": "execute_result",
          "data": {
            "text/plain": [
              "Text(0, 0.5, 'accuracy')"
            ]
          },
          "metadata": {},
          "execution_count": 52
        },
        {
          "output_type": "display_data",
          "data": {
            "text/plain": [
              "<Figure size 432x288 with 1 Axes>"
            ],
            "image/png": "[encoded data removed]"
          },
          "metadata": {
            "needs_background": "light"
          }
        }
      ],
      "source": [
        "## Plot des résultats de la validation croisée ( on veut représenter l'évolution des performances en fonction\n",
        "## des paramètres)\n",
        "import seaborn as sns\n",
        "import pandas as pd\n",
        "\n",
        "res = cv.cv_results_\n",
        "x = [x['model__nbUnits'] for x in res['params']]\n",
        "y = res['mean_test_score']\n",
        "stds = res['std_test_score']\n",
        "\n",
        "sns.lineplot(x=x, y=y)\n",
        "lower_bound = y - stds\n",
        "upper_bound = y + stds\n",
        "plt.fill_between(x, lower_bound, upper_bound, alpha=.3)\n",
        "plt.xlabel('nbUnits')\n",
        "plt.ylabel('accuracy')"
      ]
    },
    {
      "cell_type": "markdown",
      "metadata": {
        "id": "v-xSYar9Vr6s"
      },
      "source": [
        "The best hyperparameter is nbUnits=200.\n",
        "\n"
      ]
    },
    {
      "cell_type": "code",
      "execution_count": 65,
      "metadata": {
        "id": "FOu8GfohW-pX"
      },
      "outputs": [],
      "source": [
        "nbUnits = 200"
      ]
    },
    {
      "cell_type": "markdown",
      "metadata": {
        "id": "0wrUD6KtWhRP"
      },
      "source": [
        "#### 6.3 Optimized accuracy"
      ]
    },
    {
      "cell_type": "code",
      "execution_count": 66,
      "metadata": {
        "colab": {
          "base_uri": "https://localhost:8080/"
        },
        "id": "coxjg5mAVb6O",
        "outputId": "11119e0f-056b-421c-9e78-863081079958"
      },
      "outputs": [
        {
          "output_type": "stream",
          "name": "stdout",
          "text": [
            "Epoch 1/100\n",
            "43/43 [==============================] - 2s 23ms/step - loss: 2.6110 - accuracy: 0.0977 - val_loss: 2.5182 - val_accuracy: 0.1395\n",
            "Epoch 2/100\n",
            "43/43 [==============================] - 1s 13ms/step - loss: 2.4755 - accuracy: 0.1283 - val_loss: 2.3907 - val_accuracy: 0.1990\n",
            "Epoch 3/100\n",
            "43/43 [==============================] - 0s 11ms/step - loss: 2.4125 - accuracy: 0.2041 - val_loss: 2.4415 - val_accuracy: 0.1650\n",
            "Epoch 4/100\n",
            "43/43 [==============================] - 0s 11ms/step - loss: 2.2284 - accuracy: 0.2558 - val_loss: 1.9709 - val_accuracy: 0.2976\n",
            "Epoch 5/100\n",
            "43/43 [==============================] - 0s 11ms/step - loss: 1.9735 - accuracy: 0.2996 - val_loss: 1.8466 - val_accuracy: 0.3537\n",
            "Epoch 6/100\n",
            "43/43 [==============================] - 0s 11ms/step - loss: 1.8010 - accuracy: 0.3550 - val_loss: 1.9429 - val_accuracy: 0.3622\n",
            "Epoch 7/100\n",
            "43/43 [==============================] - 0s 11ms/step - loss: 1.8445 - accuracy: 0.3535 - val_loss: 2.1339 - val_accuracy: 0.2840\n",
            "Epoch 8/100\n",
            "43/43 [==============================] - 0s 11ms/step - loss: 1.8583 - accuracy: 0.3455 - val_loss: 1.6082 - val_accuracy: 0.4660\n",
            "Epoch 9/100\n",
            "43/43 [==============================] - 1s 13ms/step - loss: 1.7477 - accuracy: 0.3870 - val_loss: 1.7380 - val_accuracy: 0.4201\n",
            "Epoch 10/100\n",
            "43/43 [==============================] - 1s 12ms/step - loss: 1.6603 - accuracy: 0.4213 - val_loss: 1.5307 - val_accuracy: 0.4864\n",
            "Epoch 11/100\n",
            "43/43 [==============================] - 0s 12ms/step - loss: 1.5460 - accuracy: 0.4716 - val_loss: 1.3570 - val_accuracy: 0.5493\n",
            "Epoch 12/100\n",
            "43/43 [==============================] - 0s 11ms/step - loss: 1.4182 - accuracy: 0.5182 - val_loss: 1.6308 - val_accuracy: 0.4235\n",
            "Epoch 13/100\n",
            "43/43 [==============================] - 1s 12ms/step - loss: 1.5113 - accuracy: 0.4759 - val_loss: 1.3667 - val_accuracy: 0.5442\n",
            "Epoch 14/100\n",
            "43/43 [==============================] - 0s 11ms/step - loss: 1.3328 - accuracy: 0.5554 - val_loss: 1.3906 - val_accuracy: 0.5425\n",
            "Epoch 15/100\n",
            "43/43 [==============================] - 0s 11ms/step - loss: 1.2442 - accuracy: 0.5918 - val_loss: 1.4699 - val_accuracy: 0.5204\n",
            "Epoch 16/100\n",
            "43/43 [==============================] - 0s 11ms/step - loss: 1.2369 - accuracy: 0.5904 - val_loss: 1.1637 - val_accuracy: 0.6156\n",
            "Epoch 17/100\n",
            "43/43 [==============================] - 1s 12ms/step - loss: 1.0828 - accuracy: 0.6378 - val_loss: 1.0179 - val_accuracy: 0.6701\n",
            "Epoch 18/100\n",
            "43/43 [==============================] - 1s 13ms/step - loss: 0.9299 - accuracy: 0.7026 - val_loss: 0.9493 - val_accuracy: 0.7143\n",
            "Epoch 19/100\n",
            "43/43 [==============================] - 0s 11ms/step - loss: 0.8413 - accuracy: 0.7252 - val_loss: 0.8719 - val_accuracy: 0.7347\n",
            "Epoch 20/100\n",
            "43/43 [==============================] - 0s 11ms/step - loss: 0.8143 - accuracy: 0.7208 - val_loss: 0.8438 - val_accuracy: 0.7398\n",
            "Epoch 21/100\n",
            "43/43 [==============================] - 1s 12ms/step - loss: 0.7479 - accuracy: 0.7595 - val_loss: 0.7719 - val_accuracy: 0.7466\n",
            "Epoch 22/100\n",
            "43/43 [==============================] - 0s 11ms/step - loss: 0.6913 - accuracy: 0.7741 - val_loss: 0.7388 - val_accuracy: 0.7568\n",
            "Epoch 23/100\n",
            "43/43 [==============================] - 0s 11ms/step - loss: 0.6843 - accuracy: 0.7872 - val_loss: 0.6689 - val_accuracy: 0.7942\n",
            "Epoch 24/100\n",
            "43/43 [==============================] - 1s 13ms/step - loss: 0.5796 - accuracy: 0.8236 - val_loss: 0.7257 - val_accuracy: 0.7551\n",
            "Epoch 25/100\n",
            "43/43 [==============================] - 1s 12ms/step - loss: 0.5990 - accuracy: 0.8105 - val_loss: 0.6661 - val_accuracy: 0.7908\n",
            "Epoch 26/100\n",
            "43/43 [==============================] - 1s 12ms/step - loss: 0.5544 - accuracy: 0.8163 - val_loss: 0.5680 - val_accuracy: 0.8180\n",
            "Epoch 27/100\n",
            "43/43 [==============================] - 1s 12ms/step - loss: 0.5203 - accuracy: 0.8243 - val_loss: 0.5984 - val_accuracy: 0.8350\n",
            "Epoch 28/100\n",
            "43/43 [==============================] - 1s 12ms/step - loss: 0.4691 - accuracy: 0.8586 - val_loss: 0.5439 - val_accuracy: 0.8214\n",
            "Epoch 29/100\n",
            "43/43 [==============================] - 1s 12ms/step - loss: 0.4204 - accuracy: 0.8673 - val_loss: 0.5403 - val_accuracy: 0.8384\n",
            "Epoch 30/100\n",
            "43/43 [==============================] - 1s 13ms/step - loss: 0.4156 - accuracy: 0.8724 - val_loss: 0.5070 - val_accuracy: 0.8350\n",
            "Epoch 31/100\n",
            "43/43 [==============================] - 1s 13ms/step - loss: 0.3417 - accuracy: 0.8914 - val_loss: 0.4517 - val_accuracy: 0.8639\n",
            "Epoch 32/100\n",
            "43/43 [==============================] - 0s 12ms/step - loss: 0.3095 - accuracy: 0.8972 - val_loss: 0.4605 - val_accuracy: 0.8537\n",
            "Epoch 33/100\n",
            "43/43 [==============================] - 1s 12ms/step - loss: 0.3547 - accuracy: 0.8797 - val_loss: 0.5329 - val_accuracy: 0.8401\n",
            "Epoch 34/100\n",
            "43/43 [==============================] - 0s 12ms/step - loss: 0.3563 - accuracy: 0.8841 - val_loss: 0.5422 - val_accuracy: 0.8435\n",
            "Epoch 35/100\n",
            "43/43 [==============================] - 1s 13ms/step - loss: 0.3832 - accuracy: 0.8761 - val_loss: 0.7578 - val_accuracy: 0.7653\n",
            "Epoch 36/100\n",
            "43/43 [==============================] - 1s 13ms/step - loss: 0.3833 - accuracy: 0.8739 - val_loss: 0.5119 - val_accuracy: 0.8520\n",
            "Epoch 37/100\n",
            "43/43 [==============================] - 1s 12ms/step - loss: 0.2916 - accuracy: 0.9096 - val_loss: 0.4698 - val_accuracy: 0.8673\n",
            "Epoch 38/100\n",
            "43/43 [==============================] - 1s 12ms/step - loss: 0.2651 - accuracy: 0.9125 - val_loss: 0.4645 - val_accuracy: 0.8571\n",
            "Epoch 39/100\n",
            "43/43 [==============================] - 0s 12ms/step - loss: 0.2531 - accuracy: 0.9206 - val_loss: 0.4284 - val_accuracy: 0.8656\n",
            "Epoch 40/100\n",
            "43/43 [==============================] - 0s 12ms/step - loss: 0.2253 - accuracy: 0.9322 - val_loss: 0.4296 - val_accuracy: 0.8724\n",
            "Epoch 41/100\n",
            "43/43 [==============================] - 0s 12ms/step - loss: 0.2420 - accuracy: 0.9206 - val_loss: 0.5684 - val_accuracy: 0.8299\n",
            "Epoch 42/100\n",
            "43/43 [==============================] - 0s 11ms/step - loss: 0.3190 - accuracy: 0.8958 - val_loss: 0.4858 - val_accuracy: 0.8401\n",
            "Epoch 43/100\n",
            "43/43 [==============================] - 0s 11ms/step - loss: 0.2697 - accuracy: 0.9176 - val_loss: 0.4722 - val_accuracy: 0.8503\n",
            "Epoch 44/100\n",
            "43/43 [==============================] - 0s 11ms/step - loss: 0.2307 - accuracy: 0.9293 - val_loss: 0.4265 - val_accuracy: 0.8622\n",
            "Epoch 45/100\n",
            "43/43 [==============================] - 0s 11ms/step - loss: 0.2343 - accuracy: 0.9278 - val_loss: 0.4752 - val_accuracy: 0.8486\n",
            "Epoch 46/100\n",
            "43/43 [==============================] - 0s 12ms/step - loss: 0.1933 - accuracy: 0.9380 - val_loss: 0.3874 - val_accuracy: 0.8776\n",
            "Epoch 47/100\n",
            "43/43 [==============================] - 0s 11ms/step - loss: 0.1647 - accuracy: 0.9526 - val_loss: 0.3438 - val_accuracy: 0.9048\n",
            "Epoch 48/100\n",
            "43/43 [==============================] - 0s 11ms/step - loss: 0.1411 - accuracy: 0.9606 - val_loss: 0.4205 - val_accuracy: 0.8929\n",
            "Epoch 49/100\n",
            "43/43 [==============================] - 1s 12ms/step - loss: 0.1450 - accuracy: 0.9548 - val_loss: 0.4200 - val_accuracy: 0.8878\n",
            "Epoch 50/100\n",
            "43/43 [==============================] - 1s 12ms/step - loss: 0.1915 - accuracy: 0.9431 - val_loss: 0.3919 - val_accuracy: 0.8724\n",
            "Epoch 51/100\n",
            "43/43 [==============================] - 0s 12ms/step - loss: 0.2052 - accuracy: 0.9388 - val_loss: 0.4658 - val_accuracy: 0.8486\n",
            "Epoch 52/100\n",
            "43/43 [==============================] - 0s 11ms/step - loss: 0.2285 - accuracy: 0.9286 - val_loss: 0.3836 - val_accuracy: 0.8810\n",
            "Epoch 53/100\n",
            "43/43 [==============================] - 0s 11ms/step - loss: 0.1980 - accuracy: 0.9373 - val_loss: 0.7327 - val_accuracy: 0.7993\n",
            "Epoch 54/100\n",
            "43/43 [==============================] - 1s 12ms/step - loss: 0.3033 - accuracy: 0.9067 - val_loss: 0.4460 - val_accuracy: 0.8435\n",
            "Epoch 55/100\n",
            "43/43 [==============================] - 0s 11ms/step - loss: 0.2416 - accuracy: 0.9249 - val_loss: 0.3616 - val_accuracy: 0.8793\n",
            "Epoch 56/100\n",
            "43/43 [==============================] - 0s 12ms/step - loss: 0.1258 - accuracy: 0.9665 - val_loss: 0.3653 - val_accuracy: 0.8861\n"
          ]
        }
      ],
      "source": [
        "model_LSTM_All_Ch = create_model_LSTM_All_Ch(nbClasses=nbClasses, nbUnits=nbUnits, lengthTimeseries=lengthTimeseries, nbTimeseries=nbTimeseries)\n",
        "model_LSTM_All_Ch.compile(optimizer=optimizer, loss=loss, metrics=metrics)\n",
        "history_LSTM_All_Ch = model_LSTM_All_Ch.fit(x_train, y_train, validation_split=0.3, epochs=100, batch_size=32, callbacks=[earlyStop])"
      ]
    },
    {
      "cell_type": "code",
      "execution_count": 67,
      "metadata": {
        "colab": {
          "base_uri": "https://localhost:8080/",
          "height": 590
        },
        "id": "Ad86EH2beEfo",
        "outputId": "136efd52-1907-4ed6-e630-a2a32bfdbf26"
      },
      "outputs": [
        {
          "output_type": "display_data",
          "data": {
            "text/plain": [
              "<Figure size 432x288 with 1 Axes>"
            ],
            "image/png": "[encoded data removed]"
          },
          "metadata": {
            "needs_background": "light"
          }
        },
        {
          "output_type": "display_data",
          "data": {
            "text/plain": [
              "<Figure size 432x288 with 1 Axes>"
            ],
            "image/png": "[encoded data removed]"
          },
          "metadata": {
            "needs_background": "light"
          }
        },
        {
          "output_type": "stream",
          "name": "stdout",
          "text": [
            "27/27 [==============================] - 0s 7ms/step - loss: 0.6098 - accuracy: 0.8339\n"
          ]
        }
      ],
      "source": [
        "# plot everything\n",
        "# summarize history for accuracy\n",
        "plt.plot(history_LSTM_All_Ch.history['accuracy'])\n",
        "plt.plot(history_LSTM_All_Ch.history['val_accuracy'])\n",
        "plt.title('model accuracy')\n",
        "plt.ylabel('accuracy')\n",
        "plt.xlabel('epoch')\n",
        "plt.legend(['train', 'test'], loc='upper left')\n",
        "plt.show()\n",
        "# summarize history for loss\n",
        "plt.plot(history_LSTM_All_Ch.history['loss'])\n",
        "plt.plot(history_LSTM_All_Ch.history['val_loss'])\n",
        "plt.title('model loss')\n",
        "plt.ylabel('loss')\n",
        "plt.xlabel('epoch')\n",
        "plt.legend(['train', 'test'], loc='upper left')\n",
        "plt.show()\n",
        "_, test_accuracy = model_LSTM_All_Ch.evaluate(x_test, y_test)"
      ]
    },
    {
      "cell_type": "markdown",
      "metadata": {
        "id": "zmfpW--rVB_9"
      },
      "source": [
        "The accuracy are the following :\n",
        "\n",
        "    model_CONV1D : 0.81\n",
        "\n",
        "    model_LSTM_Ch_by_Ch : 0.76\n",
        "\n",
        "    model_LSTM_All_Ch without tuning nbunits : 0.75\n",
        "\n",
        "    model_LSTM_All_Ch with tuning nbunits : 0.84\n",
        "\n",
        "\n"
      ]
    },
    {
      "cell_type": "markdown",
      "source": [
        "### Summary\n",
        "In this notebook, we presented a work that involve the temporal convolutional network, and RNN approaches for time series tasks. Overall, convolutional layers better identified the features in time series than LSTM. LSTM is less efficient in processing long history sequence. By tuning only nbunits we increase the accuracy of the model by 0.9, we can still tune other hyperparameters and get higher accuracy, such as the number of epocs and the batch size! A simple LSTM seems competitive with a complexe architecture with Conv1D! LSTMs are a theoretically stronger model and it can in theory learn to model arbitrarily long dependencies between its inputs (unlike the CNN with the limited window size)."
      ],
      "metadata": {
        "id": "0UDEX2anBx2s"
      }
    },
    {
      "cell_type": "code",
      "source": [],
      "metadata": {
        "id": "Eas_kIKfAh-X"
      },
      "execution_count": null,
      "outputs": []
    }
  ],
  "metadata": {
    "accelerator": "GPU",
    "colab": {
      "provenance": []
    },
    "kernelspec": {
      "display_name": "Python 3.9.12 ('base')",
      "language": "python",
      "name": "python3"
    },
    "language_info": {
      "codemirror_mode": {
        "name": "ipython",
        "version": 3
      },
      "file_extension": ".py",
      "mimetype": "text/x-python",
      "name": "python",
      "nbconvert_exporter": "python",
      "pygments_lexer": "ipython3",
      "version": "3.9.12"
    },
    "vscode": {
      "interpreter": {
        "hash": "aeae005699da9ee22f5f1999a0228188e87e61d9f977527a9e2e028c3963d1b8"
      }
    }
  },
  "nbformat": 4,
  "nbformat_minor": 0
}
